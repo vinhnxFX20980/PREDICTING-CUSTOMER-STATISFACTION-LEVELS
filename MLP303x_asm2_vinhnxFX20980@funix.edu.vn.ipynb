{
 "cells": [
  {
   "cell_type": "markdown",
   "metadata": {
    "id": "xXnSVVPJ9TpE"
   },
   "source": [
    "# 1.Tổng quan bài toán"
   ]
  },
  {
   "cell_type": "markdown",
   "metadata": {
    "id": "1j4J80LQ9TpK"
   },
   "source": [
    "Sự hài lòng của khách hàng là thước đo thành công hàng đầu đối với bất kỳ nâng hàng nào. Khách hàng không hài lòng thì sẽ không ở lại. Hơn nữa, những khách hàng không hài lòng hiếm khi nói lên sự không hài lòng của họ trước khi rời đi. Đó là vấn đề mà ngân hàng Santander đang yêu cầu mọi người giúp họ giải quyết bằng cách xác định sớm những khách hàng không hài lòng trong mối quan hệ giữa khách hàng và ngân hàng. Làm như vậy sẽ cho phép Santander thực hiện các bước chủ động để cải thiện sớm sự hài lòng của khách hàng trước khi quá muộn.\n",
    "\n",
    "Trong dự án này, học viên sẽ làm việc với hàng trăm đặc trưng ẩn danh để dự đoán xem khách hàng hài lòng hay không hài lòng với trải nghiệm đối với ngân hàng của họ.\n",
    "\n",
    "Nguồn dữ liệu: [**source**](https://www.kaggle.com/c/santander-customer-satisfaction/overview)"
   ]
  },
  {
   "cell_type": "markdown",
   "metadata": {
    "id": "cwS_vIs_9TpO"
   },
   "source": [
    "## 1.1 Load các package cần thiết\n",
    "\n",
    "- Bước đầu tiên trong việc xây dựng mô hình là load các thư viện cần thiết."
   ]
  },
  {
   "cell_type": "code",
   "execution_count": null,
   "metadata": {
    "id": "KOcajlIw9TpP"
   },
   "outputs": [],
   "source": [
    "import numpy as np\n",
    "import pandas as pd\n",
    "import matplotlib.pyplot as plt\n",
    "import seaborn as sns\n",
    "import warnings\n",
    "\n",
    "warnings.filterwarnings('ignore')\n",
    "%matplotlib inline"
   ]
  },
  {
   "cell_type": "markdown",
   "metadata": {
    "id": "XPxqiX9I9TpQ"
   },
   "source": [
    "## 1.2 Load tập dữ liệu\n",
    "\n",
    "- Bước tiếp theo là load tập dữ liệu."
   ]
  },
  {
   "cell_type": "code",
   "execution_count": null,
   "metadata": {
    "colab": {
     "base_uri": "https://localhost:8080/"
    },
    "id": "J-CsREG7ox_F",
    "outputId": "909a968f-a262-49ea-ffaf-6ace6c642e70"
   },
   "outputs": [
    {
     "name": "stdout",
     "output_type": "stream",
     "text": [
      "Mounted at /content/drive/\n"
     ]
    }
   ],
   "source": [
    "from google.colab import drive\n",
    "drive.mount('/content/drive/')"
   ]
  },
  {
   "cell_type": "code",
   "execution_count": null,
   "metadata": {
    "id": "C-6eGg8o9TpR"
   },
   "outputs": [],
   "source": [
    "train = pd.read_csv('/content/drive/MyDrive/asm2/train.csv')\n",
    "test = pd.read_csv('/content/drive/MyDrive/asm2/test.csv')"
   ]
  },
  {
   "cell_type": "code",
   "execution_count": null,
   "metadata": {
    "id": "wfNAVjXn9TpR"
   },
   "outputs": [],
   "source": [
    "test_id = test['ID']"
   ]
  },
  {
   "cell_type": "markdown",
   "metadata": {
    "id": "yGnBkzVi9TpS"
   },
   "source": [
    "# 2.Khai phá dữ liệu\n",
    "\n",
    "- Bây giờ, đã đến lúc khám phá dữ liệu để hiểu rõ hơn về nó."
   ]
  },
  {
   "cell_type": "markdown",
   "metadata": {
    "id": "CVPChEry9TpW"
   },
   "source": [
    "## 2.1 Tổng quan dữ liệu"
   ]
  },
  {
   "cell_type": "markdown",
   "metadata": {
    "id": "w24fYxCM9TpX"
   },
   "source": [
    "- Chúng ta sẽ loại bỏ đặc trưng **'ID'** bởi vì đặc trưng này không mang bất kỳ ý nghĩa nào trong việc xây dựng mô hình"
   ]
  },
  {
   "cell_type": "code",
   "execution_count": null,
   "metadata": {
    "id": "srsiKPDn9TpY"
   },
   "outputs": [],
   "source": [
    "## Requirement 1:\n",
    "## PUT YOUR CODE HERE:\n",
    "\n",
    "train.drop('ID', axis=1, inplace = True)\n",
    "test.drop('ID', axis=1, inplace = True)"
   ]
  },
  {
   "cell_type": "markdown",
   "metadata": {
    "id": "Ch5954XUk-2M"
   },
   "source": [
    "<details><summary> Hint </summary>\n",
    "\n",
    "[drop()](https://pandas.pydata.org/pandas-docs/version/1.3/reference/api/pandas.DataFrame.drop.html)\n",
    "\n",
    "</details>"
   ]
  },
  {
   "cell_type": "code",
   "execution_count": null,
   "metadata": {
    "colab": {
     "base_uri": "https://localhost:8080/"
    },
    "id": "60xroVx79TpZ",
    "outputId": "9dc27596-afa5-4a12-d949-38da8a492043"
   },
   "outputs": [
    {
     "data": {
      "text/plain": [
       "((76020, 370), (75818, 369))"
      ]
     },
     "execution_count": 6,
     "metadata": {},
     "output_type": "execute_result"
    }
   ],
   "source": [
    "## Requirement 2:\n",
    "## PUT YOUR CODE HERE:\n",
    "\n",
    "train.shape, test.shape"
   ]
  },
  {
   "cell_type": "markdown",
   "metadata": {
    "id": "tidC5wVN0h_G"
   },
   "source": [
    "<details><summary> Hint </summary>\n",
    "\n",
    "Use ```shape```\n",
    "\n",
    "</details>"
   ]
  },
  {
   "cell_type": "markdown",
   "metadata": {
    "id": "v6VdKzkj9Tpb"
   },
   "source": [
    "- Chúng ta có thể thấy ở dự án này thì số lượng đặc trưng cần phải xử lý khá lớn, có tổng cộng 369 đặc trưng ở 2 tập dữ liệu dùng để huấn luyện và kiểm tra. Đặc trưng còn lại là **TARGET**, cũng chính là biến mục tiêu của chúng ta"
   ]
  },
  {
   "cell_type": "code",
   "execution_count": null,
   "metadata": {
    "colab": {
     "base_uri": "https://localhost:8080/",
     "height": 444
    },
    "id": "riHLeoyd9Tpc",
    "outputId": "3d354add-7955-4bc6-d938-82ff63fd49db"
   },
   "outputs": [
    {
     "data": {
      "text/html": [
       "\n",
       "  <div id=\"df-4ee2986f-1cf7-4a25-a4a0-b4775fac8bb9\" class=\"colab-df-container\">\n",
       "    <div>\n",
       "<style scoped>\n",
       "    .dataframe tbody tr th:only-of-type {\n",
       "        vertical-align: middle;\n",
       "    }\n",
       "\n",
       "    .dataframe tbody tr th {\n",
       "        vertical-align: top;\n",
       "    }\n",
       "\n",
       "    .dataframe thead th {\n",
       "        text-align: right;\n",
       "    }\n",
       "</style>\n",
       "<table border=\"1\" class=\"dataframe\">\n",
       "  <thead>\n",
       "    <tr style=\"text-align: right;\">\n",
       "      <th></th>\n",
       "      <th>var3</th>\n",
       "      <th>var15</th>\n",
       "      <th>imp_ent_var16_ult1</th>\n",
       "      <th>imp_op_var39_comer_ult1</th>\n",
       "      <th>imp_op_var39_comer_ult3</th>\n",
       "      <th>imp_op_var40_comer_ult1</th>\n",
       "      <th>imp_op_var40_comer_ult3</th>\n",
       "      <th>imp_op_var40_efect_ult1</th>\n",
       "      <th>imp_op_var40_efect_ult3</th>\n",
       "      <th>imp_op_var40_ult1</th>\n",
       "      <th>...</th>\n",
       "      <th>saldo_medio_var33_hace2</th>\n",
       "      <th>saldo_medio_var33_hace3</th>\n",
       "      <th>saldo_medio_var33_ult1</th>\n",
       "      <th>saldo_medio_var33_ult3</th>\n",
       "      <th>saldo_medio_var44_hace2</th>\n",
       "      <th>saldo_medio_var44_hace3</th>\n",
       "      <th>saldo_medio_var44_ult1</th>\n",
       "      <th>saldo_medio_var44_ult3</th>\n",
       "      <th>var38</th>\n",
       "      <th>TARGET</th>\n",
       "    </tr>\n",
       "  </thead>\n",
       "  <tbody>\n",
       "    <tr>\n",
       "      <th>0</th>\n",
       "      <td>2</td>\n",
       "      <td>23</td>\n",
       "      <td>0.0</td>\n",
       "      <td>0.0</td>\n",
       "      <td>0.0</td>\n",
       "      <td>0.0</td>\n",
       "      <td>0.0</td>\n",
       "      <td>0.0</td>\n",
       "      <td>0.0</td>\n",
       "      <td>0.0</td>\n",
       "      <td>...</td>\n",
       "      <td>0.0</td>\n",
       "      <td>0.0</td>\n",
       "      <td>0.0</td>\n",
       "      <td>0.0</td>\n",
       "      <td>0.0</td>\n",
       "      <td>0.0</td>\n",
       "      <td>0.0</td>\n",
       "      <td>0.0</td>\n",
       "      <td>39205.170000</td>\n",
       "      <td>0</td>\n",
       "    </tr>\n",
       "    <tr>\n",
       "      <th>1</th>\n",
       "      <td>2</td>\n",
       "      <td>34</td>\n",
       "      <td>0.0</td>\n",
       "      <td>0.0</td>\n",
       "      <td>0.0</td>\n",
       "      <td>0.0</td>\n",
       "      <td>0.0</td>\n",
       "      <td>0.0</td>\n",
       "      <td>0.0</td>\n",
       "      <td>0.0</td>\n",
       "      <td>...</td>\n",
       "      <td>0.0</td>\n",
       "      <td>0.0</td>\n",
       "      <td>0.0</td>\n",
       "      <td>0.0</td>\n",
       "      <td>0.0</td>\n",
       "      <td>0.0</td>\n",
       "      <td>0.0</td>\n",
       "      <td>0.0</td>\n",
       "      <td>49278.030000</td>\n",
       "      <td>0</td>\n",
       "    </tr>\n",
       "    <tr>\n",
       "      <th>2</th>\n",
       "      <td>2</td>\n",
       "      <td>23</td>\n",
       "      <td>0.0</td>\n",
       "      <td>0.0</td>\n",
       "      <td>0.0</td>\n",
       "      <td>0.0</td>\n",
       "      <td>0.0</td>\n",
       "      <td>0.0</td>\n",
       "      <td>0.0</td>\n",
       "      <td>0.0</td>\n",
       "      <td>...</td>\n",
       "      <td>0.0</td>\n",
       "      <td>0.0</td>\n",
       "      <td>0.0</td>\n",
       "      <td>0.0</td>\n",
       "      <td>0.0</td>\n",
       "      <td>0.0</td>\n",
       "      <td>0.0</td>\n",
       "      <td>0.0</td>\n",
       "      <td>67333.770000</td>\n",
       "      <td>0</td>\n",
       "    </tr>\n",
       "    <tr>\n",
       "      <th>3</th>\n",
       "      <td>2</td>\n",
       "      <td>37</td>\n",
       "      <td>0.0</td>\n",
       "      <td>195.0</td>\n",
       "      <td>195.0</td>\n",
       "      <td>0.0</td>\n",
       "      <td>0.0</td>\n",
       "      <td>0.0</td>\n",
       "      <td>0.0</td>\n",
       "      <td>0.0</td>\n",
       "      <td>...</td>\n",
       "      <td>0.0</td>\n",
       "      <td>0.0</td>\n",
       "      <td>0.0</td>\n",
       "      <td>0.0</td>\n",
       "      <td>0.0</td>\n",
       "      <td>0.0</td>\n",
       "      <td>0.0</td>\n",
       "      <td>0.0</td>\n",
       "      <td>64007.970000</td>\n",
       "      <td>0</td>\n",
       "    </tr>\n",
       "    <tr>\n",
       "      <th>4</th>\n",
       "      <td>2</td>\n",
       "      <td>39</td>\n",
       "      <td>0.0</td>\n",
       "      <td>0.0</td>\n",
       "      <td>0.0</td>\n",
       "      <td>0.0</td>\n",
       "      <td>0.0</td>\n",
       "      <td>0.0</td>\n",
       "      <td>0.0</td>\n",
       "      <td>0.0</td>\n",
       "      <td>...</td>\n",
       "      <td>0.0</td>\n",
       "      <td>0.0</td>\n",
       "      <td>0.0</td>\n",
       "      <td>0.0</td>\n",
       "      <td>0.0</td>\n",
       "      <td>0.0</td>\n",
       "      <td>0.0</td>\n",
       "      <td>0.0</td>\n",
       "      <td>117310.979016</td>\n",
       "      <td>0</td>\n",
       "    </tr>\n",
       "    <tr>\n",
       "      <th>...</th>\n",
       "      <td>...</td>\n",
       "      <td>...</td>\n",
       "      <td>...</td>\n",
       "      <td>...</td>\n",
       "      <td>...</td>\n",
       "      <td>...</td>\n",
       "      <td>...</td>\n",
       "      <td>...</td>\n",
       "      <td>...</td>\n",
       "      <td>...</td>\n",
       "      <td>...</td>\n",
       "      <td>...</td>\n",
       "      <td>...</td>\n",
       "      <td>...</td>\n",
       "      <td>...</td>\n",
       "      <td>...</td>\n",
       "      <td>...</td>\n",
       "      <td>...</td>\n",
       "      <td>...</td>\n",
       "      <td>...</td>\n",
       "      <td>...</td>\n",
       "    </tr>\n",
       "    <tr>\n",
       "      <th>76015</th>\n",
       "      <td>2</td>\n",
       "      <td>48</td>\n",
       "      <td>0.0</td>\n",
       "      <td>0.0</td>\n",
       "      <td>0.0</td>\n",
       "      <td>0.0</td>\n",
       "      <td>0.0</td>\n",
       "      <td>0.0</td>\n",
       "      <td>0.0</td>\n",
       "      <td>0.0</td>\n",
       "      <td>...</td>\n",
       "      <td>0.0</td>\n",
       "      <td>0.0</td>\n",
       "      <td>0.0</td>\n",
       "      <td>0.0</td>\n",
       "      <td>0.0</td>\n",
       "      <td>0.0</td>\n",
       "      <td>0.0</td>\n",
       "      <td>0.0</td>\n",
       "      <td>60926.490000</td>\n",
       "      <td>0</td>\n",
       "    </tr>\n",
       "    <tr>\n",
       "      <th>76016</th>\n",
       "      <td>2</td>\n",
       "      <td>39</td>\n",
       "      <td>0.0</td>\n",
       "      <td>0.0</td>\n",
       "      <td>0.0</td>\n",
       "      <td>0.0</td>\n",
       "      <td>0.0</td>\n",
       "      <td>0.0</td>\n",
       "      <td>0.0</td>\n",
       "      <td>0.0</td>\n",
       "      <td>...</td>\n",
       "      <td>0.0</td>\n",
       "      <td>0.0</td>\n",
       "      <td>0.0</td>\n",
       "      <td>0.0</td>\n",
       "      <td>0.0</td>\n",
       "      <td>0.0</td>\n",
       "      <td>0.0</td>\n",
       "      <td>0.0</td>\n",
       "      <td>118634.520000</td>\n",
       "      <td>0</td>\n",
       "    </tr>\n",
       "    <tr>\n",
       "      <th>76017</th>\n",
       "      <td>2</td>\n",
       "      <td>23</td>\n",
       "      <td>0.0</td>\n",
       "      <td>0.0</td>\n",
       "      <td>0.0</td>\n",
       "      <td>0.0</td>\n",
       "      <td>0.0</td>\n",
       "      <td>0.0</td>\n",
       "      <td>0.0</td>\n",
       "      <td>0.0</td>\n",
       "      <td>...</td>\n",
       "      <td>0.0</td>\n",
       "      <td>0.0</td>\n",
       "      <td>0.0</td>\n",
       "      <td>0.0</td>\n",
       "      <td>0.0</td>\n",
       "      <td>0.0</td>\n",
       "      <td>0.0</td>\n",
       "      <td>0.0</td>\n",
       "      <td>74028.150000</td>\n",
       "      <td>0</td>\n",
       "    </tr>\n",
       "    <tr>\n",
       "      <th>76018</th>\n",
       "      <td>2</td>\n",
       "      <td>25</td>\n",
       "      <td>0.0</td>\n",
       "      <td>0.0</td>\n",
       "      <td>0.0</td>\n",
       "      <td>0.0</td>\n",
       "      <td>0.0</td>\n",
       "      <td>0.0</td>\n",
       "      <td>0.0</td>\n",
       "      <td>0.0</td>\n",
       "      <td>...</td>\n",
       "      <td>0.0</td>\n",
       "      <td>0.0</td>\n",
       "      <td>0.0</td>\n",
       "      <td>0.0</td>\n",
       "      <td>0.0</td>\n",
       "      <td>0.0</td>\n",
       "      <td>0.0</td>\n",
       "      <td>0.0</td>\n",
       "      <td>84278.160000</td>\n",
       "      <td>0</td>\n",
       "    </tr>\n",
       "    <tr>\n",
       "      <th>76019</th>\n",
       "      <td>2</td>\n",
       "      <td>46</td>\n",
       "      <td>0.0</td>\n",
       "      <td>0.0</td>\n",
       "      <td>0.0</td>\n",
       "      <td>0.0</td>\n",
       "      <td>0.0</td>\n",
       "      <td>0.0</td>\n",
       "      <td>0.0</td>\n",
       "      <td>0.0</td>\n",
       "      <td>...</td>\n",
       "      <td>0.0</td>\n",
       "      <td>0.0</td>\n",
       "      <td>0.0</td>\n",
       "      <td>0.0</td>\n",
       "      <td>0.0</td>\n",
       "      <td>0.0</td>\n",
       "      <td>0.0</td>\n",
       "      <td>0.0</td>\n",
       "      <td>117310.979016</td>\n",
       "      <td>0</td>\n",
       "    </tr>\n",
       "  </tbody>\n",
       "</table>\n",
       "<p>76020 rows × 370 columns</p>\n",
       "</div>\n",
       "    <div class=\"colab-df-buttons\">\n",
       "\n",
       "  <div class=\"colab-df-container\">\n",
       "    <button class=\"colab-df-convert\" onclick=\"convertToInteractive('df-4ee2986f-1cf7-4a25-a4a0-b4775fac8bb9')\"\n",
       "            title=\"Convert this dataframe to an interactive table.\"\n",
       "            style=\"display:none;\">\n",
       "\n",
       "  <svg xmlns=\"http://www.w3.org/2000/svg\" height=\"24px\" viewBox=\"0 -960 960 960\">\n",
       "    <path d=\"M120-120v-720h720v720H120Zm60-500h600v-160H180v160Zm220 220h160v-160H400v160Zm0 220h160v-160H400v160ZM180-400h160v-160H180v160Zm440 0h160v-160H620v160ZM180-180h160v-160H180v160Zm440 0h160v-160H620v160Z\"/>\n",
       "  </svg>\n",
       "    </button>\n",
       "\n",
       "  <style>\n",
       "    .colab-df-container {\n",
       "      display:flex;\n",
       "      gap: 12px;\n",
       "    }\n",
       "\n",
       "    .colab-df-convert {\n",
       "      background-color: #E8F0FE;\n",
       "      border: none;\n",
       "      border-radius: 50%;\n",
       "      cursor: pointer;\n",
       "      display: none;\n",
       "      fill: #1967D2;\n",
       "      height: 32px;\n",
       "      padding: 0 0 0 0;\n",
       "      width: 32px;\n",
       "    }\n",
       "\n",
       "    .colab-df-convert:hover {\n",
       "      background-color: #E2EBFA;\n",
       "      box-shadow: 0px 1px 2px rgba(60, 64, 67, 0.3), 0px 1px 3px 1px rgba(60, 64, 67, 0.15);\n",
       "      fill: #174EA6;\n",
       "    }\n",
       "\n",
       "    .colab-df-buttons div {\n",
       "      margin-bottom: 4px;\n",
       "    }\n",
       "\n",
       "    [theme=dark] .colab-df-convert {\n",
       "      background-color: #3B4455;\n",
       "      fill: #D2E3FC;\n",
       "    }\n",
       "\n",
       "    [theme=dark] .colab-df-convert:hover {\n",
       "      background-color: #434B5C;\n",
       "      box-shadow: 0px 1px 3px 1px rgba(0, 0, 0, 0.15);\n",
       "      filter: drop-shadow(0px 1px 2px rgba(0, 0, 0, 0.3));\n",
       "      fill: #FFFFFF;\n",
       "    }\n",
       "  </style>\n",
       "\n",
       "    <script>\n",
       "      const buttonEl =\n",
       "        document.querySelector('#df-4ee2986f-1cf7-4a25-a4a0-b4775fac8bb9 button.colab-df-convert');\n",
       "      buttonEl.style.display =\n",
       "        google.colab.kernel.accessAllowed ? 'block' : 'none';\n",
       "\n",
       "      async function convertToInteractive(key) {\n",
       "        const element = document.querySelector('#df-4ee2986f-1cf7-4a25-a4a0-b4775fac8bb9');\n",
       "        const dataTable =\n",
       "          await google.colab.kernel.invokeFunction('convertToInteractive',\n",
       "                                                    [key], {});\n",
       "        if (!dataTable) return;\n",
       "\n",
       "        const docLinkHtml = 'Like what you see? Visit the ' +\n",
       "          '<a target=\"_blank\" href=https://colab.research.google.com/notebooks/data_table.ipynb>data table notebook</a>'\n",
       "          + ' to learn more about interactive tables.';\n",
       "        element.innerHTML = '';\n",
       "        dataTable['output_type'] = 'display_data';\n",
       "        await google.colab.output.renderOutput(dataTable, element);\n",
       "        const docLink = document.createElement('div');\n",
       "        docLink.innerHTML = docLinkHtml;\n",
       "        element.appendChild(docLink);\n",
       "      }\n",
       "    </script>\n",
       "  </div>\n",
       "\n",
       "\n",
       "<div id=\"df-8c5e119a-4d0b-4952-a41e-4ef85b12c8ec\">\n",
       "  <button class=\"colab-df-quickchart\" onclick=\"quickchart('df-8c5e119a-4d0b-4952-a41e-4ef85b12c8ec')\"\n",
       "            title=\"Suggest charts.\"\n",
       "            style=\"display:none;\">\n",
       "\n",
       "<svg xmlns=\"http://www.w3.org/2000/svg\" height=\"24px\"viewBox=\"0 0 24 24\"\n",
       "     width=\"24px\">\n",
       "    <g>\n",
       "        <path d=\"M19 3H5c-1.1 0-2 .9-2 2v14c0 1.1.9 2 2 2h14c1.1 0 2-.9 2-2V5c0-1.1-.9-2-2-2zM9 17H7v-7h2v7zm4 0h-2V7h2v10zm4 0h-2v-4h2v4z\"/>\n",
       "    </g>\n",
       "</svg>\n",
       "  </button>\n",
       "\n",
       "<style>\n",
       "  .colab-df-quickchart {\n",
       "      --bg-color: #E8F0FE;\n",
       "      --fill-color: #1967D2;\n",
       "      --hover-bg-color: #E2EBFA;\n",
       "      --hover-fill-color: #174EA6;\n",
       "      --disabled-fill-color: #AAA;\n",
       "      --disabled-bg-color: #DDD;\n",
       "  }\n",
       "\n",
       "  [theme=dark] .colab-df-quickchart {\n",
       "      --bg-color: #3B4455;\n",
       "      --fill-color: #D2E3FC;\n",
       "      --hover-bg-color: #434B5C;\n",
       "      --hover-fill-color: #FFFFFF;\n",
       "      --disabled-bg-color: #3B4455;\n",
       "      --disabled-fill-color: #666;\n",
       "  }\n",
       "\n",
       "  .colab-df-quickchart {\n",
       "    background-color: var(--bg-color);\n",
       "    border: none;\n",
       "    border-radius: 50%;\n",
       "    cursor: pointer;\n",
       "    display: none;\n",
       "    fill: var(--fill-color);\n",
       "    height: 32px;\n",
       "    padding: 0;\n",
       "    width: 32px;\n",
       "  }\n",
       "\n",
       "  .colab-df-quickchart:hover {\n",
       "    background-color: var(--hover-bg-color);\n",
       "    box-shadow: 0 1px 2px rgba(60, 64, 67, 0.3), 0 1px 3px 1px rgba(60, 64, 67, 0.15);\n",
       "    fill: var(--button-hover-fill-color);\n",
       "  }\n",
       "\n",
       "  .colab-df-quickchart-complete:disabled,\n",
       "  .colab-df-quickchart-complete:disabled:hover {\n",
       "    background-color: var(--disabled-bg-color);\n",
       "    fill: var(--disabled-fill-color);\n",
       "    box-shadow: none;\n",
       "  }\n",
       "\n",
       "  .colab-df-spinner {\n",
       "    border: 2px solid var(--fill-color);\n",
       "    border-color: transparent;\n",
       "    border-bottom-color: var(--fill-color);\n",
       "    animation:\n",
       "      spin 1s steps(1) infinite;\n",
       "  }\n",
       "\n",
       "  @keyframes spin {\n",
       "    0% {\n",
       "      border-color: transparent;\n",
       "      border-bottom-color: var(--fill-color);\n",
       "      border-left-color: var(--fill-color);\n",
       "    }\n",
       "    20% {\n",
       "      border-color: transparent;\n",
       "      border-left-color: var(--fill-color);\n",
       "      border-top-color: var(--fill-color);\n",
       "    }\n",
       "    30% {\n",
       "      border-color: transparent;\n",
       "      border-left-color: var(--fill-color);\n",
       "      border-top-color: var(--fill-color);\n",
       "      border-right-color: var(--fill-color);\n",
       "    }\n",
       "    40% {\n",
       "      border-color: transparent;\n",
       "      border-right-color: var(--fill-color);\n",
       "      border-top-color: var(--fill-color);\n",
       "    }\n",
       "    60% {\n",
       "      border-color: transparent;\n",
       "      border-right-color: var(--fill-color);\n",
       "    }\n",
       "    80% {\n",
       "      border-color: transparent;\n",
       "      border-right-color: var(--fill-color);\n",
       "      border-bottom-color: var(--fill-color);\n",
       "    }\n",
       "    90% {\n",
       "      border-color: transparent;\n",
       "      border-bottom-color: var(--fill-color);\n",
       "    }\n",
       "  }\n",
       "</style>\n",
       "\n",
       "  <script>\n",
       "    async function quickchart(key) {\n",
       "      const quickchartButtonEl =\n",
       "        document.querySelector('#' + key + ' button');\n",
       "      quickchartButtonEl.disabled = true;  // To prevent multiple clicks.\n",
       "      quickchartButtonEl.classList.add('colab-df-spinner');\n",
       "      try {\n",
       "        const charts = await google.colab.kernel.invokeFunction(\n",
       "            'suggestCharts', [key], {});\n",
       "      } catch (error) {\n",
       "        console.error('Error during call to suggestCharts:', error);\n",
       "      }\n",
       "      quickchartButtonEl.classList.remove('colab-df-spinner');\n",
       "      quickchartButtonEl.classList.add('colab-df-quickchart-complete');\n",
       "    }\n",
       "    (() => {\n",
       "      let quickchartButtonEl =\n",
       "        document.querySelector('#df-8c5e119a-4d0b-4952-a41e-4ef85b12c8ec button');\n",
       "      quickchartButtonEl.style.display =\n",
       "        google.colab.kernel.accessAllowed ? 'block' : 'none';\n",
       "    })();\n",
       "  </script>\n",
       "</div>\n",
       "    </div>\n",
       "  </div>\n"
      ],
      "text/plain": [
       "       var3  var15  imp_ent_var16_ult1  imp_op_var39_comer_ult1  \\\n",
       "0         2     23                 0.0                      0.0   \n",
       "1         2     34                 0.0                      0.0   \n",
       "2         2     23                 0.0                      0.0   \n",
       "3         2     37                 0.0                    195.0   \n",
       "4         2     39                 0.0                      0.0   \n",
       "...     ...    ...                 ...                      ...   \n",
       "76015     2     48                 0.0                      0.0   \n",
       "76016     2     39                 0.0                      0.0   \n",
       "76017     2     23                 0.0                      0.0   \n",
       "76018     2     25                 0.0                      0.0   \n",
       "76019     2     46                 0.0                      0.0   \n",
       "\n",
       "       imp_op_var39_comer_ult3  imp_op_var40_comer_ult1  \\\n",
       "0                          0.0                      0.0   \n",
       "1                          0.0                      0.0   \n",
       "2                          0.0                      0.0   \n",
       "3                        195.0                      0.0   \n",
       "4                          0.0                      0.0   \n",
       "...                        ...                      ...   \n",
       "76015                      0.0                      0.0   \n",
       "76016                      0.0                      0.0   \n",
       "76017                      0.0                      0.0   \n",
       "76018                      0.0                      0.0   \n",
       "76019                      0.0                      0.0   \n",
       "\n",
       "       imp_op_var40_comer_ult3  imp_op_var40_efect_ult1  \\\n",
       "0                          0.0                      0.0   \n",
       "1                          0.0                      0.0   \n",
       "2                          0.0                      0.0   \n",
       "3                          0.0                      0.0   \n",
       "4                          0.0                      0.0   \n",
       "...                        ...                      ...   \n",
       "76015                      0.0                      0.0   \n",
       "76016                      0.0                      0.0   \n",
       "76017                      0.0                      0.0   \n",
       "76018                      0.0                      0.0   \n",
       "76019                      0.0                      0.0   \n",
       "\n",
       "       imp_op_var40_efect_ult3  imp_op_var40_ult1  ...  \\\n",
       "0                          0.0                0.0  ...   \n",
       "1                          0.0                0.0  ...   \n",
       "2                          0.0                0.0  ...   \n",
       "3                          0.0                0.0  ...   \n",
       "4                          0.0                0.0  ...   \n",
       "...                        ...                ...  ...   \n",
       "76015                      0.0                0.0  ...   \n",
       "76016                      0.0                0.0  ...   \n",
       "76017                      0.0                0.0  ...   \n",
       "76018                      0.0                0.0  ...   \n",
       "76019                      0.0                0.0  ...   \n",
       "\n",
       "       saldo_medio_var33_hace2  saldo_medio_var33_hace3  \\\n",
       "0                          0.0                      0.0   \n",
       "1                          0.0                      0.0   \n",
       "2                          0.0                      0.0   \n",
       "3                          0.0                      0.0   \n",
       "4                          0.0                      0.0   \n",
       "...                        ...                      ...   \n",
       "76015                      0.0                      0.0   \n",
       "76016                      0.0                      0.0   \n",
       "76017                      0.0                      0.0   \n",
       "76018                      0.0                      0.0   \n",
       "76019                      0.0                      0.0   \n",
       "\n",
       "       saldo_medio_var33_ult1  saldo_medio_var33_ult3  \\\n",
       "0                         0.0                     0.0   \n",
       "1                         0.0                     0.0   \n",
       "2                         0.0                     0.0   \n",
       "3                         0.0                     0.0   \n",
       "4                         0.0                     0.0   \n",
       "...                       ...                     ...   \n",
       "76015                     0.0                     0.0   \n",
       "76016                     0.0                     0.0   \n",
       "76017                     0.0                     0.0   \n",
       "76018                     0.0                     0.0   \n",
       "76019                     0.0                     0.0   \n",
       "\n",
       "       saldo_medio_var44_hace2  saldo_medio_var44_hace3  \\\n",
       "0                          0.0                      0.0   \n",
       "1                          0.0                      0.0   \n",
       "2                          0.0                      0.0   \n",
       "3                          0.0                      0.0   \n",
       "4                          0.0                      0.0   \n",
       "...                        ...                      ...   \n",
       "76015                      0.0                      0.0   \n",
       "76016                      0.0                      0.0   \n",
       "76017                      0.0                      0.0   \n",
       "76018                      0.0                      0.0   \n",
       "76019                      0.0                      0.0   \n",
       "\n",
       "       saldo_medio_var44_ult1  saldo_medio_var44_ult3          var38  TARGET  \n",
       "0                         0.0                     0.0   39205.170000       0  \n",
       "1                         0.0                     0.0   49278.030000       0  \n",
       "2                         0.0                     0.0   67333.770000       0  \n",
       "3                         0.0                     0.0   64007.970000       0  \n",
       "4                         0.0                     0.0  117310.979016       0  \n",
       "...                       ...                     ...            ...     ...  \n",
       "76015                     0.0                     0.0   60926.490000       0  \n",
       "76016                     0.0                     0.0  118634.520000       0  \n",
       "76017                     0.0                     0.0   74028.150000       0  \n",
       "76018                     0.0                     0.0   84278.160000       0  \n",
       "76019                     0.0                     0.0  117310.979016       0  \n",
       "\n",
       "[76020 rows x 370 columns]"
      ]
     },
     "execution_count": 7,
     "metadata": {},
     "output_type": "execute_result"
    }
   ],
   "source": [
    "train"
   ]
  },
  {
   "cell_type": "code",
   "execution_count": null,
   "metadata": {
    "colab": {
     "base_uri": "https://localhost:8080/",
     "height": 444
    },
    "id": "LZDo-wgj9Tpc",
    "outputId": "ece4320b-88dd-4caa-c0d5-427bd1ec883d"
   },
   "outputs": [
    {
     "data": {
      "text/html": [
       "\n",
       "  <div id=\"df-adc8d987-4c2e-4da5-896a-396c6e9eb24e\" class=\"colab-df-container\">\n",
       "    <div>\n",
       "<style scoped>\n",
       "    .dataframe tbody tr th:only-of-type {\n",
       "        vertical-align: middle;\n",
       "    }\n",
       "\n",
       "    .dataframe tbody tr th {\n",
       "        vertical-align: top;\n",
       "    }\n",
       "\n",
       "    .dataframe thead th {\n",
       "        text-align: right;\n",
       "    }\n",
       "</style>\n",
       "<table border=\"1\" class=\"dataframe\">\n",
       "  <thead>\n",
       "    <tr style=\"text-align: right;\">\n",
       "      <th></th>\n",
       "      <th>var3</th>\n",
       "      <th>var15</th>\n",
       "      <th>imp_ent_var16_ult1</th>\n",
       "      <th>imp_op_var39_comer_ult1</th>\n",
       "      <th>imp_op_var39_comer_ult3</th>\n",
       "      <th>imp_op_var40_comer_ult1</th>\n",
       "      <th>imp_op_var40_comer_ult3</th>\n",
       "      <th>imp_op_var40_efect_ult1</th>\n",
       "      <th>imp_op_var40_efect_ult3</th>\n",
       "      <th>imp_op_var40_ult1</th>\n",
       "      <th>...</th>\n",
       "      <th>saldo_medio_var29_ult3</th>\n",
       "      <th>saldo_medio_var33_hace2</th>\n",
       "      <th>saldo_medio_var33_hace3</th>\n",
       "      <th>saldo_medio_var33_ult1</th>\n",
       "      <th>saldo_medio_var33_ult3</th>\n",
       "      <th>saldo_medio_var44_hace2</th>\n",
       "      <th>saldo_medio_var44_hace3</th>\n",
       "      <th>saldo_medio_var44_ult1</th>\n",
       "      <th>saldo_medio_var44_ult3</th>\n",
       "      <th>var38</th>\n",
       "    </tr>\n",
       "  </thead>\n",
       "  <tbody>\n",
       "    <tr>\n",
       "      <th>0</th>\n",
       "      <td>2</td>\n",
       "      <td>32</td>\n",
       "      <td>0.0</td>\n",
       "      <td>0.0</td>\n",
       "      <td>0.0</td>\n",
       "      <td>0.0</td>\n",
       "      <td>0.0</td>\n",
       "      <td>0.0</td>\n",
       "      <td>0.0</td>\n",
       "      <td>0.0</td>\n",
       "      <td>...</td>\n",
       "      <td>0.0</td>\n",
       "      <td>0.0</td>\n",
       "      <td>0.0</td>\n",
       "      <td>0.0</td>\n",
       "      <td>0.0</td>\n",
       "      <td>0.0</td>\n",
       "      <td>0.0</td>\n",
       "      <td>0.0</td>\n",
       "      <td>0.0</td>\n",
       "      <td>40532.100000</td>\n",
       "    </tr>\n",
       "    <tr>\n",
       "      <th>1</th>\n",
       "      <td>2</td>\n",
       "      <td>35</td>\n",
       "      <td>0.0</td>\n",
       "      <td>0.0</td>\n",
       "      <td>0.0</td>\n",
       "      <td>0.0</td>\n",
       "      <td>0.0</td>\n",
       "      <td>0.0</td>\n",
       "      <td>0.0</td>\n",
       "      <td>0.0</td>\n",
       "      <td>...</td>\n",
       "      <td>0.0</td>\n",
       "      <td>0.0</td>\n",
       "      <td>0.0</td>\n",
       "      <td>0.0</td>\n",
       "      <td>0.0</td>\n",
       "      <td>0.0</td>\n",
       "      <td>0.0</td>\n",
       "      <td>0.0</td>\n",
       "      <td>0.0</td>\n",
       "      <td>45486.720000</td>\n",
       "    </tr>\n",
       "    <tr>\n",
       "      <th>2</th>\n",
       "      <td>2</td>\n",
       "      <td>23</td>\n",
       "      <td>0.0</td>\n",
       "      <td>0.0</td>\n",
       "      <td>0.0</td>\n",
       "      <td>0.0</td>\n",
       "      <td>0.0</td>\n",
       "      <td>0.0</td>\n",
       "      <td>0.0</td>\n",
       "      <td>0.0</td>\n",
       "      <td>...</td>\n",
       "      <td>0.0</td>\n",
       "      <td>0.0</td>\n",
       "      <td>0.0</td>\n",
       "      <td>0.0</td>\n",
       "      <td>0.0</td>\n",
       "      <td>0.0</td>\n",
       "      <td>0.0</td>\n",
       "      <td>0.0</td>\n",
       "      <td>0.0</td>\n",
       "      <td>46993.950000</td>\n",
       "    </tr>\n",
       "    <tr>\n",
       "      <th>3</th>\n",
       "      <td>2</td>\n",
       "      <td>24</td>\n",
       "      <td>0.0</td>\n",
       "      <td>0.0</td>\n",
       "      <td>0.0</td>\n",
       "      <td>0.0</td>\n",
       "      <td>0.0</td>\n",
       "      <td>0.0</td>\n",
       "      <td>0.0</td>\n",
       "      <td>0.0</td>\n",
       "      <td>...</td>\n",
       "      <td>0.0</td>\n",
       "      <td>0.0</td>\n",
       "      <td>0.0</td>\n",
       "      <td>0.0</td>\n",
       "      <td>0.0</td>\n",
       "      <td>0.0</td>\n",
       "      <td>0.0</td>\n",
       "      <td>0.0</td>\n",
       "      <td>0.0</td>\n",
       "      <td>187898.610000</td>\n",
       "    </tr>\n",
       "    <tr>\n",
       "      <th>4</th>\n",
       "      <td>2</td>\n",
       "      <td>23</td>\n",
       "      <td>0.0</td>\n",
       "      <td>0.0</td>\n",
       "      <td>0.0</td>\n",
       "      <td>0.0</td>\n",
       "      <td>0.0</td>\n",
       "      <td>0.0</td>\n",
       "      <td>0.0</td>\n",
       "      <td>0.0</td>\n",
       "      <td>...</td>\n",
       "      <td>0.0</td>\n",
       "      <td>0.0</td>\n",
       "      <td>0.0</td>\n",
       "      <td>0.0</td>\n",
       "      <td>0.0</td>\n",
       "      <td>0.0</td>\n",
       "      <td>0.0</td>\n",
       "      <td>0.0</td>\n",
       "      <td>0.0</td>\n",
       "      <td>73649.730000</td>\n",
       "    </tr>\n",
       "    <tr>\n",
       "      <th>...</th>\n",
       "      <td>...</td>\n",
       "      <td>...</td>\n",
       "      <td>...</td>\n",
       "      <td>...</td>\n",
       "      <td>...</td>\n",
       "      <td>...</td>\n",
       "      <td>...</td>\n",
       "      <td>...</td>\n",
       "      <td>...</td>\n",
       "      <td>...</td>\n",
       "      <td>...</td>\n",
       "      <td>...</td>\n",
       "      <td>...</td>\n",
       "      <td>...</td>\n",
       "      <td>...</td>\n",
       "      <td>...</td>\n",
       "      <td>...</td>\n",
       "      <td>...</td>\n",
       "      <td>...</td>\n",
       "      <td>...</td>\n",
       "      <td>...</td>\n",
       "    </tr>\n",
       "    <tr>\n",
       "      <th>75813</th>\n",
       "      <td>2</td>\n",
       "      <td>23</td>\n",
       "      <td>0.0</td>\n",
       "      <td>0.0</td>\n",
       "      <td>0.0</td>\n",
       "      <td>0.0</td>\n",
       "      <td>0.0</td>\n",
       "      <td>0.0</td>\n",
       "      <td>0.0</td>\n",
       "      <td>0.0</td>\n",
       "      <td>...</td>\n",
       "      <td>0.0</td>\n",
       "      <td>0.0</td>\n",
       "      <td>0.0</td>\n",
       "      <td>0.0</td>\n",
       "      <td>0.0</td>\n",
       "      <td>0.0</td>\n",
       "      <td>0.0</td>\n",
       "      <td>0.0</td>\n",
       "      <td>0.0</td>\n",
       "      <td>40243.200000</td>\n",
       "    </tr>\n",
       "    <tr>\n",
       "      <th>75814</th>\n",
       "      <td>2</td>\n",
       "      <td>26</td>\n",
       "      <td>0.0</td>\n",
       "      <td>0.0</td>\n",
       "      <td>0.0</td>\n",
       "      <td>0.0</td>\n",
       "      <td>0.0</td>\n",
       "      <td>0.0</td>\n",
       "      <td>0.0</td>\n",
       "      <td>0.0</td>\n",
       "      <td>...</td>\n",
       "      <td>0.0</td>\n",
       "      <td>0.0</td>\n",
       "      <td>0.0</td>\n",
       "      <td>0.0</td>\n",
       "      <td>0.0</td>\n",
       "      <td>0.0</td>\n",
       "      <td>0.0</td>\n",
       "      <td>0.0</td>\n",
       "      <td>0.0</td>\n",
       "      <td>146961.300000</td>\n",
       "    </tr>\n",
       "    <tr>\n",
       "      <th>75815</th>\n",
       "      <td>2</td>\n",
       "      <td>24</td>\n",
       "      <td>0.0</td>\n",
       "      <td>0.0</td>\n",
       "      <td>0.0</td>\n",
       "      <td>0.0</td>\n",
       "      <td>0.0</td>\n",
       "      <td>0.0</td>\n",
       "      <td>0.0</td>\n",
       "      <td>0.0</td>\n",
       "      <td>...</td>\n",
       "      <td>0.0</td>\n",
       "      <td>0.0</td>\n",
       "      <td>0.0</td>\n",
       "      <td>0.0</td>\n",
       "      <td>0.0</td>\n",
       "      <td>0.0</td>\n",
       "      <td>0.0</td>\n",
       "      <td>0.0</td>\n",
       "      <td>0.0</td>\n",
       "      <td>167299.770000</td>\n",
       "    </tr>\n",
       "    <tr>\n",
       "      <th>75816</th>\n",
       "      <td>2</td>\n",
       "      <td>40</td>\n",
       "      <td>0.0</td>\n",
       "      <td>0.0</td>\n",
       "      <td>0.0</td>\n",
       "      <td>0.0</td>\n",
       "      <td>0.0</td>\n",
       "      <td>0.0</td>\n",
       "      <td>0.0</td>\n",
       "      <td>0.0</td>\n",
       "      <td>...</td>\n",
       "      <td>0.0</td>\n",
       "      <td>0.0</td>\n",
       "      <td>0.0</td>\n",
       "      <td>0.0</td>\n",
       "      <td>0.0</td>\n",
       "      <td>0.0</td>\n",
       "      <td>0.0</td>\n",
       "      <td>0.0</td>\n",
       "      <td>0.0</td>\n",
       "      <td>117310.979016</td>\n",
       "    </tr>\n",
       "    <tr>\n",
       "      <th>75817</th>\n",
       "      <td>2</td>\n",
       "      <td>23</td>\n",
       "      <td>0.0</td>\n",
       "      <td>0.0</td>\n",
       "      <td>0.0</td>\n",
       "      <td>0.0</td>\n",
       "      <td>0.0</td>\n",
       "      <td>0.0</td>\n",
       "      <td>0.0</td>\n",
       "      <td>0.0</td>\n",
       "      <td>...</td>\n",
       "      <td>0.0</td>\n",
       "      <td>0.0</td>\n",
       "      <td>0.0</td>\n",
       "      <td>0.0</td>\n",
       "      <td>0.0</td>\n",
       "      <td>0.0</td>\n",
       "      <td>0.0</td>\n",
       "      <td>0.0</td>\n",
       "      <td>0.0</td>\n",
       "      <td>117310.979016</td>\n",
       "    </tr>\n",
       "  </tbody>\n",
       "</table>\n",
       "<p>75818 rows × 369 columns</p>\n",
       "</div>\n",
       "    <div class=\"colab-df-buttons\">\n",
       "\n",
       "  <div class=\"colab-df-container\">\n",
       "    <button class=\"colab-df-convert\" onclick=\"convertToInteractive('df-adc8d987-4c2e-4da5-896a-396c6e9eb24e')\"\n",
       "            title=\"Convert this dataframe to an interactive table.\"\n",
       "            style=\"display:none;\">\n",
       "\n",
       "  <svg xmlns=\"http://www.w3.org/2000/svg\" height=\"24px\" viewBox=\"0 -960 960 960\">\n",
       "    <path d=\"M120-120v-720h720v720H120Zm60-500h600v-160H180v160Zm220 220h160v-160H400v160Zm0 220h160v-160H400v160ZM180-400h160v-160H180v160Zm440 0h160v-160H620v160ZM180-180h160v-160H180v160Zm440 0h160v-160H620v160Z\"/>\n",
       "  </svg>\n",
       "    </button>\n",
       "\n",
       "  <style>\n",
       "    .colab-df-container {\n",
       "      display:flex;\n",
       "      gap: 12px;\n",
       "    }\n",
       "\n",
       "    .colab-df-convert {\n",
       "      background-color: #E8F0FE;\n",
       "      border: none;\n",
       "      border-radius: 50%;\n",
       "      cursor: pointer;\n",
       "      display: none;\n",
       "      fill: #1967D2;\n",
       "      height: 32px;\n",
       "      padding: 0 0 0 0;\n",
       "      width: 32px;\n",
       "    }\n",
       "\n",
       "    .colab-df-convert:hover {\n",
       "      background-color: #E2EBFA;\n",
       "      box-shadow: 0px 1px 2px rgba(60, 64, 67, 0.3), 0px 1px 3px 1px rgba(60, 64, 67, 0.15);\n",
       "      fill: #174EA6;\n",
       "    }\n",
       "\n",
       "    .colab-df-buttons div {\n",
       "      margin-bottom: 4px;\n",
       "    }\n",
       "\n",
       "    [theme=dark] .colab-df-convert {\n",
       "      background-color: #3B4455;\n",
       "      fill: #D2E3FC;\n",
       "    }\n",
       "\n",
       "    [theme=dark] .colab-df-convert:hover {\n",
       "      background-color: #434B5C;\n",
       "      box-shadow: 0px 1px 3px 1px rgba(0, 0, 0, 0.15);\n",
       "      filter: drop-shadow(0px 1px 2px rgba(0, 0, 0, 0.3));\n",
       "      fill: #FFFFFF;\n",
       "    }\n",
       "  </style>\n",
       "\n",
       "    <script>\n",
       "      const buttonEl =\n",
       "        document.querySelector('#df-adc8d987-4c2e-4da5-896a-396c6e9eb24e button.colab-df-convert');\n",
       "      buttonEl.style.display =\n",
       "        google.colab.kernel.accessAllowed ? 'block' : 'none';\n",
       "\n",
       "      async function convertToInteractive(key) {\n",
       "        const element = document.querySelector('#df-adc8d987-4c2e-4da5-896a-396c6e9eb24e');\n",
       "        const dataTable =\n",
       "          await google.colab.kernel.invokeFunction('convertToInteractive',\n",
       "                                                    [key], {});\n",
       "        if (!dataTable) return;\n",
       "\n",
       "        const docLinkHtml = 'Like what you see? Visit the ' +\n",
       "          '<a target=\"_blank\" href=https://colab.research.google.com/notebooks/data_table.ipynb>data table notebook</a>'\n",
       "          + ' to learn more about interactive tables.';\n",
       "        element.innerHTML = '';\n",
       "        dataTable['output_type'] = 'display_data';\n",
       "        await google.colab.output.renderOutput(dataTable, element);\n",
       "        const docLink = document.createElement('div');\n",
       "        docLink.innerHTML = docLinkHtml;\n",
       "        element.appendChild(docLink);\n",
       "      }\n",
       "    </script>\n",
       "  </div>\n",
       "\n",
       "\n",
       "<div id=\"df-0d3a058c-913c-45dc-919a-ac401cdcb1a0\">\n",
       "  <button class=\"colab-df-quickchart\" onclick=\"quickchart('df-0d3a058c-913c-45dc-919a-ac401cdcb1a0')\"\n",
       "            title=\"Suggest charts.\"\n",
       "            style=\"display:none;\">\n",
       "\n",
       "<svg xmlns=\"http://www.w3.org/2000/svg\" height=\"24px\"viewBox=\"0 0 24 24\"\n",
       "     width=\"24px\">\n",
       "    <g>\n",
       "        <path d=\"M19 3H5c-1.1 0-2 .9-2 2v14c0 1.1.9 2 2 2h14c1.1 0 2-.9 2-2V5c0-1.1-.9-2-2-2zM9 17H7v-7h2v7zm4 0h-2V7h2v10zm4 0h-2v-4h2v4z\"/>\n",
       "    </g>\n",
       "</svg>\n",
       "  </button>\n",
       "\n",
       "<style>\n",
       "  .colab-df-quickchart {\n",
       "      --bg-color: #E8F0FE;\n",
       "      --fill-color: #1967D2;\n",
       "      --hover-bg-color: #E2EBFA;\n",
       "      --hover-fill-color: #174EA6;\n",
       "      --disabled-fill-color: #AAA;\n",
       "      --disabled-bg-color: #DDD;\n",
       "  }\n",
       "\n",
       "  [theme=dark] .colab-df-quickchart {\n",
       "      --bg-color: #3B4455;\n",
       "      --fill-color: #D2E3FC;\n",
       "      --hover-bg-color: #434B5C;\n",
       "      --hover-fill-color: #FFFFFF;\n",
       "      --disabled-bg-color: #3B4455;\n",
       "      --disabled-fill-color: #666;\n",
       "  }\n",
       "\n",
       "  .colab-df-quickchart {\n",
       "    background-color: var(--bg-color);\n",
       "    border: none;\n",
       "    border-radius: 50%;\n",
       "    cursor: pointer;\n",
       "    display: none;\n",
       "    fill: var(--fill-color);\n",
       "    height: 32px;\n",
       "    padding: 0;\n",
       "    width: 32px;\n",
       "  }\n",
       "\n",
       "  .colab-df-quickchart:hover {\n",
       "    background-color: var(--hover-bg-color);\n",
       "    box-shadow: 0 1px 2px rgba(60, 64, 67, 0.3), 0 1px 3px 1px rgba(60, 64, 67, 0.15);\n",
       "    fill: var(--button-hover-fill-color);\n",
       "  }\n",
       "\n",
       "  .colab-df-quickchart-complete:disabled,\n",
       "  .colab-df-quickchart-complete:disabled:hover {\n",
       "    background-color: var(--disabled-bg-color);\n",
       "    fill: var(--disabled-fill-color);\n",
       "    box-shadow: none;\n",
       "  }\n",
       "\n",
       "  .colab-df-spinner {\n",
       "    border: 2px solid var(--fill-color);\n",
       "    border-color: transparent;\n",
       "    border-bottom-color: var(--fill-color);\n",
       "    animation:\n",
       "      spin 1s steps(1) infinite;\n",
       "  }\n",
       "\n",
       "  @keyframes spin {\n",
       "    0% {\n",
       "      border-color: transparent;\n",
       "      border-bottom-color: var(--fill-color);\n",
       "      border-left-color: var(--fill-color);\n",
       "    }\n",
       "    20% {\n",
       "      border-color: transparent;\n",
       "      border-left-color: var(--fill-color);\n",
       "      border-top-color: var(--fill-color);\n",
       "    }\n",
       "    30% {\n",
       "      border-color: transparent;\n",
       "      border-left-color: var(--fill-color);\n",
       "      border-top-color: var(--fill-color);\n",
       "      border-right-color: var(--fill-color);\n",
       "    }\n",
       "    40% {\n",
       "      border-color: transparent;\n",
       "      border-right-color: var(--fill-color);\n",
       "      border-top-color: var(--fill-color);\n",
       "    }\n",
       "    60% {\n",
       "      border-color: transparent;\n",
       "      border-right-color: var(--fill-color);\n",
       "    }\n",
       "    80% {\n",
       "      border-color: transparent;\n",
       "      border-right-color: var(--fill-color);\n",
       "      border-bottom-color: var(--fill-color);\n",
       "    }\n",
       "    90% {\n",
       "      border-color: transparent;\n",
       "      border-bottom-color: var(--fill-color);\n",
       "    }\n",
       "  }\n",
       "</style>\n",
       "\n",
       "  <script>\n",
       "    async function quickchart(key) {\n",
       "      const quickchartButtonEl =\n",
       "        document.querySelector('#' + key + ' button');\n",
       "      quickchartButtonEl.disabled = true;  // To prevent multiple clicks.\n",
       "      quickchartButtonEl.classList.add('colab-df-spinner');\n",
       "      try {\n",
       "        const charts = await google.colab.kernel.invokeFunction(\n",
       "            'suggestCharts', [key], {});\n",
       "      } catch (error) {\n",
       "        console.error('Error during call to suggestCharts:', error);\n",
       "      }\n",
       "      quickchartButtonEl.classList.remove('colab-df-spinner');\n",
       "      quickchartButtonEl.classList.add('colab-df-quickchart-complete');\n",
       "    }\n",
       "    (() => {\n",
       "      let quickchartButtonEl =\n",
       "        document.querySelector('#df-0d3a058c-913c-45dc-919a-ac401cdcb1a0 button');\n",
       "      quickchartButtonEl.style.display =\n",
       "        google.colab.kernel.accessAllowed ? 'block' : 'none';\n",
       "    })();\n",
       "  </script>\n",
       "</div>\n",
       "    </div>\n",
       "  </div>\n"
      ],
      "text/plain": [
       "       var3  var15  imp_ent_var16_ult1  imp_op_var39_comer_ult1  \\\n",
       "0         2     32                 0.0                      0.0   \n",
       "1         2     35                 0.0                      0.0   \n",
       "2         2     23                 0.0                      0.0   \n",
       "3         2     24                 0.0                      0.0   \n",
       "4         2     23                 0.0                      0.0   \n",
       "...     ...    ...                 ...                      ...   \n",
       "75813     2     23                 0.0                      0.0   \n",
       "75814     2     26                 0.0                      0.0   \n",
       "75815     2     24                 0.0                      0.0   \n",
       "75816     2     40                 0.0                      0.0   \n",
       "75817     2     23                 0.0                      0.0   \n",
       "\n",
       "       imp_op_var39_comer_ult3  imp_op_var40_comer_ult1  \\\n",
       "0                          0.0                      0.0   \n",
       "1                          0.0                      0.0   \n",
       "2                          0.0                      0.0   \n",
       "3                          0.0                      0.0   \n",
       "4                          0.0                      0.0   \n",
       "...                        ...                      ...   \n",
       "75813                      0.0                      0.0   \n",
       "75814                      0.0                      0.0   \n",
       "75815                      0.0                      0.0   \n",
       "75816                      0.0                      0.0   \n",
       "75817                      0.0                      0.0   \n",
       "\n",
       "       imp_op_var40_comer_ult3  imp_op_var40_efect_ult1  \\\n",
       "0                          0.0                      0.0   \n",
       "1                          0.0                      0.0   \n",
       "2                          0.0                      0.0   \n",
       "3                          0.0                      0.0   \n",
       "4                          0.0                      0.0   \n",
       "...                        ...                      ...   \n",
       "75813                      0.0                      0.0   \n",
       "75814                      0.0                      0.0   \n",
       "75815                      0.0                      0.0   \n",
       "75816                      0.0                      0.0   \n",
       "75817                      0.0                      0.0   \n",
       "\n",
       "       imp_op_var40_efect_ult3  imp_op_var40_ult1  ...  \\\n",
       "0                          0.0                0.0  ...   \n",
       "1                          0.0                0.0  ...   \n",
       "2                          0.0                0.0  ...   \n",
       "3                          0.0                0.0  ...   \n",
       "4                          0.0                0.0  ...   \n",
       "...                        ...                ...  ...   \n",
       "75813                      0.0                0.0  ...   \n",
       "75814                      0.0                0.0  ...   \n",
       "75815                      0.0                0.0  ...   \n",
       "75816                      0.0                0.0  ...   \n",
       "75817                      0.0                0.0  ...   \n",
       "\n",
       "       saldo_medio_var29_ult3  saldo_medio_var33_hace2  \\\n",
       "0                         0.0                      0.0   \n",
       "1                         0.0                      0.0   \n",
       "2                         0.0                      0.0   \n",
       "3                         0.0                      0.0   \n",
       "4                         0.0                      0.0   \n",
       "...                       ...                      ...   \n",
       "75813                     0.0                      0.0   \n",
       "75814                     0.0                      0.0   \n",
       "75815                     0.0                      0.0   \n",
       "75816                     0.0                      0.0   \n",
       "75817                     0.0                      0.0   \n",
       "\n",
       "       saldo_medio_var33_hace3  saldo_medio_var33_ult1  \\\n",
       "0                          0.0                     0.0   \n",
       "1                          0.0                     0.0   \n",
       "2                          0.0                     0.0   \n",
       "3                          0.0                     0.0   \n",
       "4                          0.0                     0.0   \n",
       "...                        ...                     ...   \n",
       "75813                      0.0                     0.0   \n",
       "75814                      0.0                     0.0   \n",
       "75815                      0.0                     0.0   \n",
       "75816                      0.0                     0.0   \n",
       "75817                      0.0                     0.0   \n",
       "\n",
       "       saldo_medio_var33_ult3  saldo_medio_var44_hace2  \\\n",
       "0                         0.0                      0.0   \n",
       "1                         0.0                      0.0   \n",
       "2                         0.0                      0.0   \n",
       "3                         0.0                      0.0   \n",
       "4                         0.0                      0.0   \n",
       "...                       ...                      ...   \n",
       "75813                     0.0                      0.0   \n",
       "75814                     0.0                      0.0   \n",
       "75815                     0.0                      0.0   \n",
       "75816                     0.0                      0.0   \n",
       "75817                     0.0                      0.0   \n",
       "\n",
       "       saldo_medio_var44_hace3  saldo_medio_var44_ult1  \\\n",
       "0                          0.0                     0.0   \n",
       "1                          0.0                     0.0   \n",
       "2                          0.0                     0.0   \n",
       "3                          0.0                     0.0   \n",
       "4                          0.0                     0.0   \n",
       "...                        ...                     ...   \n",
       "75813                      0.0                     0.0   \n",
       "75814                      0.0                     0.0   \n",
       "75815                      0.0                     0.0   \n",
       "75816                      0.0                     0.0   \n",
       "75817                      0.0                     0.0   \n",
       "\n",
       "       saldo_medio_var44_ult3          var38  \n",
       "0                         0.0   40532.100000  \n",
       "1                         0.0   45486.720000  \n",
       "2                         0.0   46993.950000  \n",
       "3                         0.0  187898.610000  \n",
       "4                         0.0   73649.730000  \n",
       "...                       ...            ...  \n",
       "75813                     0.0   40243.200000  \n",
       "75814                     0.0  146961.300000  \n",
       "75815                     0.0  167299.770000  \n",
       "75816                     0.0  117310.979016  \n",
       "75817                     0.0  117310.979016  \n",
       "\n",
       "[75818 rows x 369 columns]"
      ]
     },
     "execution_count": 8,
     "metadata": {},
     "output_type": "execute_result"
    }
   ],
   "source": [
    "test"
   ]
  },
  {
   "cell_type": "markdown",
   "metadata": {
    "id": "d8_2WhOL9Tpd"
   },
   "source": [
    "- In ra tên của các đặc trưng"
   ]
  },
  {
   "cell_type": "code",
   "execution_count": null,
   "metadata": {
    "colab": {
     "base_uri": "https://localhost:8080/"
    },
    "id": "PlO8noUE9Tpd",
    "outputId": "3bce7092-84a3-4773-c678-460c25ae7595"
   },
   "outputs": [
    {
     "data": {
      "text/plain": [
       "Index(['var3', 'var15', 'imp_ent_var16_ult1', 'imp_op_var39_comer_ult1',\n",
       "       'imp_op_var39_comer_ult3', 'imp_op_var40_comer_ult1',\n",
       "       'imp_op_var40_comer_ult3', 'imp_op_var40_efect_ult1',\n",
       "       'imp_op_var40_efect_ult3', 'imp_op_var40_ult1',\n",
       "       ...\n",
       "       'saldo_medio_var33_hace2', 'saldo_medio_var33_hace3',\n",
       "       'saldo_medio_var33_ult1', 'saldo_medio_var33_ult3',\n",
       "       'saldo_medio_var44_hace2', 'saldo_medio_var44_hace3',\n",
       "       'saldo_medio_var44_ult1', 'saldo_medio_var44_ult3', 'var38', 'TARGET'],\n",
       "      dtype='object', length=370)"
      ]
     },
     "execution_count": 9,
     "metadata": {},
     "output_type": "execute_result"
    }
   ],
   "source": [
    "## Requirement 3:\n",
    "## PUT YOUR CODE HERE:\n",
    "\n",
    "col_names = train.columns\n",
    "\n",
    "col_names"
   ]
  },
  {
   "cell_type": "markdown",
   "metadata": {
    "id": "mSqFUUpGlOfm"
   },
   "source": [
    "<details><summary> Hint </summary>\n",
    "\n",
    "Using ```columns``` attribute\n",
    "\n",
    "</details>"
   ]
  },
  {
   "cell_type": "markdown",
   "metadata": {
    "id": "jCcKmmDj9Tpd"
   },
   "source": [
    "- Lần này tên của các đặc trưng đã được giấu kín, việc này rất thường gặp khi tham gia các cuộc thi hoặc làm các dự án lớn trong trường hợp chủ nguồn dữ liệu không muốn tiết lộ thông tin."
   ]
  },
  {
   "cell_type": "markdown",
   "metadata": {
    "id": "r6LOwyjq9Tpe"
   },
   "source": [
    "- Xem tóm tắt một số đặc điểm về tập dữ liệu."
   ]
  },
  {
   "cell_type": "code",
   "execution_count": null,
   "metadata": {
    "colab": {
     "base_uri": "https://localhost:8080/"
    },
    "id": "h_1nw4sN9Tpe",
    "outputId": "3323afa6-3cd7-4ac3-da13-3e4eb0d2f0e3"
   },
   "outputs": [
    {
     "name": "stdout",
     "output_type": "stream",
     "text": [
      "<class 'pandas.core.frame.DataFrame'>\n",
      "RangeIndex: 76020 entries, 0 to 76019\n",
      "Data columns (total 370 columns):\n",
      " #    Column                         Non-Null Count  Dtype  \n",
      "---   ------                         --------------  -----  \n",
      " 0    var3                           76020 non-null  int64  \n",
      " 1    var15                          76020 non-null  int64  \n",
      " 2    imp_ent_var16_ult1             76020 non-null  float64\n",
      " 3    imp_op_var39_comer_ult1        76020 non-null  float64\n",
      " 4    imp_op_var39_comer_ult3        76020 non-null  float64\n",
      " 5    imp_op_var40_comer_ult1        76020 non-null  float64\n",
      " 6    imp_op_var40_comer_ult3        76020 non-null  float64\n",
      " 7    imp_op_var40_efect_ult1        76020 non-null  float64\n",
      " 8    imp_op_var40_efect_ult3        76020 non-null  float64\n",
      " 9    imp_op_var40_ult1              76020 non-null  float64\n",
      " 10   imp_op_var41_comer_ult1        76020 non-null  float64\n",
      " 11   imp_op_var41_comer_ult3        76020 non-null  float64\n",
      " 12   imp_op_var41_efect_ult1        76020 non-null  float64\n",
      " 13   imp_op_var41_efect_ult3        76020 non-null  float64\n",
      " 14   imp_op_var41_ult1              76020 non-null  float64\n",
      " 15   imp_op_var39_efect_ult1        76020 non-null  float64\n",
      " 16   imp_op_var39_efect_ult3        76020 non-null  float64\n",
      " 17   imp_op_var39_ult1              76020 non-null  float64\n",
      " 18   imp_sal_var16_ult1             76020 non-null  float64\n",
      " 19   ind_var1_0                     76020 non-null  int64  \n",
      " 20   ind_var1                       76020 non-null  int64  \n",
      " 21   ind_var2_0                     76020 non-null  int64  \n",
      " 22   ind_var2                       76020 non-null  int64  \n",
      " 23   ind_var5_0                     76020 non-null  int64  \n",
      " 24   ind_var5                       76020 non-null  int64  \n",
      " 25   ind_var6_0                     76020 non-null  int64  \n",
      " 26   ind_var6                       76020 non-null  int64  \n",
      " 27   ind_var8_0                     76020 non-null  int64  \n",
      " 28   ind_var8                       76020 non-null  int64  \n",
      " 29   ind_var12_0                    76020 non-null  int64  \n",
      " 30   ind_var12                      76020 non-null  int64  \n",
      " 31   ind_var13_0                    76020 non-null  int64  \n",
      " 32   ind_var13_corto_0              76020 non-null  int64  \n",
      " 33   ind_var13_corto                76020 non-null  int64  \n",
      " 34   ind_var13_largo_0              76020 non-null  int64  \n",
      " 35   ind_var13_largo                76020 non-null  int64  \n",
      " 36   ind_var13_medio_0              76020 non-null  int64  \n",
      " 37   ind_var13_medio                76020 non-null  int64  \n",
      " 38   ind_var13                      76020 non-null  int64  \n",
      " 39   ind_var14_0                    76020 non-null  int64  \n",
      " 40   ind_var14                      76020 non-null  int64  \n",
      " 41   ind_var17_0                    76020 non-null  int64  \n",
      " 42   ind_var17                      76020 non-null  int64  \n",
      " 43   ind_var18_0                    76020 non-null  int64  \n",
      " 44   ind_var18                      76020 non-null  int64  \n",
      " 45   ind_var19                      76020 non-null  int64  \n",
      " 46   ind_var20_0                    76020 non-null  int64  \n",
      " 47   ind_var20                      76020 non-null  int64  \n",
      " 48   ind_var24_0                    76020 non-null  int64  \n",
      " 49   ind_var24                      76020 non-null  int64  \n",
      " 50   ind_var25_cte                  76020 non-null  int64  \n",
      " 51   ind_var26_0                    76020 non-null  int64  \n",
      " 52   ind_var26_cte                  76020 non-null  int64  \n",
      " 53   ind_var26                      76020 non-null  int64  \n",
      " 54   ind_var25_0                    76020 non-null  int64  \n",
      " 55   ind_var25                      76020 non-null  int64  \n",
      " 56   ind_var27_0                    76020 non-null  int64  \n",
      " 57   ind_var28_0                    76020 non-null  int64  \n",
      " 58   ind_var28                      76020 non-null  int64  \n",
      " 59   ind_var27                      76020 non-null  int64  \n",
      " 60   ind_var29_0                    76020 non-null  int64  \n",
      " 61   ind_var29                      76020 non-null  int64  \n",
      " 62   ind_var30_0                    76020 non-null  int64  \n",
      " 63   ind_var30                      76020 non-null  int64  \n",
      " 64   ind_var31_0                    76020 non-null  int64  \n",
      " 65   ind_var31                      76020 non-null  int64  \n",
      " 66   ind_var32_cte                  76020 non-null  int64  \n",
      " 67   ind_var32_0                    76020 non-null  int64  \n",
      " 68   ind_var32                      76020 non-null  int64  \n",
      " 69   ind_var33_0                    76020 non-null  int64  \n",
      " 70   ind_var33                      76020 non-null  int64  \n",
      " 71   ind_var34_0                    76020 non-null  int64  \n",
      " 72   ind_var34                      76020 non-null  int64  \n",
      " 73   ind_var37_cte                  76020 non-null  int64  \n",
      " 74   ind_var37_0                    76020 non-null  int64  \n",
      " 75   ind_var37                      76020 non-null  int64  \n",
      " 76   ind_var39_0                    76020 non-null  int64  \n",
      " 77   ind_var40_0                    76020 non-null  int64  \n",
      " 78   ind_var40                      76020 non-null  int64  \n",
      " 79   ind_var41_0                    76020 non-null  int64  \n",
      " 80   ind_var41                      76020 non-null  int64  \n",
      " 81   ind_var39                      76020 non-null  int64  \n",
      " 82   ind_var44_0                    76020 non-null  int64  \n",
      " 83   ind_var44                      76020 non-null  int64  \n",
      " 84   ind_var46_0                    76020 non-null  int64  \n",
      " 85   ind_var46                      76020 non-null  int64  \n",
      " 86   num_var1_0                     76020 non-null  int64  \n",
      " 87   num_var1                       76020 non-null  int64  \n",
      " 88   num_var4                       76020 non-null  int64  \n",
      " 89   num_var5_0                     76020 non-null  int64  \n",
      " 90   num_var5                       76020 non-null  int64  \n",
      " 91   num_var6_0                     76020 non-null  int64  \n",
      " 92   num_var6                       76020 non-null  int64  \n",
      " 93   num_var8_0                     76020 non-null  int64  \n",
      " 94   num_var8                       76020 non-null  int64  \n",
      " 95   num_var12_0                    76020 non-null  int64  \n",
      " 96   num_var12                      76020 non-null  int64  \n",
      " 97   num_var13_0                    76020 non-null  int64  \n",
      " 98   num_var13_corto_0              76020 non-null  int64  \n",
      " 99   num_var13_corto                76020 non-null  int64  \n",
      " 100  num_var13_largo_0              76020 non-null  int64  \n",
      " 101  num_var13_largo                76020 non-null  int64  \n",
      " 102  num_var13_medio_0              76020 non-null  int64  \n",
      " 103  num_var13_medio                76020 non-null  int64  \n",
      " 104  num_var13                      76020 non-null  int64  \n",
      " 105  num_var14_0                    76020 non-null  int64  \n",
      " 106  num_var14                      76020 non-null  int64  \n",
      " 107  num_var17_0                    76020 non-null  int64  \n",
      " 108  num_var17                      76020 non-null  int64  \n",
      " 109  num_var18_0                    76020 non-null  int64  \n",
      " 110  num_var18                      76020 non-null  int64  \n",
      " 111  num_var20_0                    76020 non-null  int64  \n",
      " 112  num_var20                      76020 non-null  int64  \n",
      " 113  num_var24_0                    76020 non-null  int64  \n",
      " 114  num_var24                      76020 non-null  int64  \n",
      " 115  num_var26_0                    76020 non-null  int64  \n",
      " 116  num_var26                      76020 non-null  int64  \n",
      " 117  num_var25_0                    76020 non-null  int64  \n",
      " 118  num_var25                      76020 non-null  int64  \n",
      " 119  num_op_var40_hace2             76020 non-null  int64  \n",
      " 120  num_op_var40_hace3             76020 non-null  int64  \n",
      " 121  num_op_var40_ult1              76020 non-null  int64  \n",
      " 122  num_op_var40_ult3              76020 non-null  int64  \n",
      " 123  num_op_var41_hace2             76020 non-null  int64  \n",
      " 124  num_op_var41_hace3             76020 non-null  int64  \n",
      " 125  num_op_var41_ult1              76020 non-null  int64  \n",
      " 126  num_op_var41_ult3              76020 non-null  int64  \n",
      " 127  num_op_var39_hace2             76020 non-null  int64  \n",
      " 128  num_op_var39_hace3             76020 non-null  int64  \n",
      " 129  num_op_var39_ult1              76020 non-null  int64  \n",
      " 130  num_op_var39_ult3              76020 non-null  int64  \n",
      " 131  num_var27_0                    76020 non-null  int64  \n",
      " 132  num_var28_0                    76020 non-null  int64  \n",
      " 133  num_var28                      76020 non-null  int64  \n",
      " 134  num_var27                      76020 non-null  int64  \n",
      " 135  num_var29_0                    76020 non-null  int64  \n",
      " 136  num_var29                      76020 non-null  int64  \n",
      " 137  num_var30_0                    76020 non-null  int64  \n",
      " 138  num_var30                      76020 non-null  int64  \n",
      " 139  num_var31_0                    76020 non-null  int64  \n",
      " 140  num_var31                      76020 non-null  int64  \n",
      " 141  num_var32_0                    76020 non-null  int64  \n",
      " 142  num_var32                      76020 non-null  int64  \n",
      " 143  num_var33_0                    76020 non-null  int64  \n",
      " 144  num_var33                      76020 non-null  int64  \n",
      " 145  num_var34_0                    76020 non-null  int64  \n",
      " 146  num_var34                      76020 non-null  int64  \n",
      " 147  num_var35                      76020 non-null  int64  \n",
      " 148  num_var37_med_ult2             76020 non-null  int64  \n",
      " 149  num_var37_0                    76020 non-null  int64  \n",
      " 150  num_var37                      76020 non-null  int64  \n",
      " 151  num_var39_0                    76020 non-null  int64  \n",
      " 152  num_var40_0                    76020 non-null  int64  \n",
      " 153  num_var40                      76020 non-null  int64  \n",
      " 154  num_var41_0                    76020 non-null  int64  \n",
      " 155  num_var41                      76020 non-null  int64  \n",
      " 156  num_var39                      76020 non-null  int64  \n",
      " 157  num_var42_0                    76020 non-null  int64  \n",
      " 158  num_var42                      76020 non-null  int64  \n",
      " 159  num_var44_0                    76020 non-null  int64  \n",
      " 160  num_var44                      76020 non-null  int64  \n",
      " 161  num_var46_0                    76020 non-null  int64  \n",
      " 162  num_var46                      76020 non-null  int64  \n",
      " 163  saldo_var1                     76020 non-null  float64\n",
      " 164  saldo_var5                     76020 non-null  float64\n",
      " 165  saldo_var6                     76020 non-null  float64\n",
      " 166  saldo_var8                     76020 non-null  float64\n",
      " 167  saldo_var12                    76020 non-null  float64\n",
      " 168  saldo_var13_corto              76020 non-null  float64\n",
      " 169  saldo_var13_largo              76020 non-null  float64\n",
      " 170  saldo_var13_medio              76020 non-null  int64  \n",
      " 171  saldo_var13                    76020 non-null  float64\n",
      " 172  saldo_var14                    76020 non-null  float64\n",
      " 173  saldo_var17                    76020 non-null  float64\n",
      " 174  saldo_var18                    76020 non-null  int64  \n",
      " 175  saldo_var20                    76020 non-null  float64\n",
      " 176  saldo_var24                    76020 non-null  float64\n",
      " 177  saldo_var26                    76020 non-null  float64\n",
      " 178  saldo_var25                    76020 non-null  float64\n",
      " 179  saldo_var28                    76020 non-null  int64  \n",
      " 180  saldo_var27                    76020 non-null  int64  \n",
      " 181  saldo_var29                    76020 non-null  float64\n",
      " 182  saldo_var30                    76020 non-null  float64\n",
      " 183  saldo_var31                    76020 non-null  float64\n",
      " 184  saldo_var32                    76020 non-null  float64\n",
      " 185  saldo_var33                    76020 non-null  float64\n",
      " 186  saldo_var34                    76020 non-null  int64  \n",
      " 187  saldo_var37                    76020 non-null  float64\n",
      " 188  saldo_var40                    76020 non-null  float64\n",
      " 189  saldo_var41                    76020 non-null  int64  \n",
      " 190  saldo_var42                    76020 non-null  float64\n",
      " 191  saldo_var44                    76020 non-null  float64\n",
      " 192  saldo_var46                    76020 non-null  int64  \n",
      " 193  var36                          76020 non-null  int64  \n",
      " 194  delta_imp_amort_var18_1y3      76020 non-null  int64  \n",
      " 195  delta_imp_amort_var34_1y3      76020 non-null  int64  \n",
      " 196  delta_imp_aport_var13_1y3      76020 non-null  float64\n",
      " 197  delta_imp_aport_var17_1y3      76020 non-null  float64\n",
      " 198  delta_imp_aport_var33_1y3      76020 non-null  float64\n",
      " 199  delta_imp_compra_var44_1y3     76020 non-null  float64\n",
      " 200  delta_imp_reemb_var13_1y3      76020 non-null  int64  \n",
      " 201  delta_imp_reemb_var17_1y3      76020 non-null  int64  \n",
      " 202  delta_imp_reemb_var33_1y3      76020 non-null  int64  \n",
      " 203  delta_imp_trasp_var17_in_1y3   76020 non-null  int64  \n",
      " 204  delta_imp_trasp_var17_out_1y3  76020 non-null  int64  \n",
      " 205  delta_imp_trasp_var33_in_1y3   76020 non-null  int64  \n",
      " 206  delta_imp_trasp_var33_out_1y3  76020 non-null  int64  \n",
      " 207  delta_imp_venta_var44_1y3      76020 non-null  float64\n",
      " 208  delta_num_aport_var13_1y3      76020 non-null  float64\n",
      " 209  delta_num_aport_var17_1y3      76020 non-null  float64\n",
      " 210  delta_num_aport_var33_1y3      76020 non-null  float64\n",
      " 211  delta_num_compra_var44_1y3     76020 non-null  float64\n",
      " 212  delta_num_reemb_var13_1y3      76020 non-null  int64  \n",
      " 213  delta_num_reemb_var17_1y3      76020 non-null  int64  \n",
      " 214  delta_num_reemb_var33_1y3      76020 non-null  int64  \n",
      " 215  delta_num_trasp_var17_in_1y3   76020 non-null  int64  \n",
      " 216  delta_num_trasp_var17_out_1y3  76020 non-null  int64  \n",
      " 217  delta_num_trasp_var33_in_1y3   76020 non-null  int64  \n",
      " 218  delta_num_trasp_var33_out_1y3  76020 non-null  int64  \n",
      " 219  delta_num_venta_var44_1y3      76020 non-null  float64\n",
      " 220  imp_amort_var18_hace3          76020 non-null  int64  \n",
      " 221  imp_amort_var18_ult1           76020 non-null  float64\n",
      " 222  imp_amort_var34_hace3          76020 non-null  int64  \n",
      " 223  imp_amort_var34_ult1           76020 non-null  float64\n",
      " 224  imp_aport_var13_hace3          76020 non-null  float64\n",
      " 225  imp_aport_var13_ult1           76020 non-null  float64\n",
      " 226  imp_aport_var17_hace3          76020 non-null  float64\n",
      " 227  imp_aport_var17_ult1           76020 non-null  float64\n",
      " 228  imp_aport_var33_hace3          76020 non-null  int64  \n",
      " 229  imp_aport_var33_ult1           76020 non-null  int64  \n",
      " 230  imp_var7_emit_ult1             76020 non-null  float64\n",
      " 231  imp_var7_recib_ult1            76020 non-null  float64\n",
      " 232  imp_compra_var44_hace3         76020 non-null  float64\n",
      " 233  imp_compra_var44_ult1          76020 non-null  float64\n",
      " 234  imp_reemb_var13_hace3          76020 non-null  int64  \n",
      " 235  imp_reemb_var13_ult1           76020 non-null  float64\n",
      " 236  imp_reemb_var17_hace3          76020 non-null  float64\n",
      " 237  imp_reemb_var17_ult1           76020 non-null  float64\n",
      " 238  imp_reemb_var33_hace3          76020 non-null  int64  \n",
      " 239  imp_reemb_var33_ult1           76020 non-null  int64  \n",
      " 240  imp_var43_emit_ult1            76020 non-null  float64\n",
      " 241  imp_trans_var37_ult1           76020 non-null  float64\n",
      " 242  imp_trasp_var17_in_hace3       76020 non-null  float64\n",
      " 243  imp_trasp_var17_in_ult1        76020 non-null  float64\n",
      " 244  imp_trasp_var17_out_hace3      76020 non-null  int64  \n",
      " 245  imp_trasp_var17_out_ult1       76020 non-null  float64\n",
      " 246  imp_trasp_var33_in_hace3       76020 non-null  float64\n",
      " 247  imp_trasp_var33_in_ult1        76020 non-null  float64\n",
      " 248  imp_trasp_var33_out_hace3      76020 non-null  int64  \n",
      " 249  imp_trasp_var33_out_ult1       76020 non-null  int64  \n",
      " 250  imp_venta_var44_hace3          76020 non-null  float64\n",
      " 251  imp_venta_var44_ult1           76020 non-null  float64\n",
      " 252  ind_var7_emit_ult1             76020 non-null  int64  \n",
      " 253  ind_var7_recib_ult1            76020 non-null  int64  \n",
      " 254  ind_var10_ult1                 76020 non-null  int64  \n",
      " 255  ind_var10cte_ult1              76020 non-null  int64  \n",
      " 256  ind_var9_cte_ult1              76020 non-null  int64  \n",
      " 257  ind_var9_ult1                  76020 non-null  int64  \n",
      " 258  ind_var43_emit_ult1            76020 non-null  int64  \n",
      " 259  ind_var43_recib_ult1           76020 non-null  int64  \n",
      " 260  var21                          76020 non-null  int64  \n",
      " 261  num_var2_0_ult1                76020 non-null  int64  \n",
      " 262  num_var2_ult1                  76020 non-null  int64  \n",
      " 263  num_aport_var13_hace3          76020 non-null  int64  \n",
      " 264  num_aport_var13_ult1           76020 non-null  int64  \n",
      " 265  num_aport_var17_hace3          76020 non-null  int64  \n",
      " 266  num_aport_var17_ult1           76020 non-null  int64  \n",
      " 267  num_aport_var33_hace3          76020 non-null  int64  \n",
      " 268  num_aport_var33_ult1           76020 non-null  int64  \n",
      " 269  num_var7_emit_ult1             76020 non-null  int64  \n",
      " 270  num_var7_recib_ult1            76020 non-null  int64  \n",
      " 271  num_compra_var44_hace3         76020 non-null  int64  \n",
      " 272  num_compra_var44_ult1          76020 non-null  int64  \n",
      " 273  num_ent_var16_ult1             76020 non-null  int64  \n",
      " 274  num_var22_hace2                76020 non-null  int64  \n",
      " 275  num_var22_hace3                76020 non-null  int64  \n",
      " 276  num_var22_ult1                 76020 non-null  int64  \n",
      " 277  num_var22_ult3                 76020 non-null  int64  \n",
      " 278  num_med_var22_ult3             76020 non-null  int64  \n",
      " 279  num_med_var45_ult3             76020 non-null  int64  \n",
      " 280  num_meses_var5_ult3            76020 non-null  int64  \n",
      " 281  num_meses_var8_ult3            76020 non-null  int64  \n",
      " 282  num_meses_var12_ult3           76020 non-null  int64  \n",
      " 283  num_meses_var13_corto_ult3     76020 non-null  int64  \n",
      " 284  num_meses_var13_largo_ult3     76020 non-null  int64  \n",
      " 285  num_meses_var13_medio_ult3     76020 non-null  int64  \n",
      " 286  num_meses_var17_ult3           76020 non-null  int64  \n",
      " 287  num_meses_var29_ult3           76020 non-null  int64  \n",
      " 288  num_meses_var33_ult3           76020 non-null  int64  \n",
      " 289  num_meses_var39_vig_ult3       76020 non-null  int64  \n",
      " 290  num_meses_var44_ult3           76020 non-null  int64  \n",
      " 291  num_op_var39_comer_ult1        76020 non-null  int64  \n",
      " 292  num_op_var39_comer_ult3        76020 non-null  int64  \n",
      " 293  num_op_var40_comer_ult1        76020 non-null  int64  \n",
      " 294  num_op_var40_comer_ult3        76020 non-null  int64  \n",
      " 295  num_op_var40_efect_ult1        76020 non-null  int64  \n",
      " 296  num_op_var40_efect_ult3        76020 non-null  int64  \n",
      " 297  num_op_var41_comer_ult1        76020 non-null  int64  \n",
      " 298  num_op_var41_comer_ult3        76020 non-null  int64  \n",
      " 299  num_op_var41_efect_ult1        76020 non-null  int64  \n",
      " 300  num_op_var41_efect_ult3        76020 non-null  int64  \n",
      " 301  num_op_var39_efect_ult1        76020 non-null  int64  \n",
      " 302  num_op_var39_efect_ult3        76020 non-null  int64  \n",
      " 303  num_reemb_var13_hace3          76020 non-null  int64  \n",
      " 304  num_reemb_var13_ult1           76020 non-null  int64  \n",
      " 305  num_reemb_var17_hace3          76020 non-null  int64  \n",
      " 306  num_reemb_var17_ult1           76020 non-null  int64  \n",
      " 307  num_reemb_var33_hace3          76020 non-null  int64  \n",
      " 308  num_reemb_var33_ult1           76020 non-null  int64  \n",
      " 309  num_sal_var16_ult1             76020 non-null  int64  \n",
      " 310  num_var43_emit_ult1            76020 non-null  int64  \n",
      " 311  num_var43_recib_ult1           76020 non-null  int64  \n",
      " 312  num_trasp_var11_ult1           76020 non-null  int64  \n",
      " 313  num_trasp_var17_in_hace3       76020 non-null  int64  \n",
      " 314  num_trasp_var17_in_ult1        76020 non-null  int64  \n",
      " 315  num_trasp_var17_out_hace3      76020 non-null  int64  \n",
      " 316  num_trasp_var17_out_ult1       76020 non-null  int64  \n",
      " 317  num_trasp_var33_in_hace3       76020 non-null  int64  \n",
      " 318  num_trasp_var33_in_ult1        76020 non-null  int64  \n",
      " 319  num_trasp_var33_out_hace3      76020 non-null  int64  \n",
      " 320  num_trasp_var33_out_ult1       76020 non-null  int64  \n",
      " 321  num_venta_var44_hace3          76020 non-null  int64  \n",
      " 322  num_venta_var44_ult1           76020 non-null  int64  \n",
      " 323  num_var45_hace2                76020 non-null  int64  \n",
      " 324  num_var45_hace3                76020 non-null  int64  \n",
      " 325  num_var45_ult1                 76020 non-null  int64  \n",
      " 326  num_var45_ult3                 76020 non-null  int64  \n",
      " 327  saldo_var2_ult1                76020 non-null  int64  \n",
      " 328  saldo_medio_var5_hace2         76020 non-null  float64\n",
      " 329  saldo_medio_var5_hace3         76020 non-null  float64\n",
      " 330  saldo_medio_var5_ult1          76020 non-null  float64\n",
      " 331  saldo_medio_var5_ult3          76020 non-null  float64\n",
      " 332  saldo_medio_var8_hace2         76020 non-null  float64\n",
      " 333  saldo_medio_var8_hace3         76020 non-null  float64\n",
      " 334  saldo_medio_var8_ult1          76020 non-null  float64\n",
      " 335  saldo_medio_var8_ult3          76020 non-null  float64\n",
      " 336  saldo_medio_var12_hace2        76020 non-null  float64\n",
      " 337  saldo_medio_var12_hace3        76020 non-null  float64\n",
      " 338  saldo_medio_var12_ult1         76020 non-null  float64\n",
      " 339  saldo_medio_var12_ult3         76020 non-null  float64\n",
      " 340  saldo_medio_var13_corto_hace2  76020 non-null  float64\n",
      " 341  saldo_medio_var13_corto_hace3  76020 non-null  float64\n",
      " 342  saldo_medio_var13_corto_ult1   76020 non-null  float64\n",
      " 343  saldo_medio_var13_corto_ult3   76020 non-null  float64\n",
      " 344  saldo_medio_var13_largo_hace2  76020 non-null  float64\n",
      " 345  saldo_medio_var13_largo_hace3  76020 non-null  float64\n",
      " 346  saldo_medio_var13_largo_ult1   76020 non-null  float64\n",
      " 347  saldo_medio_var13_largo_ult3   76020 non-null  float64\n",
      " 348  saldo_medio_var13_medio_hace2  76020 non-null  float64\n",
      " 349  saldo_medio_var13_medio_hace3  76020 non-null  int64  \n",
      " 350  saldo_medio_var13_medio_ult1   76020 non-null  int64  \n",
      " 351  saldo_medio_var13_medio_ult3   76020 non-null  float64\n",
      " 352  saldo_medio_var17_hace2        76020 non-null  float64\n",
      " 353  saldo_medio_var17_hace3        76020 non-null  float64\n",
      " 354  saldo_medio_var17_ult1         76020 non-null  float64\n",
      " 355  saldo_medio_var17_ult3         76020 non-null  float64\n",
      " 356  saldo_medio_var29_hace2        76020 non-null  float64\n",
      " 357  saldo_medio_var29_hace3        76020 non-null  float64\n",
      " 358  saldo_medio_var29_ult1         76020 non-null  float64\n",
      " 359  saldo_medio_var29_ult3         76020 non-null  float64\n",
      " 360  saldo_medio_var33_hace2        76020 non-null  float64\n",
      " 361  saldo_medio_var33_hace3        76020 non-null  float64\n",
      " 362  saldo_medio_var33_ult1         76020 non-null  float64\n",
      " 363  saldo_medio_var33_ult3         76020 non-null  float64\n",
      " 364  saldo_medio_var44_hace2        76020 non-null  float64\n",
      " 365  saldo_medio_var44_hace3        76020 non-null  float64\n",
      " 366  saldo_medio_var44_ult1         76020 non-null  float64\n",
      " 367  saldo_medio_var44_ult3         76020 non-null  float64\n",
      " 368  var38                          76020 non-null  float64\n",
      " 369  TARGET                         76020 non-null  int64  \n",
      "dtypes: float64(111), int64(259)\n",
      "memory usage: 214.6 MB\n"
     ]
    }
   ],
   "source": [
    "train.info(verbose=True, show_counts=True)"
   ]
  },
  {
   "cell_type": "markdown",
   "metadata": {
    "id": "Y2mOzv629Tpe"
   },
   "source": [
    "**Bình luận**\n",
    "\n",
    "- Như chúng ta đã thấy, lần này các đặc trưng của chúng ta chỉ có một định dạng duy nhất là định dạng số. Nên chúng ta sẽ đi sâu hơn về các kỹ thuật xử lý đặc trưng dạng số.\n",
    "\n",
    "- Biến giá trị số có kiểu dữ liệu 'float64' và 'int64'.\n",
    "\n",
    "- Không có giá trị khuyết tồn tại trong tập dữ liệu."
   ]
  },
  {
   "cell_type": "markdown",
   "metadata": {
    "id": "8jgWtcF-9Tpe"
   },
   "source": [
    "## 2.2 Phân tích biến mục tiêu\n",
    "\n",
    "Do đặc trưng chúng ta muốn dự đoán là **TARGET** nên chúng ta sẽ tiến hành phân tích kỹ hơn về đặc trưng này"
   ]
  },
  {
   "cell_type": "markdown",
   "metadata": {
    "id": "_hfertXI9Tpf"
   },
   "source": [
    "- Kểm tra số lượng nhãn của đặc trưng"
   ]
  },
  {
   "cell_type": "code",
   "execution_count": null,
   "metadata": {
    "colab": {
     "base_uri": "https://localhost:8080/"
    },
    "id": "DknSKxw69Tpg",
    "outputId": "a621726a-75a3-469c-bb92-c925fff055b6"
   },
   "outputs": [
    {
     "data": {
      "text/plain": [
       "2"
      ]
     },
     "execution_count": 11,
     "metadata": {},
     "output_type": "execute_result"
    }
   ],
   "source": [
    "## Requirement 4:\n",
    "## PUT YOUR CODE HERE:\n",
    "\n",
    "train['TARGET'].nunique()"
   ]
  },
  {
   "cell_type": "markdown",
   "metadata": {
    "id": "FOsYkVzGlbmj"
   },
   "source": [
    "<details><summary> Hint </summary>\n",
    "\n",
    "[nunique()](https://pandas.pydata.org/docs/reference/api/pandas.Series.nunique.html)\n",
    "\n",
    "</details>"
   ]
  },
  {
   "cell_type": "code",
   "execution_count": null,
   "metadata": {
    "colab": {
     "base_uri": "https://localhost:8080/"
    },
    "id": "H5KUayjj9Tpg",
    "outputId": "5004b60a-a590-4362-d4ea-37c1abcac1b9"
   },
   "outputs": [
    {
     "data": {
      "text/plain": [
       "array([0, 1])"
      ]
     },
     "execution_count": 12,
     "metadata": {},
     "output_type": "execute_result"
    }
   ],
   "source": [
    "## Requirement 5:\n",
    "## PUT YOUR CODE HERE:\n",
    "\n",
    "train['TARGET'].unique()"
   ]
  },
  {
   "cell_type": "markdown",
   "metadata": {
    "id": "cgRyHNPblqRh"
   },
   "source": [
    "<details><summary> Hint </summary>\n",
    "\n",
    "[unique()](https://pandas.pydata.org/docs/reference/api/pandas.Series.unique.html)\n",
    "\n",
    "</details>"
   ]
  },
  {
   "cell_type": "markdown",
   "metadata": {
    "id": "7EAWRTgV9Tph"
   },
   "source": [
    "- Xem phân phối tần suất của các giá trị"
   ]
  },
  {
   "cell_type": "code",
   "execution_count": null,
   "metadata": {
    "colab": {
     "base_uri": "https://localhost:8080/",
     "height": 696
    },
    "id": "syLjODJO9Tph",
    "outputId": "75a82bf1-bb0d-4eb1-da29-c7189764f999"
   },
   "outputs": [
    {
     "data": {
      "image/png": "[encoded data removed]",
      "text/plain": [
       "<Figure size 600x800 with 1 Axes>"
      ]
     },
     "metadata": {},
     "output_type": "display_data"
    }
   ],
   "source": [
    "## Requirement 6:\n",
    "## PUT YOUR CODE HERE:\n",
    "f, ax = plt.subplots(figsize=(6, 8))\n",
    "ax = sns.countplot(x=\"TARGET\", data=train, palette=\"Set1\")\n",
    "\n",
    "plt.show()"
   ]
  },
  {
   "cell_type": "markdown",
   "metadata": {
    "id": "f5NWj6SwlyJ_"
   },
   "source": [
    "<details><summary> Hint </summary>\n",
    "\n",
    "Using function ```countplot()```\n",
    "\n",
    "</details>"
   ]
  },
  {
   "cell_type": "code",
   "execution_count": null,
   "metadata": {
    "colab": {
     "base_uri": "https://localhost:8080/"
    },
    "id": "JhvnTlPk9Tph",
    "outputId": "9e2fe52f-1a23-42d4-93d6-aba116dd32af"
   },
   "outputs": [
    {
     "data": {
      "text/plain": [
       "0    73012\n",
       "1     3008\n",
       "Name: TARGET, dtype: int64"
      ]
     },
     "execution_count": 14,
     "metadata": {},
     "output_type": "execute_result"
    }
   ],
   "source": [
    "train['TARGET'].value_counts()"
   ]
  },
  {
   "cell_type": "code",
   "execution_count": null,
   "metadata": {
    "colab": {
     "base_uri": "https://localhost:8080/"
    },
    "id": "h2g4v5HD9Tph",
    "outputId": "62b0e18c-1286-4ac1-e513-894cf89932bc"
   },
   "outputs": [
    {
     "data": {
      "text/plain": [
       "0    0.960431\n",
       "1    0.039569\n",
       "Name: TARGET, dtype: float64"
      ]
     },
     "execution_count": 15,
     "metadata": {},
     "output_type": "execute_result"
    }
   ],
   "source": [
    "train['TARGET'].value_counts()/len(train)"
   ]
  },
  {
   "cell_type": "markdown",
   "metadata": {
    "id": "qOoHiN1X9Tpi"
   },
   "source": [
    "**Kết quả của phân tích đơn biến**\n",
    "\n",
    "- Số lượng nhãn trong biến TARGET là 2.\n",
    "\n",
    "- Hai giá trị nhãn là 0 và 1.\n",
    "\n",
    "- Trong tổng số giá trị của TARGET, No xuất hiện 96,04% lần và Yes xuất hiện 3,96% lần.\n",
    "\n",
    "- Biểu đồ đơn biến xác nhận những phát hiện của chúng ta rằng\n",
    "\n",
    "    - 0 có 73012 giá trị và\n",
    "\n",
    "    - 1 có 3008 giá trị.\n",
    "    \n",
    "- Dữ liệu bị mất cân bằng, đòi hỏi phải có các kỹ thuật xử lý đặc biệt để mô hình không bị 'bias'"
   ]
  },
  {
   "cell_type": "markdown",
   "metadata": {
    "id": "VuNicUS-9Tpi"
   },
   "source": [
    "## 2.3 Phân tích biến phụ thuộc"
   ]
  },
  {
   "cell_type": "markdown",
   "metadata": {
    "id": "8N0RjVXw9Tpi"
   },
   "source": [
    "- Xem các thuộc tính thống kê của tập dữ liệu"
   ]
  },
  {
   "cell_type": "code",
   "execution_count": null,
   "metadata": {
    "colab": {
     "base_uri": "https://localhost:8080/",
     "height": 350
    },
    "id": "JMV14SOT9Tpi",
    "outputId": "0c8751ee-88f4-4dad-c7a6-0d370e9166d3"
   },
   "outputs": [
    {
     "data": {
      "text/html": [
       "\n",
       "  <div id=\"df-d83e28eb-a63d-485c-9e42-cd95f45b0db3\" class=\"colab-df-container\">\n",
       "    <div>\n",
       "<style scoped>\n",
       "    .dataframe tbody tr th:only-of-type {\n",
       "        vertical-align: middle;\n",
       "    }\n",
       "\n",
       "    .dataframe tbody tr th {\n",
       "        vertical-align: top;\n",
       "    }\n",
       "\n",
       "    .dataframe thead th {\n",
       "        text-align: right;\n",
       "    }\n",
       "</style>\n",
       "<table border=\"1\" class=\"dataframe\">\n",
       "  <thead>\n",
       "    <tr style=\"text-align: right;\">\n",
       "      <th></th>\n",
       "      <th>var3</th>\n",
       "      <th>var15</th>\n",
       "      <th>imp_ent_var16_ult1</th>\n",
       "      <th>imp_op_var39_comer_ult1</th>\n",
       "      <th>imp_op_var39_comer_ult3</th>\n",
       "      <th>imp_op_var40_comer_ult1</th>\n",
       "      <th>imp_op_var40_comer_ult3</th>\n",
       "      <th>imp_op_var40_efect_ult1</th>\n",
       "      <th>imp_op_var40_efect_ult3</th>\n",
       "      <th>imp_op_var40_ult1</th>\n",
       "      <th>...</th>\n",
       "      <th>saldo_medio_var33_hace2</th>\n",
       "      <th>saldo_medio_var33_hace3</th>\n",
       "      <th>saldo_medio_var33_ult1</th>\n",
       "      <th>saldo_medio_var33_ult3</th>\n",
       "      <th>saldo_medio_var44_hace2</th>\n",
       "      <th>saldo_medio_var44_hace3</th>\n",
       "      <th>saldo_medio_var44_ult1</th>\n",
       "      <th>saldo_medio_var44_ult3</th>\n",
       "      <th>var38</th>\n",
       "      <th>TARGET</th>\n",
       "    </tr>\n",
       "  </thead>\n",
       "  <tbody>\n",
       "    <tr>\n",
       "      <th>count</th>\n",
       "      <td>76020.000000</td>\n",
       "      <td>76020.000000</td>\n",
       "      <td>76020.000000</td>\n",
       "      <td>76020.000000</td>\n",
       "      <td>76020.000000</td>\n",
       "      <td>76020.000000</td>\n",
       "      <td>76020.000000</td>\n",
       "      <td>76020.000000</td>\n",
       "      <td>76020.000000</td>\n",
       "      <td>76020.000000</td>\n",
       "      <td>...</td>\n",
       "      <td>76020.000000</td>\n",
       "      <td>76020.000000</td>\n",
       "      <td>76020.000000</td>\n",
       "      <td>76020.000000</td>\n",
       "      <td>76020.000000</td>\n",
       "      <td>76020.000000</td>\n",
       "      <td>76020.000000</td>\n",
       "      <td>76020.000000</td>\n",
       "      <td>7.602000e+04</td>\n",
       "      <td>76020.000000</td>\n",
       "    </tr>\n",
       "    <tr>\n",
       "      <th>mean</th>\n",
       "      <td>-1523.199277</td>\n",
       "      <td>33.212865</td>\n",
       "      <td>86.208265</td>\n",
       "      <td>72.363067</td>\n",
       "      <td>119.529632</td>\n",
       "      <td>3.559130</td>\n",
       "      <td>6.472698</td>\n",
       "      <td>0.412946</td>\n",
       "      <td>0.567352</td>\n",
       "      <td>3.160715</td>\n",
       "      <td>...</td>\n",
       "      <td>7.935824</td>\n",
       "      <td>1.365146</td>\n",
       "      <td>12.215580</td>\n",
       "      <td>8.784074</td>\n",
       "      <td>31.505324</td>\n",
       "      <td>1.858575</td>\n",
       "      <td>76.026165</td>\n",
       "      <td>56.614351</td>\n",
       "      <td>1.172358e+05</td>\n",
       "      <td>0.039569</td>\n",
       "    </tr>\n",
       "    <tr>\n",
       "      <th>std</th>\n",
       "      <td>39033.462364</td>\n",
       "      <td>12.956486</td>\n",
       "      <td>1614.757313</td>\n",
       "      <td>339.315831</td>\n",
       "      <td>546.266294</td>\n",
       "      <td>93.155749</td>\n",
       "      <td>153.737066</td>\n",
       "      <td>30.604864</td>\n",
       "      <td>36.513513</td>\n",
       "      <td>95.268204</td>\n",
       "      <td>...</td>\n",
       "      <td>455.887218</td>\n",
       "      <td>113.959637</td>\n",
       "      <td>783.207399</td>\n",
       "      <td>538.439211</td>\n",
       "      <td>2013.125393</td>\n",
       "      <td>147.786584</td>\n",
       "      <td>4040.337842</td>\n",
       "      <td>2852.579397</td>\n",
       "      <td>1.826646e+05</td>\n",
       "      <td>0.194945</td>\n",
       "    </tr>\n",
       "    <tr>\n",
       "      <th>min</th>\n",
       "      <td>-999999.000000</td>\n",
       "      <td>5.000000</td>\n",
       "      <td>0.000000</td>\n",
       "      <td>0.000000</td>\n",
       "      <td>0.000000</td>\n",
       "      <td>0.000000</td>\n",
       "      <td>0.000000</td>\n",
       "      <td>0.000000</td>\n",
       "      <td>0.000000</td>\n",
       "      <td>0.000000</td>\n",
       "      <td>...</td>\n",
       "      <td>0.000000</td>\n",
       "      <td>0.000000</td>\n",
       "      <td>0.000000</td>\n",
       "      <td>0.000000</td>\n",
       "      <td>0.000000</td>\n",
       "      <td>0.000000</td>\n",
       "      <td>0.000000</td>\n",
       "      <td>0.000000</td>\n",
       "      <td>5.163750e+03</td>\n",
       "      <td>0.000000</td>\n",
       "    </tr>\n",
       "    <tr>\n",
       "      <th>25%</th>\n",
       "      <td>2.000000</td>\n",
       "      <td>23.000000</td>\n",
       "      <td>0.000000</td>\n",
       "      <td>0.000000</td>\n",
       "      <td>0.000000</td>\n",
       "      <td>0.000000</td>\n",
       "      <td>0.000000</td>\n",
       "      <td>0.000000</td>\n",
       "      <td>0.000000</td>\n",
       "      <td>0.000000</td>\n",
       "      <td>...</td>\n",
       "      <td>0.000000</td>\n",
       "      <td>0.000000</td>\n",
       "      <td>0.000000</td>\n",
       "      <td>0.000000</td>\n",
       "      <td>0.000000</td>\n",
       "      <td>0.000000</td>\n",
       "      <td>0.000000</td>\n",
       "      <td>0.000000</td>\n",
       "      <td>6.787061e+04</td>\n",
       "      <td>0.000000</td>\n",
       "    </tr>\n",
       "    <tr>\n",
       "      <th>50%</th>\n",
       "      <td>2.000000</td>\n",
       "      <td>28.000000</td>\n",
       "      <td>0.000000</td>\n",
       "      <td>0.000000</td>\n",
       "      <td>0.000000</td>\n",
       "      <td>0.000000</td>\n",
       "      <td>0.000000</td>\n",
       "      <td>0.000000</td>\n",
       "      <td>0.000000</td>\n",
       "      <td>0.000000</td>\n",
       "      <td>...</td>\n",
       "      <td>0.000000</td>\n",
       "      <td>0.000000</td>\n",
       "      <td>0.000000</td>\n",
       "      <td>0.000000</td>\n",
       "      <td>0.000000</td>\n",
       "      <td>0.000000</td>\n",
       "      <td>0.000000</td>\n",
       "      <td>0.000000</td>\n",
       "      <td>1.064092e+05</td>\n",
       "      <td>0.000000</td>\n",
       "    </tr>\n",
       "    <tr>\n",
       "      <th>75%</th>\n",
       "      <td>2.000000</td>\n",
       "      <td>40.000000</td>\n",
       "      <td>0.000000</td>\n",
       "      <td>0.000000</td>\n",
       "      <td>0.000000</td>\n",
       "      <td>0.000000</td>\n",
       "      <td>0.000000</td>\n",
       "      <td>0.000000</td>\n",
       "      <td>0.000000</td>\n",
       "      <td>0.000000</td>\n",
       "      <td>...</td>\n",
       "      <td>0.000000</td>\n",
       "      <td>0.000000</td>\n",
       "      <td>0.000000</td>\n",
       "      <td>0.000000</td>\n",
       "      <td>0.000000</td>\n",
       "      <td>0.000000</td>\n",
       "      <td>0.000000</td>\n",
       "      <td>0.000000</td>\n",
       "      <td>1.187563e+05</td>\n",
       "      <td>0.000000</td>\n",
       "    </tr>\n",
       "    <tr>\n",
       "      <th>max</th>\n",
       "      <td>238.000000</td>\n",
       "      <td>105.000000</td>\n",
       "      <td>210000.000000</td>\n",
       "      <td>12888.030000</td>\n",
       "      <td>21024.810000</td>\n",
       "      <td>8237.820000</td>\n",
       "      <td>11073.570000</td>\n",
       "      <td>6600.000000</td>\n",
       "      <td>6600.000000</td>\n",
       "      <td>8237.820000</td>\n",
       "      <td>...</td>\n",
       "      <td>50003.880000</td>\n",
       "      <td>20385.720000</td>\n",
       "      <td>138831.630000</td>\n",
       "      <td>91778.730000</td>\n",
       "      <td>438329.220000</td>\n",
       "      <td>24650.010000</td>\n",
       "      <td>681462.900000</td>\n",
       "      <td>397884.300000</td>\n",
       "      <td>2.203474e+07</td>\n",
       "      <td>1.000000</td>\n",
       "    </tr>\n",
       "  </tbody>\n",
       "</table>\n",
       "<p>8 rows × 370 columns</p>\n",
       "</div>\n",
       "    <div class=\"colab-df-buttons\">\n",
       "\n",
       "  <div class=\"colab-df-container\">\n",
       "    <button class=\"colab-df-convert\" onclick=\"convertToInteractive('df-d83e28eb-a63d-485c-9e42-cd95f45b0db3')\"\n",
       "            title=\"Convert this dataframe to an interactive table.\"\n",
       "            style=\"display:none;\">\n",
       "\n",
       "  <svg xmlns=\"http://www.w3.org/2000/svg\" height=\"24px\" viewBox=\"0 -960 960 960\">\n",
       "    <path d=\"M120-120v-720h720v720H120Zm60-500h600v-160H180v160Zm220 220h160v-160H400v160Zm0 220h160v-160H400v160ZM180-400h160v-160H180v160Zm440 0h160v-160H620v160ZM180-180h160v-160H180v160Zm440 0h160v-160H620v160Z\"/>\n",
       "  </svg>\n",
       "    </button>\n",
       "\n",
       "  <style>\n",
       "    .colab-df-container {\n",
       "      display:flex;\n",
       "      gap: 12px;\n",
       "    }\n",
       "\n",
       "    .colab-df-convert {\n",
       "      background-color: #E8F0FE;\n",
       "      border: none;\n",
       "      border-radius: 50%;\n",
       "      cursor: pointer;\n",
       "      display: none;\n",
       "      fill: #1967D2;\n",
       "      height: 32px;\n",
       "      padding: 0 0 0 0;\n",
       "      width: 32px;\n",
       "    }\n",
       "\n",
       "    .colab-df-convert:hover {\n",
       "      background-color: #E2EBFA;\n",
       "      box-shadow: 0px 1px 2px rgba(60, 64, 67, 0.3), 0px 1px 3px 1px rgba(60, 64, 67, 0.15);\n",
       "      fill: #174EA6;\n",
       "    }\n",
       "\n",
       "    .colab-df-buttons div {\n",
       "      margin-bottom: 4px;\n",
       "    }\n",
       "\n",
       "    [theme=dark] .colab-df-convert {\n",
       "      background-color: #3B4455;\n",
       "      fill: #D2E3FC;\n",
       "    }\n",
       "\n",
       "    [theme=dark] .colab-df-convert:hover {\n",
       "      background-color: #434B5C;\n",
       "      box-shadow: 0px 1px 3px 1px rgba(0, 0, 0, 0.15);\n",
       "      filter: drop-shadow(0px 1px 2px rgba(0, 0, 0, 0.3));\n",
       "      fill: #FFFFFF;\n",
       "    }\n",
       "  </style>\n",
       "\n",
       "    <script>\n",
       "      const buttonEl =\n",
       "        document.querySelector('#df-d83e28eb-a63d-485c-9e42-cd95f45b0db3 button.colab-df-convert');\n",
       "      buttonEl.style.display =\n",
       "        google.colab.kernel.accessAllowed ? 'block' : 'none';\n",
       "\n",
       "      async function convertToInteractive(key) {\n",
       "        const element = document.querySelector('#df-d83e28eb-a63d-485c-9e42-cd95f45b0db3');\n",
       "        const dataTable =\n",
       "          await google.colab.kernel.invokeFunction('convertToInteractive',\n",
       "                                                    [key], {});\n",
       "        if (!dataTable) return;\n",
       "\n",
       "        const docLinkHtml = 'Like what you see? Visit the ' +\n",
       "          '<a target=\"_blank\" href=https://colab.research.google.com/notebooks/data_table.ipynb>data table notebook</a>'\n",
       "          + ' to learn more about interactive tables.';\n",
       "        element.innerHTML = '';\n",
       "        dataTable['output_type'] = 'display_data';\n",
       "        await google.colab.output.renderOutput(dataTable, element);\n",
       "        const docLink = document.createElement('div');\n",
       "        docLink.innerHTML = docLinkHtml;\n",
       "        element.appendChild(docLink);\n",
       "      }\n",
       "    </script>\n",
       "  </div>\n",
       "\n",
       "\n",
       "<div id=\"df-3cec4b26-327b-4c88-bd9a-bb22f06ca169\">\n",
       "  <button class=\"colab-df-quickchart\" onclick=\"quickchart('df-3cec4b26-327b-4c88-bd9a-bb22f06ca169')\"\n",
       "            title=\"Suggest charts.\"\n",
       "            style=\"display:none;\">\n",
       "\n",
       "<svg xmlns=\"http://www.w3.org/2000/svg\" height=\"24px\"viewBox=\"0 0 24 24\"\n",
       "     width=\"24px\">\n",
       "    <g>\n",
       "        <path d=\"M19 3H5c-1.1 0-2 .9-2 2v14c0 1.1.9 2 2 2h14c1.1 0 2-.9 2-2V5c0-1.1-.9-2-2-2zM9 17H7v-7h2v7zm4 0h-2V7h2v10zm4 0h-2v-4h2v4z\"/>\n",
       "    </g>\n",
       "</svg>\n",
       "  </button>\n",
       "\n",
       "<style>\n",
       "  .colab-df-quickchart {\n",
       "      --bg-color: #E8F0FE;\n",
       "      --fill-color: #1967D2;\n",
       "      --hover-bg-color: #E2EBFA;\n",
       "      --hover-fill-color: #174EA6;\n",
       "      --disabled-fill-color: #AAA;\n",
       "      --disabled-bg-color: #DDD;\n",
       "  }\n",
       "\n",
       "  [theme=dark] .colab-df-quickchart {\n",
       "      --bg-color: #3B4455;\n",
       "      --fill-color: #D2E3FC;\n",
       "      --hover-bg-color: #434B5C;\n",
       "      --hover-fill-color: #FFFFFF;\n",
       "      --disabled-bg-color: #3B4455;\n",
       "      --disabled-fill-color: #666;\n",
       "  }\n",
       "\n",
       "  .colab-df-quickchart {\n",
       "    background-color: var(--bg-color);\n",
       "    border: none;\n",
       "    border-radius: 50%;\n",
       "    cursor: pointer;\n",
       "    display: none;\n",
       "    fill: var(--fill-color);\n",
       "    height: 32px;\n",
       "    padding: 0;\n",
       "    width: 32px;\n",
       "  }\n",
       "\n",
       "  .colab-df-quickchart:hover {\n",
       "    background-color: var(--hover-bg-color);\n",
       "    box-shadow: 0 1px 2px rgba(60, 64, 67, 0.3), 0 1px 3px 1px rgba(60, 64, 67, 0.15);\n",
       "    fill: var(--button-hover-fill-color);\n",
       "  }\n",
       "\n",
       "  .colab-df-quickchart-complete:disabled,\n",
       "  .colab-df-quickchart-complete:disabled:hover {\n",
       "    background-color: var(--disabled-bg-color);\n",
       "    fill: var(--disabled-fill-color);\n",
       "    box-shadow: none;\n",
       "  }\n",
       "\n",
       "  .colab-df-spinner {\n",
       "    border: 2px solid var(--fill-color);\n",
       "    border-color: transparent;\n",
       "    border-bottom-color: var(--fill-color);\n",
       "    animation:\n",
       "      spin 1s steps(1) infinite;\n",
       "  }\n",
       "\n",
       "  @keyframes spin {\n",
       "    0% {\n",
       "      border-color: transparent;\n",
       "      border-bottom-color: var(--fill-color);\n",
       "      border-left-color: var(--fill-color);\n",
       "    }\n",
       "    20% {\n",
       "      border-color: transparent;\n",
       "      border-left-color: var(--fill-color);\n",
       "      border-top-color: var(--fill-color);\n",
       "    }\n",
       "    30% {\n",
       "      border-color: transparent;\n",
       "      border-left-color: var(--fill-color);\n",
       "      border-top-color: var(--fill-color);\n",
       "      border-right-color: var(--fill-color);\n",
       "    }\n",
       "    40% {\n",
       "      border-color: transparent;\n",
       "      border-right-color: var(--fill-color);\n",
       "      border-top-color: var(--fill-color);\n",
       "    }\n",
       "    60% {\n",
       "      border-color: transparent;\n",
       "      border-right-color: var(--fill-color);\n",
       "    }\n",
       "    80% {\n",
       "      border-color: transparent;\n",
       "      border-right-color: var(--fill-color);\n",
       "      border-bottom-color: var(--fill-color);\n",
       "    }\n",
       "    90% {\n",
       "      border-color: transparent;\n",
       "      border-bottom-color: var(--fill-color);\n",
       "    }\n",
       "  }\n",
       "</style>\n",
       "\n",
       "  <script>\n",
       "    async function quickchart(key) {\n",
       "      const quickchartButtonEl =\n",
       "        document.querySelector('#' + key + ' button');\n",
       "      quickchartButtonEl.disabled = true;  // To prevent multiple clicks.\n",
       "      quickchartButtonEl.classList.add('colab-df-spinner');\n",
       "      try {\n",
       "        const charts = await google.colab.kernel.invokeFunction(\n",
       "            'suggestCharts', [key], {});\n",
       "      } catch (error) {\n",
       "        console.error('Error during call to suggestCharts:', error);\n",
       "      }\n",
       "      quickchartButtonEl.classList.remove('colab-df-spinner');\n",
       "      quickchartButtonEl.classList.add('colab-df-quickchart-complete');\n",
       "    }\n",
       "    (() => {\n",
       "      let quickchartButtonEl =\n",
       "        document.querySelector('#df-3cec4b26-327b-4c88-bd9a-bb22f06ca169 button');\n",
       "      quickchartButtonEl.style.display =\n",
       "        google.colab.kernel.accessAllowed ? 'block' : 'none';\n",
       "    })();\n",
       "  </script>\n",
       "</div>\n",
       "    </div>\n",
       "  </div>\n"
      ],
      "text/plain": [
       "                var3         var15  imp_ent_var16_ult1  \\\n",
       "count   76020.000000  76020.000000        76020.000000   \n",
       "mean    -1523.199277     33.212865           86.208265   \n",
       "std     39033.462364     12.956486         1614.757313   \n",
       "min   -999999.000000      5.000000            0.000000   \n",
       "25%         2.000000     23.000000            0.000000   \n",
       "50%         2.000000     28.000000            0.000000   \n",
       "75%         2.000000     40.000000            0.000000   \n",
       "max       238.000000    105.000000       210000.000000   \n",
       "\n",
       "       imp_op_var39_comer_ult1  imp_op_var39_comer_ult3  \\\n",
       "count             76020.000000             76020.000000   \n",
       "mean                 72.363067               119.529632   \n",
       "std                 339.315831               546.266294   \n",
       "min                   0.000000                 0.000000   \n",
       "25%                   0.000000                 0.000000   \n",
       "50%                   0.000000                 0.000000   \n",
       "75%                   0.000000                 0.000000   \n",
       "max               12888.030000             21024.810000   \n",
       "\n",
       "       imp_op_var40_comer_ult1  imp_op_var40_comer_ult3  \\\n",
       "count             76020.000000             76020.000000   \n",
       "mean                  3.559130                 6.472698   \n",
       "std                  93.155749               153.737066   \n",
       "min                   0.000000                 0.000000   \n",
       "25%                   0.000000                 0.000000   \n",
       "50%                   0.000000                 0.000000   \n",
       "75%                   0.000000                 0.000000   \n",
       "max                8237.820000             11073.570000   \n",
       "\n",
       "       imp_op_var40_efect_ult1  imp_op_var40_efect_ult3  imp_op_var40_ult1  \\\n",
       "count             76020.000000             76020.000000       76020.000000   \n",
       "mean                  0.412946                 0.567352           3.160715   \n",
       "std                  30.604864                36.513513          95.268204   \n",
       "min                   0.000000                 0.000000           0.000000   \n",
       "25%                   0.000000                 0.000000           0.000000   \n",
       "50%                   0.000000                 0.000000           0.000000   \n",
       "75%                   0.000000                 0.000000           0.000000   \n",
       "max                6600.000000              6600.000000        8237.820000   \n",
       "\n",
       "       ...  saldo_medio_var33_hace2  saldo_medio_var33_hace3  \\\n",
       "count  ...             76020.000000             76020.000000   \n",
       "mean   ...                 7.935824                 1.365146   \n",
       "std    ...               455.887218               113.959637   \n",
       "min    ...                 0.000000                 0.000000   \n",
       "25%    ...                 0.000000                 0.000000   \n",
       "50%    ...                 0.000000                 0.000000   \n",
       "75%    ...                 0.000000                 0.000000   \n",
       "max    ...             50003.880000             20385.720000   \n",
       "\n",
       "       saldo_medio_var33_ult1  saldo_medio_var33_ult3  \\\n",
       "count            76020.000000            76020.000000   \n",
       "mean                12.215580                8.784074   \n",
       "std                783.207399              538.439211   \n",
       "min                  0.000000                0.000000   \n",
       "25%                  0.000000                0.000000   \n",
       "50%                  0.000000                0.000000   \n",
       "75%                  0.000000                0.000000   \n",
       "max             138831.630000            91778.730000   \n",
       "\n",
       "       saldo_medio_var44_hace2  saldo_medio_var44_hace3  \\\n",
       "count             76020.000000             76020.000000   \n",
       "mean                 31.505324                 1.858575   \n",
       "std                2013.125393               147.786584   \n",
       "min                   0.000000                 0.000000   \n",
       "25%                   0.000000                 0.000000   \n",
       "50%                   0.000000                 0.000000   \n",
       "75%                   0.000000                 0.000000   \n",
       "max              438329.220000             24650.010000   \n",
       "\n",
       "       saldo_medio_var44_ult1  saldo_medio_var44_ult3         var38  \\\n",
       "count            76020.000000            76020.000000  7.602000e+04   \n",
       "mean                76.026165               56.614351  1.172358e+05   \n",
       "std               4040.337842             2852.579397  1.826646e+05   \n",
       "min                  0.000000                0.000000  5.163750e+03   \n",
       "25%                  0.000000                0.000000  6.787061e+04   \n",
       "50%                  0.000000                0.000000  1.064092e+05   \n",
       "75%                  0.000000                0.000000  1.187563e+05   \n",
       "max             681462.900000           397884.300000  2.203474e+07   \n",
       "\n",
       "             TARGET  \n",
       "count  76020.000000  \n",
       "mean       0.039569  \n",
       "std        0.194945  \n",
       "min        0.000000  \n",
       "25%        0.000000  \n",
       "50%        0.000000  \n",
       "75%        0.000000  \n",
       "max        1.000000  \n",
       "\n",
       "[8 rows x 370 columns]"
      ]
     },
     "execution_count": 16,
     "metadata": {},
     "output_type": "execute_result"
    }
   ],
   "source": [
    "## Requirement 7:\n",
    "## PUT YOUR CODE HERE:\n",
    "train.describe()"
   ]
  },
  {
   "cell_type": "markdown",
   "metadata": {
    "id": "oq9rXdmvl98i"
   },
   "source": [
    "<details><summary> Hint </summary>\n",
    "\n",
    "[describe()](https://pandas.pydata.org/pandas-docs/version/1.3/reference/api/pandas.DataFrame.describe.html)\n",
    "\n",
    "</details>"
   ]
  },
  {
   "cell_type": "markdown",
   "metadata": {
    "id": "Ht6HgGvz9Tpi"
   },
   "source": [
    "- Tìm các dữ liệu ngoại lai"
   ]
  },
  {
   "cell_type": "code",
   "execution_count": null,
   "metadata": {
    "colab": {
     "base_uri": "https://localhost:8080/"
    },
    "id": "E1wDWcg19Tpk",
    "outputId": "42a2f7bb-697f-4d3a-93bb-d202a7ce2a7b"
   },
   "outputs": [
    {
     "name": "stdout",
     "output_type": "stream",
     "text": [
      "Dữ liệu ngoại lai của biến var3 là các giá trị < 2.0 hoặc > 2.0\n",
      "Dữ liệu ngoại lai của biến var15 là các giá trị < -28.0 hoặc > -11.0\n",
      "Dữ liệu ngoại lai của biến imp_ent_var16_ult1 là các giá trị < 0.0 hoặc > 0.0\n",
      "Dữ liệu ngoại lai của biến imp_op_var39_comer_ult1 là các giá trị < 0.0 hoặc > 0.0\n",
      "Dữ liệu ngoại lai của biến imp_op_var39_comer_ult3 là các giá trị < 0.0 hoặc > 0.0\n",
      "Dữ liệu ngoại lai của biến imp_op_var40_comer_ult1 là các giá trị < 0.0 hoặc > 0.0\n",
      "Dữ liệu ngoại lai của biến imp_op_var40_comer_ult3 là các giá trị < 0.0 hoặc > 0.0\n",
      "Dữ liệu ngoại lai của biến imp_op_var40_efect_ult1 là các giá trị < 0.0 hoặc > 0.0\n",
      "Dữ liệu ngoại lai của biến imp_op_var40_efect_ult3 là các giá trị < 0.0 hoặc > 0.0\n",
      "Dữ liệu ngoại lai của biến imp_op_var40_ult1 là các giá trị < 0.0 hoặc > 0.0\n",
      "Dữ liệu ngoại lai của biến imp_op_var41_comer_ult1 là các giá trị < 0.0 hoặc > 0.0\n",
      "Dữ liệu ngoại lai của biến imp_op_var41_comer_ult3 là các giá trị < 0.0 hoặc > 0.0\n",
      "Dữ liệu ngoại lai của biến imp_op_var41_efect_ult1 là các giá trị < 0.0 hoặc > 0.0\n",
      "Dữ liệu ngoại lai của biến imp_op_var41_efect_ult3 là các giá trị < 0.0 hoặc > 0.0\n",
      "Dữ liệu ngoại lai của biến imp_op_var41_ult1 là các giá trị < 0.0 hoặc > 0.0\n",
      "Dữ liệu ngoại lai của biến imp_op_var39_efect_ult1 là các giá trị < 0.0 hoặc > 0.0\n",
      "Dữ liệu ngoại lai của biến imp_op_var39_efect_ult3 là các giá trị < 0.0 hoặc > 0.0\n",
      "Dữ liệu ngoại lai của biến imp_op_var39_ult1 là các giá trị < 0.0 hoặc > 0.0\n",
      "Dữ liệu ngoại lai của biến imp_sal_var16_ult1 là các giá trị < 0.0 hoặc > 0.0\n",
      "Dữ liệu ngoại lai của biến ind_var1_0 là các giá trị < 0.0 hoặc > 0.0\n",
      "Dữ liệu ngoại lai của biến ind_var1 là các giá trị < 0.0 hoặc > 0.0\n",
      "Dữ liệu ngoại lai của biến ind_var2_0 là các giá trị < 0.0 hoặc > 0.0\n",
      "Dữ liệu ngoại lai của biến ind_var2 là các giá trị < 0.0 hoặc > 0.0\n",
      "Dữ liệu ngoại lai của biến ind_var5_0 là các giá trị < 1.0 hoặc > 1.0\n",
      "Dữ liệu ngoại lai của biến ind_var5 là các giá trị < -3.0 hoặc > -2.0\n",
      "Dữ liệu ngoại lai của biến ind_var6_0 là các giá trị < 0.0 hoặc > 0.0\n",
      "Dữ liệu ngoại lai của biến ind_var6 là các giá trị < 0.0 hoặc > 0.0\n",
      "Dữ liệu ngoại lai của biến ind_var8_0 là các giá trị < 0.0 hoặc > 0.0\n",
      "Dữ liệu ngoại lai của biến ind_var8 là các giá trị < 0.0 hoặc > 0.0\n",
      "Dữ liệu ngoại lai của biến ind_var12_0 là các giá trị < 0.0 hoặc > 0.0\n",
      "Dữ liệu ngoại lai của biến ind_var12 là các giá trị < 0.0 hoặc > 0.0\n",
      "Dữ liệu ngoại lai của biến ind_var13_0 là các giá trị < 0.0 hoặc > 0.0\n",
      "Dữ liệu ngoại lai của biến ind_var13_corto_0 là các giá trị < 0.0 hoặc > 0.0\n",
      "Dữ liệu ngoại lai của biến ind_var13_corto là các giá trị < 0.0 hoặc > 0.0\n",
      "Dữ liệu ngoại lai của biến ind_var13_largo_0 là các giá trị < 0.0 hoặc > 0.0\n",
      "Dữ liệu ngoại lai của biến ind_var13_largo là các giá trị < 0.0 hoặc > 0.0\n",
      "Dữ liệu ngoại lai của biến ind_var13_medio_0 là các giá trị < 0.0 hoặc > 0.0\n",
      "Dữ liệu ngoại lai của biến ind_var13_medio là các giá trị < 0.0 hoặc > 0.0\n",
      "Dữ liệu ngoại lai của biến ind_var13 là các giá trị < 0.0 hoặc > 0.0\n",
      "Dữ liệu ngoại lai của biến ind_var14_0 là các giá trị < 0.0 hoặc > 0.0\n",
      "Dữ liệu ngoại lai của biến ind_var14 là các giá trị < 0.0 hoặc > 0.0\n",
      "Dữ liệu ngoại lai của biến ind_var17_0 là các giá trị < 0.0 hoặc > 0.0\n",
      "Dữ liệu ngoại lai của biến ind_var17 là các giá trị < 0.0 hoặc > 0.0\n",
      "Dữ liệu ngoại lai của biến ind_var18_0 là các giá trị < 0.0 hoặc > 0.0\n",
      "Dữ liệu ngoại lai của biến ind_var18 là các giá trị < 0.0 hoặc > 0.0\n",
      "Dữ liệu ngoại lai của biến ind_var19 là các giá trị < 0.0 hoặc > 0.0\n",
      "Dữ liệu ngoại lai của biến ind_var20_0 là các giá trị < 0.0 hoặc > 0.0\n",
      "Dữ liệu ngoại lai của biến ind_var20 là các giá trị < 0.0 hoặc > 0.0\n",
      "Dữ liệu ngoại lai của biến ind_var24_0 là các giá trị < 0.0 hoặc > 0.0\n",
      "Dữ liệu ngoại lai của biến ind_var24 là các giá trị < 0.0 hoặc > 0.0\n",
      "Dữ liệu ngoại lai của biến ind_var25_cte là các giá trị < 0.0 hoặc > 0.0\n",
      "Dữ liệu ngoại lai của biến ind_var26_0 là các giá trị < 0.0 hoặc > 0.0\n",
      "Dữ liệu ngoại lai của biến ind_var26_cte là các giá trị < 0.0 hoặc > 0.0\n",
      "Dữ liệu ngoại lai của biến ind_var26 là các giá trị < 0.0 hoặc > 0.0\n",
      "Dữ liệu ngoại lai của biến ind_var25_0 là các giá trị < 0.0 hoặc > 0.0\n",
      "Dữ liệu ngoại lai của biến ind_var25 là các giá trị < 0.0 hoặc > 0.0\n",
      "Dữ liệu ngoại lai của biến ind_var27_0 là các giá trị < 0.0 hoặc > 0.0\n",
      "Dữ liệu ngoại lai của biến ind_var28_0 là các giá trị < 0.0 hoặc > 0.0\n",
      "Dữ liệu ngoại lai của biến ind_var28 là các giá trị < 0.0 hoặc > 0.0\n",
      "Dữ liệu ngoại lai của biến ind_var27 là các giá trị < 0.0 hoặc > 0.0\n",
      "Dữ liệu ngoại lai của biến ind_var29_0 là các giá trị < 0.0 hoặc > 0.0\n",
      "Dữ liệu ngoại lai của biến ind_var29 là các giá trị < 0.0 hoặc > 0.0\n",
      "Dữ liệu ngoại lai của biến ind_var30_0 là các giá trị < 1.0 hoặc > 1.0\n",
      "Dữ liệu ngoại lai của biến ind_var30 là các giá trị < -3.0 hoặc > -2.0\n",
      "Dữ liệu ngoại lai của biến ind_var31_0 là các giá trị < 0.0 hoặc > 0.0\n",
      "Dữ liệu ngoại lai của biến ind_var31 là các giá trị < 0.0 hoặc > 0.0\n",
      "Dữ liệu ngoại lai của biến ind_var32_cte là các giá trị < 0.0 hoặc > 0.0\n",
      "Dữ liệu ngoại lai của biến ind_var32_0 là các giá trị < 0.0 hoặc > 0.0\n",
      "Dữ liệu ngoại lai của biến ind_var32 là các giá trị < 0.0 hoặc > 0.0\n",
      "Dữ liệu ngoại lai của biến ind_var33_0 là các giá trị < 0.0 hoặc > 0.0\n",
      "Dữ liệu ngoại lai của biến ind_var33 là các giá trị < 0.0 hoặc > 0.0\n",
      "Dữ liệu ngoại lai của biến ind_var34_0 là các giá trị < 0.0 hoặc > 0.0\n",
      "Dữ liệu ngoại lai của biến ind_var34 là các giá trị < 0.0 hoặc > 0.0\n",
      "Dữ liệu ngoại lai của biến ind_var37_cte là các giá trị < 0.0 hoặc > 0.0\n",
      "Dữ liệu ngoại lai của biến ind_var37_0 là các giá trị < 0.0 hoặc > 0.0\n",
      "Dữ liệu ngoại lai của biến ind_var37 là các giá trị < 0.0 hoặc > 0.0\n",
      "Dữ liệu ngoại lai của biến ind_var39_0 là các giá trị < 1.0 hoặc > 1.0\n",
      "Dữ liệu ngoại lai của biến ind_var40_0 là các giá trị < 0.0 hoặc > 0.0\n",
      "Dữ liệu ngoại lai của biến ind_var40 là các giá trị < 0.0 hoặc > 0.0\n",
      "Dữ liệu ngoại lai của biến ind_var41_0 là các giá trị < 1.0 hoặc > 1.0\n",
      "Dữ liệu ngoại lai của biến ind_var41 là các giá trị < 0.0 hoặc > 0.0\n",
      "Dữ liệu ngoại lai của biến ind_var39 là các giá trị < 0.0 hoặc > 0.0\n",
      "Dữ liệu ngoại lai của biến ind_var44_0 là các giá trị < 0.0 hoặc > 0.0\n",
      "Dữ liệu ngoại lai của biến ind_var44 là các giá trị < 0.0 hoặc > 0.0\n",
      "Dữ liệu ngoại lai của biến ind_var46_0 là các giá trị < 0.0 hoặc > 0.0\n",
      "Dữ liệu ngoại lai của biến ind_var46 là các giá trị < 0.0 hoặc > 0.0\n",
      "Dữ liệu ngoại lai của biến num_var1_0 là các giá trị < 0.0 hoặc > 0.0\n",
      "Dữ liệu ngoại lai của biến num_var1 là các giá trị < 0.0 hoặc > 0.0\n",
      "Dữ liệu ngoại lai của biến num_var4 là các giá trị < -3.0 hoặc > -2.0\n",
      "Dữ liệu ngoại lai của biến num_var5_0 là các giá trị < 3.0 hoặc > 3.0\n",
      "Dữ liệu ngoại lai của biến num_var5 là các giá trị < -9.0 hoặc > -6.0\n",
      "Dữ liệu ngoại lai của biến num_var6_0 là các giá trị < 0.0 hoặc > 0.0\n",
      "Dữ liệu ngoại lai của biến num_var6 là các giá trị < 0.0 hoặc > 0.0\n",
      "Dữ liệu ngoại lai của biến num_var8_0 là các giá trị < 0.0 hoặc > 0.0\n",
      "Dữ liệu ngoại lai của biến num_var8 là các giá trị < 0.0 hoặc > 0.0\n",
      "Dữ liệu ngoại lai của biến num_var12_0 là các giá trị < 0.0 hoặc > 0.0\n",
      "Dữ liệu ngoại lai của biến num_var12 là các giá trị < 0.0 hoặc > 0.0\n",
      "Dữ liệu ngoại lai của biến num_var13_0 là các giá trị < 0.0 hoặc > 0.0\n",
      "Dữ liệu ngoại lai của biến num_var13_corto_0 là các giá trị < 0.0 hoặc > 0.0\n",
      "Dữ liệu ngoại lai của biến num_var13_corto là các giá trị < 0.0 hoặc > 0.0\n",
      "Dữ liệu ngoại lai của biến num_var13_largo_0 là các giá trị < 0.0 hoặc > 0.0\n",
      "Dữ liệu ngoại lai của biến num_var13_largo là các giá trị < 0.0 hoặc > 0.0\n",
      "Dữ liệu ngoại lai của biến num_var13_medio_0 là các giá trị < 0.0 hoặc > 0.0\n",
      "Dữ liệu ngoại lai của biến num_var13_medio là các giá trị < 0.0 hoặc > 0.0\n",
      "Dữ liệu ngoại lai của biến num_var13 là các giá trị < 0.0 hoặc > 0.0\n",
      "Dữ liệu ngoại lai của biến num_var14_0 là các giá trị < 0.0 hoặc > 0.0\n",
      "Dữ liệu ngoại lai của biến num_var14 là các giá trị < 0.0 hoặc > 0.0\n",
      "Dữ liệu ngoại lai của biến num_var17_0 là các giá trị < 0.0 hoặc > 0.0\n",
      "Dữ liệu ngoại lai của biến num_var17 là các giá trị < 0.0 hoặc > 0.0\n",
      "Dữ liệu ngoại lai của biến num_var18_0 là các giá trị < 0.0 hoặc > 0.0\n",
      "Dữ liệu ngoại lai của biến num_var18 là các giá trị < 0.0 hoặc > 0.0\n",
      "Dữ liệu ngoại lai của biến num_var20_0 là các giá trị < 0.0 hoặc > 0.0\n",
      "Dữ liệu ngoại lai của biến num_var20 là các giá trị < 0.0 hoặc > 0.0\n",
      "Dữ liệu ngoại lai của biến num_var24_0 là các giá trị < 0.0 hoặc > 0.0\n",
      "Dữ liệu ngoại lai của biến num_var24 là các giá trị < 0.0 hoặc > 0.0\n",
      "Dữ liệu ngoại lai của biến num_var26_0 là các giá trị < 0.0 hoặc > 0.0\n",
      "Dữ liệu ngoại lai của biến num_var26 là các giá trị < 0.0 hoặc > 0.0\n",
      "Dữ liệu ngoại lai của biến num_var25_0 là các giá trị < 0.0 hoặc > 0.0\n",
      "Dữ liệu ngoại lai của biến num_var25 là các giá trị < 0.0 hoặc > 0.0\n",
      "Dữ liệu ngoại lai của biến num_op_var40_hace2 là các giá trị < 0.0 hoặc > 0.0\n",
      "Dữ liệu ngoại lai của biến num_op_var40_hace3 là các giá trị < 0.0 hoặc > 0.0\n",
      "Dữ liệu ngoại lai của biến num_op_var40_ult1 là các giá trị < 0.0 hoặc > 0.0\n",
      "Dữ liệu ngoại lai của biến num_op_var40_ult3 là các giá trị < 0.0 hoặc > 0.0\n",
      "Dữ liệu ngoại lai của biến num_op_var41_hace2 là các giá trị < 0.0 hoặc > 0.0\n",
      "Dữ liệu ngoại lai của biến num_op_var41_hace3 là các giá trị < 0.0 hoặc > 0.0\n",
      "Dữ liệu ngoại lai của biến num_op_var41_ult1 là các giá trị < 0.0 hoặc > 0.0\n",
      "Dữ liệu ngoại lai của biến num_op_var41_ult3 là các giá trị < 0.0 hoặc > 0.0\n",
      "Dữ liệu ngoại lai của biến num_op_var39_hace2 là các giá trị < 0.0 hoặc > 0.0\n",
      "Dữ liệu ngoại lai của biến num_op_var39_hace3 là các giá trị < 0.0 hoặc > 0.0\n",
      "Dữ liệu ngoại lai của biến num_op_var39_ult1 là các giá trị < 0.0 hoặc > 0.0\n",
      "Dữ liệu ngoại lai của biến num_op_var39_ult3 là các giá trị < 0.0 hoặc > 0.0\n",
      "Dữ liệu ngoại lai của biến num_var27_0 là các giá trị < 0.0 hoặc > 0.0\n",
      "Dữ liệu ngoại lai của biến num_var28_0 là các giá trị < 0.0 hoặc > 0.0\n",
      "Dữ liệu ngoại lai của biến num_var28 là các giá trị < 0.0 hoặc > 0.0\n",
      "Dữ liệu ngoại lai của biến num_var27 là các giá trị < 0.0 hoặc > 0.0\n",
      "Dữ liệu ngoại lai của biến num_var29_0 là các giá trị < 0.0 hoặc > 0.0\n",
      "Dữ liệu ngoại lai của biến num_var29 là các giá trị < 0.0 hoặc > 0.0\n",
      "Dữ liệu ngoại lai của biến num_var30_0 là các giá trị < 3.0 hoặc > 3.0\n",
      "Dữ liệu ngoại lai của biến num_var30 là các giá trị < -9.0 hoặc > -6.0\n",
      "Dữ liệu ngoại lai của biến num_var31_0 là các giá trị < 0.0 hoặc > 0.0\n",
      "Dữ liệu ngoại lai của biến num_var31 là các giá trị < 0.0 hoặc > 0.0\n",
      "Dữ liệu ngoại lai của biến num_var32_0 là các giá trị < 0.0 hoặc > 0.0\n",
      "Dữ liệu ngoại lai của biến num_var32 là các giá trị < 0.0 hoặc > 0.0\n",
      "Dữ liệu ngoại lai của biến num_var33_0 là các giá trị < 0.0 hoặc > 0.0\n",
      "Dữ liệu ngoại lai của biến num_var33 là các giá trị < 0.0 hoặc > 0.0\n",
      "Dữ liệu ngoại lai của biến num_var34_0 là các giá trị < 0.0 hoặc > 0.0\n",
      "Dữ liệu ngoại lai của biến num_var34 là các giá trị < 0.0 hoặc > 0.0\n",
      "Dữ liệu ngoại lai của biến num_var35 là các giá trị < -9.0 hoặc > -6.0\n",
      "Dữ liệu ngoại lai của biến num_var37_med_ult2 là các giá trị < 0.0 hoặc > 0.0\n",
      "Dữ liệu ngoại lai của biến num_var37_0 là các giá trị < 0.0 hoặc > 0.0\n",
      "Dữ liệu ngoại lai của biến num_var37 là các giá trị < 0.0 hoặc > 0.0\n",
      "Dữ liệu ngoại lai của biến num_var39_0 là các giá trị < 3.0 hoặc > 3.0\n",
      "Dữ liệu ngoại lai của biến num_var40_0 là các giá trị < 0.0 hoặc > 0.0\n",
      "Dữ liệu ngoại lai của biến num_var40 là các giá trị < 0.0 hoặc > 0.0\n",
      "Dữ liệu ngoại lai của biến num_var41_0 là các giá trị < 3.0 hoặc > 3.0\n",
      "Dữ liệu ngoại lai của biến num_var41 là các giá trị < 0.0 hoặc > 0.0\n",
      "Dữ liệu ngoại lai của biến num_var39 là các giá trị < 0.0 hoặc > 0.0\n",
      "Dữ liệu ngoại lai của biến num_var42_0 là các giá trị < 3.0 hoặc > 3.0\n",
      "Dữ liệu ngoại lai của biến num_var42 là các giá trị < -9.0 hoặc > -6.0\n",
      "Dữ liệu ngoại lai của biến num_var44_0 là các giá trị < 0.0 hoặc > 0.0\n",
      "Dữ liệu ngoại lai của biến num_var44 là các giá trị < 0.0 hoặc > 0.0\n",
      "Dữ liệu ngoại lai của biến num_var46_0 là các giá trị < 0.0 hoặc > 0.0\n",
      "Dữ liệu ngoại lai của biến num_var46 là các giá trị < 0.0 hoặc > 0.0\n",
      "Dữ liệu ngoại lai của biến saldo_var1 là các giá trị < 0.0 hoặc > 0.0\n",
      "Dữ liệu ngoại lai của biến saldo_var5 là các giá trị < -270.0 hoặc > -180.0\n",
      "Dữ liệu ngoại lai của biến saldo_var6 là các giá trị < 0.0 hoặc > 0.0\n",
      "Dữ liệu ngoại lai của biến saldo_var8 là các giá trị < 0.0 hoặc > 0.0\n",
      "Dữ liệu ngoại lai của biến saldo_var12 là các giá trị < 0.0 hoặc > 0.0\n",
      "Dữ liệu ngoại lai của biến saldo_var13_corto là các giá trị < 0.0 hoặc > 0.0\n",
      "Dữ liệu ngoại lai của biến saldo_var13_largo là các giá trị < 0.0 hoặc > 0.0\n",
      "Dữ liệu ngoại lai của biến saldo_var13_medio là các giá trị < 0.0 hoặc > 0.0\n",
      "Dữ liệu ngoại lai của biến saldo_var13 là các giá trị < 0.0 hoặc > 0.0\n",
      "Dữ liệu ngoại lai của biến saldo_var14 là các giá trị < 0.0 hoặc > 0.0\n",
      "Dữ liệu ngoại lai của biến saldo_var17 là các giá trị < 0.0 hoặc > 0.0\n",
      "Dữ liệu ngoại lai của biến saldo_var18 là các giá trị < 0.0 hoặc > 0.0\n",
      "Dữ liệu ngoại lai của biến saldo_var20 là các giá trị < 0.0 hoặc > 0.0\n",
      "Dữ liệu ngoại lai của biến saldo_var24 là các giá trị < 0.0 hoặc > 0.0\n",
      "Dữ liệu ngoại lai của biến saldo_var26 là các giá trị < 0.0 hoặc > 0.0\n",
      "Dữ liệu ngoại lai của biến saldo_var25 là các giá trị < 0.0 hoặc > 0.0\n",
      "Dữ liệu ngoại lai của biến saldo_var28 là các giá trị < 0.0 hoặc > 0.0\n",
      "Dữ liệu ngoại lai của biến saldo_var27 là các giá trị < 0.0 hoặc > 0.0\n",
      "Dữ liệu ngoại lai của biến saldo_var29 là các giá trị < 0.0 hoặc > 0.0\n",
      "Dữ liệu ngoại lai của biến saldo_var30 là các giá trị < -707.985 hoặc > -471.99\n",
      "Dữ liệu ngoại lai của biến saldo_var31 là các giá trị < 0.0 hoặc > 0.0\n",
      "Dữ liệu ngoại lai của biến saldo_var32 là các giá trị < 0.0 hoặc > 0.0\n",
      "Dữ liệu ngoại lai của biến saldo_var33 là các giá trị < 0.0 hoặc > 0.0\n",
      "Dữ liệu ngoại lai của biến saldo_var34 là các giá trị < 0.0 hoặc > 0.0\n",
      "Dữ liệu ngoại lai của biến saldo_var37 là các giá trị < 0.0 hoặc > 0.0\n",
      "Dữ liệu ngoại lai của biến saldo_var40 là các giá trị < 0.0 hoặc > 0.0\n",
      "Dữ liệu ngoại lai của biến saldo_var41 là các giá trị < 0.0 hoặc > 0.0\n",
      "Dữ liệu ngoại lai của biến saldo_var42 là các giá trị < -360.0 hoặc > -240.0\n",
      "Dữ liệu ngoại lai của biến saldo_var44 là các giá trị < 0.0 hoặc > 0.0\n",
      "Dữ liệu ngoại lai của biến saldo_var46 là các giá trị < 0.0 hoặc > 0.0\n",
      "Dữ liệu ngoại lai của biến var36 là các giá trị < -289.0 hoặc > -192.0\n",
      "Dữ liệu ngoại lai của biến delta_imp_amort_var18_1y3 là các giá trị < 0.0 hoặc > 0.0\n",
      "Dữ liệu ngoại lai của biến delta_imp_amort_var34_1y3 là các giá trị < 0.0 hoặc > 0.0\n",
      "Dữ liệu ngoại lai của biến delta_imp_aport_var13_1y3 là các giá trị < 0.0 hoặc > 0.0\n",
      "Dữ liệu ngoại lai của biến delta_imp_aport_var17_1y3 là các giá trị < 0.0 hoặc > 0.0\n",
      "Dữ liệu ngoại lai của biến delta_imp_aport_var33_1y3 là các giá trị < 0.0 hoặc > 0.0\n",
      "Dữ liệu ngoại lai của biến delta_imp_compra_var44_1y3 là các giá trị < 0.0 hoặc > 0.0\n",
      "Dữ liệu ngoại lai của biến delta_imp_reemb_var13_1y3 là các giá trị < 0.0 hoặc > 0.0\n",
      "Dữ liệu ngoại lai của biến delta_imp_reemb_var17_1y3 là các giá trị < 0.0 hoặc > 0.0\n",
      "Dữ liệu ngoại lai của biến delta_imp_reemb_var33_1y3 là các giá trị < 0.0 hoặc > 0.0\n",
      "Dữ liệu ngoại lai của biến delta_imp_trasp_var17_in_1y3 là các giá trị < 0.0 hoặc > 0.0\n",
      "Dữ liệu ngoại lai của biến delta_imp_trasp_var17_out_1y3 là các giá trị < 0.0 hoặc > 0.0\n",
      "Dữ liệu ngoại lai của biến delta_imp_trasp_var33_in_1y3 là các giá trị < 0.0 hoặc > 0.0\n",
      "Dữ liệu ngoại lai của biến delta_imp_trasp_var33_out_1y3 là các giá trị < 0.0 hoặc > 0.0\n",
      "Dữ liệu ngoại lai của biến delta_imp_venta_var44_1y3 là các giá trị < 0.0 hoặc > 0.0\n",
      "Dữ liệu ngoại lai của biến delta_num_aport_var13_1y3 là các giá trị < 0.0 hoặc > 0.0\n",
      "Dữ liệu ngoại lai của biến delta_num_aport_var17_1y3 là các giá trị < 0.0 hoặc > 0.0\n",
      "Dữ liệu ngoại lai của biến delta_num_aport_var33_1y3 là các giá trị < 0.0 hoặc > 0.0\n",
      "Dữ liệu ngoại lai của biến delta_num_compra_var44_1y3 là các giá trị < 0.0 hoặc > 0.0\n",
      "Dữ liệu ngoại lai của biến delta_num_reemb_var13_1y3 là các giá trị < 0.0 hoặc > 0.0\n",
      "Dữ liệu ngoại lai của biến delta_num_reemb_var17_1y3 là các giá trị < 0.0 hoặc > 0.0\n",
      "Dữ liệu ngoại lai của biến delta_num_reemb_var33_1y3 là các giá trị < 0.0 hoặc > 0.0\n",
      "Dữ liệu ngoại lai của biến delta_num_trasp_var17_in_1y3 là các giá trị < 0.0 hoặc > 0.0\n",
      "Dữ liệu ngoại lai của biến delta_num_trasp_var17_out_1y3 là các giá trị < 0.0 hoặc > 0.0\n",
      "Dữ liệu ngoại lai của biến delta_num_trasp_var33_in_1y3 là các giá trị < 0.0 hoặc > 0.0\n",
      "Dữ liệu ngoại lai của biến delta_num_trasp_var33_out_1y3 là các giá trị < 0.0 hoặc > 0.0\n",
      "Dữ liệu ngoại lai của biến delta_num_venta_var44_1y3 là các giá trị < 0.0 hoặc > 0.0\n",
      "Dữ liệu ngoại lai của biến imp_amort_var18_hace3 là các giá trị < 0.0 hoặc > 0.0\n",
      "Dữ liệu ngoại lai của biến imp_amort_var18_ult1 là các giá trị < 0.0 hoặc > 0.0\n",
      "Dữ liệu ngoại lai của biến imp_amort_var34_hace3 là các giá trị < 0.0 hoặc > 0.0\n",
      "Dữ liệu ngoại lai của biến imp_amort_var34_ult1 là các giá trị < 0.0 hoặc > 0.0\n",
      "Dữ liệu ngoại lai của biến imp_aport_var13_hace3 là các giá trị < 0.0 hoặc > 0.0\n",
      "Dữ liệu ngoại lai của biến imp_aport_var13_ult1 là các giá trị < 0.0 hoặc > 0.0\n",
      "Dữ liệu ngoại lai của biến imp_aport_var17_hace3 là các giá trị < 0.0 hoặc > 0.0\n",
      "Dữ liệu ngoại lai của biến imp_aport_var17_ult1 là các giá trị < 0.0 hoặc > 0.0\n",
      "Dữ liệu ngoại lai của biến imp_aport_var33_hace3 là các giá trị < 0.0 hoặc > 0.0\n",
      "Dữ liệu ngoại lai của biến imp_aport_var33_ult1 là các giá trị < 0.0 hoặc > 0.0\n",
      "Dữ liệu ngoại lai của biến imp_var7_emit_ult1 là các giá trị < 0.0 hoặc > 0.0\n",
      "Dữ liệu ngoại lai của biến imp_var7_recib_ult1 là các giá trị < 0.0 hoặc > 0.0\n",
      "Dữ liệu ngoại lai của biến imp_compra_var44_hace3 là các giá trị < 0.0 hoặc > 0.0\n",
      "Dữ liệu ngoại lai của biến imp_compra_var44_ult1 là các giá trị < 0.0 hoặc > 0.0\n",
      "Dữ liệu ngoại lai của biến imp_reemb_var13_hace3 là các giá trị < 0.0 hoặc > 0.0\n",
      "Dữ liệu ngoại lai của biến imp_reemb_var13_ult1 là các giá trị < 0.0 hoặc > 0.0\n",
      "Dữ liệu ngoại lai của biến imp_reemb_var17_hace3 là các giá trị < 0.0 hoặc > 0.0\n",
      "Dữ liệu ngoại lai của biến imp_reemb_var17_ult1 là các giá trị < 0.0 hoặc > 0.0\n",
      "Dữ liệu ngoại lai của biến imp_reemb_var33_hace3 là các giá trị < 0.0 hoặc > 0.0\n",
      "Dữ liệu ngoại lai của biến imp_reemb_var33_ult1 là các giá trị < 0.0 hoặc > 0.0\n",
      "Dữ liệu ngoại lai của biến imp_var43_emit_ult1 là các giá trị < 0.0 hoặc > 0.0\n",
      "Dữ liệu ngoại lai của biến imp_trans_var37_ult1 là các giá trị < 0.0 hoặc > 0.0\n",
      "Dữ liệu ngoại lai của biến imp_trasp_var17_in_hace3 là các giá trị < 0.0 hoặc > 0.0\n",
      "Dữ liệu ngoại lai của biến imp_trasp_var17_in_ult1 là các giá trị < 0.0 hoặc > 0.0\n",
      "Dữ liệu ngoại lai của biến imp_trasp_var17_out_hace3 là các giá trị < 0.0 hoặc > 0.0\n",
      "Dữ liệu ngoại lai của biến imp_trasp_var17_out_ult1 là các giá trị < 0.0 hoặc > 0.0\n",
      "Dữ liệu ngoại lai của biến imp_trasp_var33_in_hace3 là các giá trị < 0.0 hoặc > 0.0\n",
      "Dữ liệu ngoại lai của biến imp_trasp_var33_in_ult1 là các giá trị < 0.0 hoặc > 0.0\n",
      "Dữ liệu ngoại lai của biến imp_trasp_var33_out_hace3 là các giá trị < 0.0 hoặc > 0.0\n",
      "Dữ liệu ngoại lai của biến imp_trasp_var33_out_ult1 là các giá trị < 0.0 hoặc > 0.0\n",
      "Dữ liệu ngoại lai của biến imp_venta_var44_hace3 là các giá trị < 0.0 hoặc > 0.0\n",
      "Dữ liệu ngoại lai của biến imp_venta_var44_ult1 là các giá trị < 0.0 hoặc > 0.0\n",
      "Dữ liệu ngoại lai của biến ind_var7_emit_ult1 là các giá trị < 0.0 hoặc > 0.0\n",
      "Dữ liệu ngoại lai của biến ind_var7_recib_ult1 là các giá trị < 0.0 hoặc > 0.0\n",
      "Dữ liệu ngoại lai của biến ind_var10_ult1 là các giá trị < 0.0 hoặc > 0.0\n",
      "Dữ liệu ngoại lai của biến ind_var10cte_ult1 là các giá trị < 0.0 hoặc > 0.0\n",
      "Dữ liệu ngoại lai của biến ind_var9_cte_ult1 là các giá trị < 0.0 hoặc > 0.0\n",
      "Dữ liệu ngoại lai của biến ind_var9_ult1 là các giá trị < 0.0 hoặc > 0.0\n",
      "Dữ liệu ngoại lai của biến ind_var43_emit_ult1 là các giá trị < 0.0 hoặc > 0.0\n",
      "Dữ liệu ngoại lai của biến ind_var43_recib_ult1 là các giá trị < 0.0 hoặc > 0.0\n",
      "Dữ liệu ngoại lai của biến var21 là các giá trị < 0.0 hoặc > 0.0\n",
      "Dữ liệu ngoại lai của biến num_var2_0_ult1 là các giá trị < 0.0 hoặc > 0.0\n",
      "Dữ liệu ngoại lai của biến num_var2_ult1 là các giá trị < 0.0 hoặc > 0.0\n",
      "Dữ liệu ngoại lai của biến num_aport_var13_hace3 là các giá trị < 0.0 hoặc > 0.0\n",
      "Dữ liệu ngoại lai của biến num_aport_var13_ult1 là các giá trị < 0.0 hoặc > 0.0\n",
      "Dữ liệu ngoại lai của biến num_aport_var17_hace3 là các giá trị < 0.0 hoặc > 0.0\n",
      "Dữ liệu ngoại lai của biến num_aport_var17_ult1 là các giá trị < 0.0 hoặc > 0.0\n",
      "Dữ liệu ngoại lai của biến num_aport_var33_hace3 là các giá trị < 0.0 hoặc > 0.0\n",
      "Dữ liệu ngoại lai của biến num_aport_var33_ult1 là các giá trị < 0.0 hoặc > 0.0\n",
      "Dữ liệu ngoại lai của biến num_var7_emit_ult1 là các giá trị < 0.0 hoặc > 0.0\n",
      "Dữ liệu ngoại lai của biến num_var7_recib_ult1 là các giá trị < 0.0 hoặc > 0.0\n",
      "Dữ liệu ngoại lai của biến num_compra_var44_hace3 là các giá trị < 0.0 hoặc > 0.0\n",
      "Dữ liệu ngoại lai của biến num_compra_var44_ult1 là các giá trị < 0.0 hoặc > 0.0\n",
      "Dữ liệu ngoại lai của biến num_ent_var16_ult1 là các giá trị < 0.0 hoặc > 0.0\n",
      "Dữ liệu ngoại lai của biến num_var22_hace2 là các giá trị < 0.0 hoặc > 0.0\n",
      "Dữ liệu ngoại lai của biến num_var22_hace3 là các giá trị < 0.0 hoặc > 0.0\n",
      "Dữ liệu ngoại lai của biến num_var22_ult1 là các giá trị < 0.0 hoặc > 0.0\n",
      "Dữ liệu ngoại lai của biến num_var22_ult3 là các giá trị < -9.0 hoặc > -6.0\n",
      "Dữ liệu ngoại lai của biến num_med_var22_ult3 là các giá trị < 0.0 hoặc > 0.0\n",
      "Dữ liệu ngoại lai của biến num_med_var45_ult3 là các giá trị < -9.0 hoặc > -6.0\n",
      "Dữ liệu ngoại lai của biến num_meses_var5_ult3 là các giá trị < -9.0 hoặc > -6.0\n",
      "Dữ liệu ngoại lai của biến num_meses_var8_ult3 là các giá trị < 0.0 hoặc > 0.0\n",
      "Dữ liệu ngoại lai của biến num_meses_var12_ult3 là các giá trị < 0.0 hoặc > 0.0\n",
      "Dữ liệu ngoại lai của biến num_meses_var13_corto_ult3 là các giá trị < 0.0 hoặc > 0.0\n",
      "Dữ liệu ngoại lai của biến num_meses_var13_largo_ult3 là các giá trị < 0.0 hoặc > 0.0\n",
      "Dữ liệu ngoại lai của biến num_meses_var13_medio_ult3 là các giá trị < 0.0 hoặc > 0.0\n",
      "Dữ liệu ngoại lai của biến num_meses_var17_ult3 là các giá trị < 0.0 hoặc > 0.0\n",
      "Dữ liệu ngoại lai của biến num_meses_var29_ult3 là các giá trị < 0.0 hoặc > 0.0\n",
      "Dữ liệu ngoại lai của biến num_meses_var33_ult3 là các giá trị < 0.0 hoặc > 0.0\n",
      "Dữ liệu ngoại lai của biến num_meses_var39_vig_ult3 là các giá trị < -2.0 hoặc > -1.0\n",
      "Dữ liệu ngoại lai của biến num_meses_var44_ult3 là các giá trị < 0.0 hoặc > 0.0\n",
      "Dữ liệu ngoại lai của biến num_op_var39_comer_ult1 là các giá trị < 0.0 hoặc > 0.0\n",
      "Dữ liệu ngoại lai của biến num_op_var39_comer_ult3 là các giá trị < 0.0 hoặc > 0.0\n",
      "Dữ liệu ngoại lai của biến num_op_var40_comer_ult1 là các giá trị < 0.0 hoặc > 0.0\n",
      "Dữ liệu ngoại lai của biến num_op_var40_comer_ult3 là các giá trị < 0.0 hoặc > 0.0\n",
      "Dữ liệu ngoại lai của biến num_op_var40_efect_ult1 là các giá trị < 0.0 hoặc > 0.0\n",
      "Dữ liệu ngoại lai của biến num_op_var40_efect_ult3 là các giá trị < 0.0 hoặc > 0.0\n",
      "Dữ liệu ngoại lai của biến num_op_var41_comer_ult1 là các giá trị < 0.0 hoặc > 0.0\n",
      "Dữ liệu ngoại lai của biến num_op_var41_comer_ult3 là các giá trị < 0.0 hoặc > 0.0\n",
      "Dữ liệu ngoại lai của biến num_op_var41_efect_ult1 là các giá trị < 0.0 hoặc > 0.0\n",
      "Dữ liệu ngoại lai của biến num_op_var41_efect_ult3 là các giá trị < 0.0 hoặc > 0.0\n",
      "Dữ liệu ngoại lai của biến num_op_var39_efect_ult1 là các giá trị < 0.0 hoặc > 0.0\n",
      "Dữ liệu ngoại lai của biến num_op_var39_efect_ult3 là các giá trị < 0.0 hoặc > 0.0\n",
      "Dữ liệu ngoại lai của biến num_reemb_var13_hace3 là các giá trị < 0.0 hoặc > 0.0\n",
      "Dữ liệu ngoại lai của biến num_reemb_var13_ult1 là các giá trị < 0.0 hoặc > 0.0\n",
      "Dữ liệu ngoại lai của biến num_reemb_var17_hace3 là các giá trị < 0.0 hoặc > 0.0\n",
      "Dữ liệu ngoại lai của biến num_reemb_var17_ult1 là các giá trị < 0.0 hoặc > 0.0\n",
      "Dữ liệu ngoại lai của biến num_reemb_var33_hace3 là các giá trị < 0.0 hoặc > 0.0\n",
      "Dữ liệu ngoại lai của biến num_reemb_var33_ult1 là các giá trị < 0.0 hoặc > 0.0\n",
      "Dữ liệu ngoại lai của biến num_sal_var16_ult1 là các giá trị < 0.0 hoặc > 0.0\n",
      "Dữ liệu ngoại lai của biến num_var43_emit_ult1 là các giá trị < 0.0 hoặc > 0.0\n",
      "Dữ liệu ngoại lai của biến num_var43_recib_ult1 là các giá trị < 0.0 hoặc > 0.0\n",
      "Dữ liệu ngoại lai của biến num_trasp_var11_ult1 là các giá trị < 0.0 hoặc > 0.0\n",
      "Dữ liệu ngoại lai của biến num_trasp_var17_in_hace3 là các giá trị < 0.0 hoặc > 0.0\n",
      "Dữ liệu ngoại lai của biến num_trasp_var17_in_ult1 là các giá trị < 0.0 hoặc > 0.0\n",
      "Dữ liệu ngoại lai của biến num_trasp_var17_out_hace3 là các giá trị < 0.0 hoặc > 0.0\n",
      "Dữ liệu ngoại lai của biến num_trasp_var17_out_ult1 là các giá trị < 0.0 hoặc > 0.0\n",
      "Dữ liệu ngoại lai của biến num_trasp_var33_in_hace3 là các giá trị < 0.0 hoặc > 0.0\n",
      "Dữ liệu ngoại lai của biến num_trasp_var33_in_ult1 là các giá trị < 0.0 hoặc > 0.0\n",
      "Dữ liệu ngoại lai của biến num_trasp_var33_out_hace3 là các giá trị < 0.0 hoặc > 0.0\n",
      "Dữ liệu ngoại lai của biến num_trasp_var33_out_ult1 là các giá trị < 0.0 hoặc > 0.0\n",
      "Dữ liệu ngoại lai của biến num_venta_var44_hace3 là các giá trị < 0.0 hoặc > 0.0\n",
      "Dữ liệu ngoại lai của biến num_venta_var44_ult1 là các giá trị < 0.0 hoặc > 0.0\n",
      "Dữ liệu ngoại lai của biến num_var45_hace2 là các giá trị < -9.0 hoặc > -6.0\n",
      "Dữ liệu ngoại lai của biến num_var45_hace3 là các giá trị < -9.0 hoặc > -6.0\n",
      "Dữ liệu ngoại lai của biến num_var45_ult1 là các giá trị < -9.0 hoặc > -6.0\n",
      "Dữ liệu ngoại lai của biến num_var45_ult3 là các giá trị < -36.0 hoặc > -24.0\n",
      "Dữ liệu ngoại lai của biến saldo_var2_ult1 là các giá trị < 0.0 hoặc > 0.0\n",
      "Dữ liệu ngoại lai của biến saldo_medio_var5_hace2 là các giá trị < -270.0 hoặc > -180.0\n",
      "Dữ liệu ngoại lai của biến saldo_medio_var5_hace3 là các giá trị < -36.6525 hoặc > -24.435000000000002\n",
      "Dữ liệu ngoại lai của biến saldo_medio_var5_ult1 là các giá trị < -270.0 hoặc > -180.0\n",
      "Dữ liệu ngoại lai của biến saldo_medio_var5_ult3 là các giá trị < -251.37 hoặc > -167.57999999999998\n",
      "Dữ liệu ngoại lai của biến saldo_medio_var8_hace2 là các giá trị < 0.0 hoặc > 0.0\n",
      "Dữ liệu ngoại lai của biến saldo_medio_var8_hace3 là các giá trị < 0.0 hoặc > 0.0\n",
      "Dữ liệu ngoại lai của biến saldo_medio_var8_ult1 là các giá trị < 0.0 hoặc > 0.0\n",
      "Dữ liệu ngoại lai của biến saldo_medio_var8_ult3 là các giá trị < 0.0 hoặc > 0.0\n",
      "Dữ liệu ngoại lai của biến saldo_medio_var12_hace2 là các giá trị < 0.0 hoặc > 0.0\n",
      "Dữ liệu ngoại lai của biến saldo_medio_var12_hace3 là các giá trị < 0.0 hoặc > 0.0\n",
      "Dữ liệu ngoại lai của biến saldo_medio_var12_ult1 là các giá trị < 0.0 hoặc > 0.0\n",
      "Dữ liệu ngoại lai của biến saldo_medio_var12_ult3 là các giá trị < 0.0 hoặc > 0.0\n",
      "Dữ liệu ngoại lai của biến saldo_medio_var13_corto_hace2 là các giá trị < 0.0 hoặc > 0.0\n",
      "Dữ liệu ngoại lai của biến saldo_medio_var13_corto_hace3 là các giá trị < 0.0 hoặc > 0.0\n",
      "Dữ liệu ngoại lai của biến saldo_medio_var13_corto_ult1 là các giá trị < 0.0 hoặc > 0.0\n",
      "Dữ liệu ngoại lai của biến saldo_medio_var13_corto_ult3 là các giá trị < 0.0 hoặc > 0.0\n",
      "Dữ liệu ngoại lai của biến saldo_medio_var13_largo_hace2 là các giá trị < 0.0 hoặc > 0.0\n",
      "Dữ liệu ngoại lai của biến saldo_medio_var13_largo_hace3 là các giá trị < 0.0 hoặc > 0.0\n",
      "Dữ liệu ngoại lai của biến saldo_medio_var13_largo_ult1 là các giá trị < 0.0 hoặc > 0.0\n",
      "Dữ liệu ngoại lai của biến saldo_medio_var13_largo_ult3 là các giá trị < 0.0 hoặc > 0.0\n",
      "Dữ liệu ngoại lai của biến saldo_medio_var13_medio_hace2 là các giá trị < 0.0 hoặc > 0.0\n",
      "Dữ liệu ngoại lai của biến saldo_medio_var13_medio_hace3 là các giá trị < 0.0 hoặc > 0.0\n",
      "Dữ liệu ngoại lai của biến saldo_medio_var13_medio_ult1 là các giá trị < 0.0 hoặc > 0.0\n",
      "Dữ liệu ngoại lai của biến saldo_medio_var13_medio_ult3 là các giá trị < 0.0 hoặc > 0.0\n",
      "Dữ liệu ngoại lai của biến saldo_medio_var17_hace2 là các giá trị < 0.0 hoặc > 0.0\n",
      "Dữ liệu ngoại lai của biến saldo_medio_var17_hace3 là các giá trị < 0.0 hoặc > 0.0\n",
      "Dữ liệu ngoại lai của biến saldo_medio_var17_ult1 là các giá trị < 0.0 hoặc > 0.0\n",
      "Dữ liệu ngoại lai của biến saldo_medio_var17_ult3 là các giá trị < 0.0 hoặc > 0.0\n",
      "Dữ liệu ngoại lai của biến saldo_medio_var29_hace2 là các giá trị < 0.0 hoặc > 0.0\n",
      "Dữ liệu ngoại lai của biến saldo_medio_var29_hace3 là các giá trị < 0.0 hoặc > 0.0\n",
      "Dữ liệu ngoại lai của biến saldo_medio_var29_ult1 là các giá trị < 0.0 hoặc > 0.0\n",
      "Dữ liệu ngoại lai của biến saldo_medio_var29_ult3 là các giá trị < 0.0 hoặc > 0.0\n",
      "Dữ liệu ngoại lai của biến saldo_medio_var33_hace2 là các giá trị < 0.0 hoặc > 0.0\n",
      "Dữ liệu ngoại lai của biến saldo_medio_var33_hace3 là các giá trị < 0.0 hoặc > 0.0\n",
      "Dữ liệu ngoại lai của biến saldo_medio_var33_ult1 là các giá trị < 0.0 hoặc > 0.0\n",
      "Dữ liệu ngoại lai của biến saldo_medio_var33_ult3 là các giá trị < 0.0 hoặc > 0.0\n",
      "Dữ liệu ngoại lai của biến saldo_medio_var44_hace2 là các giá trị < 0.0 hoặc > 0.0\n",
      "Dữ liệu ngoại lai của biến saldo_medio_var44_hace3 là các giá trị < 0.0 hoặc > 0.0\n",
      "Dữ liệu ngoại lai của biến saldo_medio_var44_ult1 là các giá trị < 0.0 hoặc > 0.0\n",
      "Dữ liệu ngoại lai của biến saldo_medio_var44_ult3 là các giá trị < 0.0 hoặc > 0.0\n",
      "Dữ liệu ngoại lai của biến var38 là các giá trị < -84786.30749999998 hoặc > -33900.66749999998\n",
      "Dữ liệu ngoại lai của biến TARGET là các giá trị < 0.0 hoặc > 0.0\n"
     ]
    }
   ],
   "source": [
    "## Requirement 8:\n",
    "## PUT YOUR CODE HERE:\n",
    "\n",
    "for var in train.columns:\n",
    "    IQR = train[var].quantile(0.75) - train[var].quantile(0.25)\n",
    "    Lower_fence = train[var].quantile(0.25) - (IQR * 3)\n",
    "    Upper_fence = train[var].quantile(0.75) - (IQR * 3)\n",
    "    print('Dữ liệu ngoại lai của biến', var, 'là các giá trị < {lowerboundary} hoặc > {upperboundary}'.format(lowerboundary=Lower_fence, upperboundary=Upper_fence))"
   ]
  },
  {
   "cell_type": "markdown",
   "metadata": {
    "id": "vShkFdLHmPy3"
   },
   "source": [
    "<details><summary> Hint </summary>\n",
    "\n",
    "[quantile()](https://pandas.pydata.org/docs/reference/api/pandas.Series.quantile.html)\n",
    "\n",
    "</details>"
   ]
  },
  {
   "cell_type": "markdown",
   "metadata": {
    "id": "DoZIAEz19Tpl"
   },
   "source": [
    "**Tóm tắt:**\n",
    "\n",
    "- Một vài đặc trưng chỉ có một giá trị duy nhất là giá trị 0, điều này đòi hỏi chúng ta phải áp dụng kỹ thuật loại bỏ các đặc trưng bị trùng và quasi-constant để tránh trường hợp mô hình bị sai lệch trong quá trình huấn luyện.\n",
    "\n",
    "- Một vài đặc trưng có giá trị nhỏ nhất và lớn nhất khá lớn, đòi hỏi phải áp dụng các kỹ thuật co dãn nhằm tránh hiện tượng 'bias'\n",
    "\n",
    "- Không có dữ liệu bị khuyết"
   ]
  },
  {
   "cell_type": "markdown",
   "metadata": {
    "id": "TkHdLVrQ9Tpl"
   },
   "source": [
    "# 3.Lựa chọn đặc trưng\n",
    "\n",
    "Ở bước này chúng ta sẽ thực hiện các phương pháp lựa chọn đặc trưng sau:\n",
    "\n",
    "1. Loại các đặc trưng trùng.\n",
    "2. Loại các đặc trưng quasi-constant.\n",
    "3. Lựa chọn các đặc trưng bằng chỉ số ROC-AUC"
   ]
  },
  {
   "cell_type": "markdown",
   "metadata": {
    "id": "gphTL1td9Tpm"
   },
   "source": [
    "## 3.1 Loại các đặc trưng bị trùng\n",
    "\n",
    "- Đầu tiên là chúng ta sẽ loại bỏ các đặc trưng bị trùng"
   ]
  },
  {
   "cell_type": "code",
   "execution_count": null,
   "metadata": {
    "colab": {
     "base_uri": "https://localhost:8080/"
    },
    "id": "OhvL5_0nv0X7",
    "outputId": "1fddce9b-2cbf-4d85-cb4a-2db3745c61af"
   },
   "outputs": [
    {
     "name": "stdout",
     "output_type": "stream",
     "text": [
      "Collecting feature_engine\n",
      "  Downloading feature_engine-1.6.2-py2.py3-none-any.whl (328 kB)\n",
      "\u001b[?25l     \u001b[90m━━━━━━━━━━━━━━━━━━━━━━━━━━━━━━━━━━━━━━━━\u001b[0m \u001b[32m0.0/328.9 kB\u001b[0m \u001b[31m?\u001b[0m eta \u001b[36m-:--:--\u001b[0m\r",
      "\u001b[2K     \u001b[91m━━━━━━━━\u001b[0m\u001b[91m╸\u001b[0m\u001b[90m━━━━━━━━━━━━━━━━━━━━━━━━━━━━━━━\u001b[0m \u001b[32m71.7/328.9 kB\u001b[0m \u001b[31m1.9 MB/s\u001b[0m eta \u001b[36m0:00:01\u001b[0m\r",
      "\u001b[2K     \u001b[91m━━━━━━━━━━━━━━━━━━━━━━━━━━━━━━━━━━━━━━\u001b[0m\u001b[91m╸\u001b[0m \u001b[32m327.7/328.9 kB\u001b[0m \u001b[31m5.7 MB/s\u001b[0m eta \u001b[36m0:00:01\u001b[0m\r",
      "\u001b[2K     \u001b[90m━━━━━━━━━━━━━━━━━━━━━━━━━━━━━━━━━━━━━━━\u001b[0m \u001b[32m328.9/328.9 kB\u001b[0m \u001b[31m4.4 MB/s\u001b[0m eta \u001b[36m0:00:00\u001b[0m\n",
      "\u001b[?25hRequirement already satisfied: numpy>=1.18.2 in /usr/local/lib/python3.10/dist-packages (from feature_engine) (1.23.5)\n",
      "Requirement already satisfied: pandas>=1.0.3 in /usr/local/lib/python3.10/dist-packages (from feature_engine) (1.5.3)\n",
      "Requirement already satisfied: scikit-learn>=1.0.0 in /usr/local/lib/python3.10/dist-packages (from feature_engine) (1.2.2)\n",
      "Requirement already satisfied: scipy>=1.4.1 in /usr/local/lib/python3.10/dist-packages (from feature_engine) (1.11.3)\n",
      "Requirement already satisfied: statsmodels>=0.11.1 in /usr/local/lib/python3.10/dist-packages (from feature_engine) (0.14.0)\n",
      "Requirement already satisfied: python-dateutil>=2.8.1 in /usr/local/lib/python3.10/dist-packages (from pandas>=1.0.3->feature_engine) (2.8.2)\n",
      "Requirement already satisfied: pytz>=2020.1 in /usr/local/lib/python3.10/dist-packages (from pandas>=1.0.3->feature_engine) (2023.3.post1)\n",
      "Requirement already satisfied: joblib>=1.1.1 in /usr/local/lib/python3.10/dist-packages (from scikit-learn>=1.0.0->feature_engine) (1.3.2)\n",
      "Requirement already satisfied: threadpoolctl>=2.0.0 in /usr/local/lib/python3.10/dist-packages (from scikit-learn>=1.0.0->feature_engine) (3.2.0)\n",
      "Requirement already satisfied: patsy>=0.5.2 in /usr/local/lib/python3.10/dist-packages (from statsmodels>=0.11.1->feature_engine) (0.5.3)\n",
      "Requirement already satisfied: packaging>=21.3 in /usr/local/lib/python3.10/dist-packages (from statsmodels>=0.11.1->feature_engine) (23.2)\n",
      "Requirement already satisfied: six in /usr/local/lib/python3.10/dist-packages (from patsy>=0.5.2->statsmodels>=0.11.1->feature_engine) (1.16.0)\n",
      "Installing collected packages: feature_engine\n",
      "Successfully installed feature_engine-1.6.2\n"
     ]
    }
   ],
   "source": [
    "!pip install feature_engine"
   ]
  },
  {
   "cell_type": "code",
   "execution_count": null,
   "metadata": {
    "id": "3QMhAn4X9Tpm"
   },
   "outputs": [],
   "source": [
    "from feature_engine.selection import DropDuplicateFeatures"
   ]
  },
  {
   "cell_type": "code",
   "execution_count": null,
   "metadata": {
    "id": "AwW6mGsW9Tpm"
   },
   "outputs": [],
   "source": [
    "## Requirement 9:\n",
    "## PUT YOUR CODE HERE:\n",
    "\n",
    "sel = DropDuplicateFeatures()\n",
    "\n",
    "sel.fit(train.drop(['TARGET'], axis=1))\n",
    "\n",
    "X_train_dropduplicate = sel.transform(train.drop(['TARGET'], axis=1))\n",
    "X_test_dropduplicate = sel.transform(test)"
   ]
  },
  {
   "cell_type": "markdown",
   "metadata": {
    "id": "4p17Mp65mhMb"
   },
   "source": [
    "<details><summary> Hint </summary>\n",
    "\n",
    "[DropDuplicateFeatures()](https://feature-engine.readthedocs.io/en/latest/selection/DropDuplicateFeatures.html)\n",
    "\n",
    "</details>"
   ]
  },
  {
   "cell_type": "code",
   "execution_count": null,
   "metadata": {
    "colab": {
     "base_uri": "https://localhost:8080/"
    },
    "id": "-Vm1fsYc9Tpn",
    "outputId": "b1de1900-2812-4124-ee6a-3d7270b20aa4",
    "scrolled": true
   },
   "outputs": [
    {
     "data": {
      "text/plain": [
       "{'delta_num_reemb_var13_1y3',\n",
       " 'delta_num_reemb_var17_1y3',\n",
       " 'delta_num_reemb_var33_1y3',\n",
       " 'delta_num_trasp_var17_in_1y3',\n",
       " 'delta_num_trasp_var17_out_1y3',\n",
       " 'delta_num_trasp_var33_in_1y3',\n",
       " 'delta_num_trasp_var33_out_1y3',\n",
       " 'imp_amort_var18_hace3',\n",
       " 'imp_amort_var34_hace3',\n",
       " 'imp_reemb_var13_hace3',\n",
       " 'imp_reemb_var33_hace3',\n",
       " 'imp_trasp_var17_out_hace3',\n",
       " 'imp_trasp_var33_out_hace3',\n",
       " 'ind_var13_medio',\n",
       " 'ind_var18',\n",
       " 'ind_var2',\n",
       " 'ind_var25',\n",
       " 'ind_var26',\n",
       " 'ind_var27',\n",
       " 'ind_var27_0',\n",
       " 'ind_var28',\n",
       " 'ind_var28_0',\n",
       " 'ind_var29',\n",
       " 'ind_var29_0',\n",
       " 'ind_var32',\n",
       " 'ind_var34',\n",
       " 'ind_var37',\n",
       " 'ind_var39',\n",
       " 'ind_var41',\n",
       " 'ind_var46',\n",
       " 'ind_var46_0',\n",
       " 'num_reemb_var13_hace3',\n",
       " 'num_reemb_var33_hace3',\n",
       " 'num_trasp_var17_out_hace3',\n",
       " 'num_trasp_var33_out_hace3',\n",
       " 'num_var13_medio',\n",
       " 'num_var18',\n",
       " 'num_var25',\n",
       " 'num_var26',\n",
       " 'num_var27',\n",
       " 'num_var27_0',\n",
       " 'num_var28',\n",
       " 'num_var28_0',\n",
       " 'num_var29',\n",
       " 'num_var29_0',\n",
       " 'num_var2_0_ult1',\n",
       " 'num_var2_ult1',\n",
       " 'num_var32',\n",
       " 'num_var34',\n",
       " 'num_var37',\n",
       " 'num_var39',\n",
       " 'num_var41',\n",
       " 'num_var46',\n",
       " 'num_var46_0',\n",
       " 'saldo_medio_var13_medio_hace3',\n",
       " 'saldo_medio_var13_medio_ult1',\n",
       " 'saldo_var27',\n",
       " 'saldo_var28',\n",
       " 'saldo_var29',\n",
       " 'saldo_var2_ult1',\n",
       " 'saldo_var41',\n",
       " 'saldo_var46'}"
      ]
     },
     "execution_count": 21,
     "metadata": {},
     "output_type": "execute_result"
    }
   ],
   "source": [
    "# danh sách các đặc trưng trùng\n",
    "\n",
    "## Requirement 10:\n",
    "## PUT YOUR CODE HERE:\n",
    "\n",
    "sel.features_to_drop_"
   ]
  },
  {
   "cell_type": "markdown",
   "metadata": {
    "id": "MwEaO3wm07Kb"
   },
   "source": [
    "<details><summary> Hint </summary>\n",
    "\n",
    "Use ```features_to_drop_```\n",
    "\n",
    "</details>"
   ]
  },
  {
   "cell_type": "code",
   "execution_count": null,
   "metadata": {
    "colab": {
     "base_uri": "https://localhost:8080/",
     "height": 256
    },
    "id": "TCFw6TcZ9Tpn",
    "outputId": "492009ef-a83e-47a7-c9b4-63188d7bd941"
   },
   "outputs": [
    {
     "data": {
      "text/html": [
       "\n",
       "  <div id=\"df-97d02250-5fd6-42d2-a33b-621783505ab9\" class=\"colab-df-container\">\n",
       "    <div>\n",
       "<style scoped>\n",
       "    .dataframe tbody tr th:only-of-type {\n",
       "        vertical-align: middle;\n",
       "    }\n",
       "\n",
       "    .dataframe tbody tr th {\n",
       "        vertical-align: top;\n",
       "    }\n",
       "\n",
       "    .dataframe thead th {\n",
       "        text-align: right;\n",
       "    }\n",
       "</style>\n",
       "<table border=\"1\" class=\"dataframe\">\n",
       "  <thead>\n",
       "    <tr style=\"text-align: right;\">\n",
       "      <th></th>\n",
       "      <th>var3</th>\n",
       "      <th>var15</th>\n",
       "      <th>imp_ent_var16_ult1</th>\n",
       "      <th>imp_op_var39_comer_ult1</th>\n",
       "      <th>imp_op_var39_comer_ult3</th>\n",
       "      <th>imp_op_var40_comer_ult1</th>\n",
       "      <th>imp_op_var40_comer_ult3</th>\n",
       "      <th>imp_op_var40_efect_ult1</th>\n",
       "      <th>imp_op_var40_efect_ult3</th>\n",
       "      <th>imp_op_var40_ult1</th>\n",
       "      <th>...</th>\n",
       "      <th>saldo_medio_var29_ult3</th>\n",
       "      <th>saldo_medio_var33_hace2</th>\n",
       "      <th>saldo_medio_var33_hace3</th>\n",
       "      <th>saldo_medio_var33_ult1</th>\n",
       "      <th>saldo_medio_var33_ult3</th>\n",
       "      <th>saldo_medio_var44_hace2</th>\n",
       "      <th>saldo_medio_var44_hace3</th>\n",
       "      <th>saldo_medio_var44_ult1</th>\n",
       "      <th>saldo_medio_var44_ult3</th>\n",
       "      <th>var38</th>\n",
       "    </tr>\n",
       "  </thead>\n",
       "  <tbody>\n",
       "    <tr>\n",
       "      <th>0</th>\n",
       "      <td>2</td>\n",
       "      <td>23</td>\n",
       "      <td>0.0</td>\n",
       "      <td>0.0</td>\n",
       "      <td>0.0</td>\n",
       "      <td>0.0</td>\n",
       "      <td>0.0</td>\n",
       "      <td>0.0</td>\n",
       "      <td>0.0</td>\n",
       "      <td>0.0</td>\n",
       "      <td>...</td>\n",
       "      <td>0.0</td>\n",
       "      <td>0.0</td>\n",
       "      <td>0.0</td>\n",
       "      <td>0.0</td>\n",
       "      <td>0.0</td>\n",
       "      <td>0.0</td>\n",
       "      <td>0.0</td>\n",
       "      <td>0.0</td>\n",
       "      <td>0.0</td>\n",
       "      <td>39205.170000</td>\n",
       "    </tr>\n",
       "    <tr>\n",
       "      <th>1</th>\n",
       "      <td>2</td>\n",
       "      <td>34</td>\n",
       "      <td>0.0</td>\n",
       "      <td>0.0</td>\n",
       "      <td>0.0</td>\n",
       "      <td>0.0</td>\n",
       "      <td>0.0</td>\n",
       "      <td>0.0</td>\n",
       "      <td>0.0</td>\n",
       "      <td>0.0</td>\n",
       "      <td>...</td>\n",
       "      <td>0.0</td>\n",
       "      <td>0.0</td>\n",
       "      <td>0.0</td>\n",
       "      <td>0.0</td>\n",
       "      <td>0.0</td>\n",
       "      <td>0.0</td>\n",
       "      <td>0.0</td>\n",
       "      <td>0.0</td>\n",
       "      <td>0.0</td>\n",
       "      <td>49278.030000</td>\n",
       "    </tr>\n",
       "    <tr>\n",
       "      <th>2</th>\n",
       "      <td>2</td>\n",
       "      <td>23</td>\n",
       "      <td>0.0</td>\n",
       "      <td>0.0</td>\n",
       "      <td>0.0</td>\n",
       "      <td>0.0</td>\n",
       "      <td>0.0</td>\n",
       "      <td>0.0</td>\n",
       "      <td>0.0</td>\n",
       "      <td>0.0</td>\n",
       "      <td>...</td>\n",
       "      <td>0.0</td>\n",
       "      <td>0.0</td>\n",
       "      <td>0.0</td>\n",
       "      <td>0.0</td>\n",
       "      <td>0.0</td>\n",
       "      <td>0.0</td>\n",
       "      <td>0.0</td>\n",
       "      <td>0.0</td>\n",
       "      <td>0.0</td>\n",
       "      <td>67333.770000</td>\n",
       "    </tr>\n",
       "    <tr>\n",
       "      <th>3</th>\n",
       "      <td>2</td>\n",
       "      <td>37</td>\n",
       "      <td>0.0</td>\n",
       "      <td>195.0</td>\n",
       "      <td>195.0</td>\n",
       "      <td>0.0</td>\n",
       "      <td>0.0</td>\n",
       "      <td>0.0</td>\n",
       "      <td>0.0</td>\n",
       "      <td>0.0</td>\n",
       "      <td>...</td>\n",
       "      <td>0.0</td>\n",
       "      <td>0.0</td>\n",
       "      <td>0.0</td>\n",
       "      <td>0.0</td>\n",
       "      <td>0.0</td>\n",
       "      <td>0.0</td>\n",
       "      <td>0.0</td>\n",
       "      <td>0.0</td>\n",
       "      <td>0.0</td>\n",
       "      <td>64007.970000</td>\n",
       "    </tr>\n",
       "    <tr>\n",
       "      <th>4</th>\n",
       "      <td>2</td>\n",
       "      <td>39</td>\n",
       "      <td>0.0</td>\n",
       "      <td>0.0</td>\n",
       "      <td>0.0</td>\n",
       "      <td>0.0</td>\n",
       "      <td>0.0</td>\n",
       "      <td>0.0</td>\n",
       "      <td>0.0</td>\n",
       "      <td>0.0</td>\n",
       "      <td>...</td>\n",
       "      <td>0.0</td>\n",
       "      <td>0.0</td>\n",
       "      <td>0.0</td>\n",
       "      <td>0.0</td>\n",
       "      <td>0.0</td>\n",
       "      <td>0.0</td>\n",
       "      <td>0.0</td>\n",
       "      <td>0.0</td>\n",
       "      <td>0.0</td>\n",
       "      <td>117310.979016</td>\n",
       "    </tr>\n",
       "  </tbody>\n",
       "</table>\n",
       "<p>5 rows × 307 columns</p>\n",
       "</div>\n",
       "    <div class=\"colab-df-buttons\">\n",
       "\n",
       "  <div class=\"colab-df-container\">\n",
       "    <button class=\"colab-df-convert\" onclick=\"convertToInteractive('df-97d02250-5fd6-42d2-a33b-621783505ab9')\"\n",
       "            title=\"Convert this dataframe to an interactive table.\"\n",
       "            style=\"display:none;\">\n",
       "\n",
       "  <svg xmlns=\"http://www.w3.org/2000/svg\" height=\"24px\" viewBox=\"0 -960 960 960\">\n",
       "    <path d=\"M120-120v-720h720v720H120Zm60-500h600v-160H180v160Zm220 220h160v-160H400v160Zm0 220h160v-160H400v160ZM180-400h160v-160H180v160Zm440 0h160v-160H620v160ZM180-180h160v-160H180v160Zm440 0h160v-160H620v160Z\"/>\n",
       "  </svg>\n",
       "    </button>\n",
       "\n",
       "  <style>\n",
       "    .colab-df-container {\n",
       "      display:flex;\n",
       "      gap: 12px;\n",
       "    }\n",
       "\n",
       "    .colab-df-convert {\n",
       "      background-color: #E8F0FE;\n",
       "      border: none;\n",
       "      border-radius: 50%;\n",
       "      cursor: pointer;\n",
       "      display: none;\n",
       "      fill: #1967D2;\n",
       "      height: 32px;\n",
       "      padding: 0 0 0 0;\n",
       "      width: 32px;\n",
       "    }\n",
       "\n",
       "    .colab-df-convert:hover {\n",
       "      background-color: #E2EBFA;\n",
       "      box-shadow: 0px 1px 2px rgba(60, 64, 67, 0.3), 0px 1px 3px 1px rgba(60, 64, 67, 0.15);\n",
       "      fill: #174EA6;\n",
       "    }\n",
       "\n",
       "    .colab-df-buttons div {\n",
       "      margin-bottom: 4px;\n",
       "    }\n",
       "\n",
       "    [theme=dark] .colab-df-convert {\n",
       "      background-color: #3B4455;\n",
       "      fill: #D2E3FC;\n",
       "    }\n",
       "\n",
       "    [theme=dark] .colab-df-convert:hover {\n",
       "      background-color: #434B5C;\n",
       "      box-shadow: 0px 1px 3px 1px rgba(0, 0, 0, 0.15);\n",
       "      filter: drop-shadow(0px 1px 2px rgba(0, 0, 0, 0.3));\n",
       "      fill: #FFFFFF;\n",
       "    }\n",
       "  </style>\n",
       "\n",
       "    <script>\n",
       "      const buttonEl =\n",
       "        document.querySelector('#df-97d02250-5fd6-42d2-a33b-621783505ab9 button.colab-df-convert');\n",
       "      buttonEl.style.display =\n",
       "        google.colab.kernel.accessAllowed ? 'block' : 'none';\n",
       "\n",
       "      async function convertToInteractive(key) {\n",
       "        const element = document.querySelector('#df-97d02250-5fd6-42d2-a33b-621783505ab9');\n",
       "        const dataTable =\n",
       "          await google.colab.kernel.invokeFunction('convertToInteractive',\n",
       "                                                    [key], {});\n",
       "        if (!dataTable) return;\n",
       "\n",
       "        const docLinkHtml = 'Like what you see? Visit the ' +\n",
       "          '<a target=\"_blank\" href=https://colab.research.google.com/notebooks/data_table.ipynb>data table notebook</a>'\n",
       "          + ' to learn more about interactive tables.';\n",
       "        element.innerHTML = '';\n",
       "        dataTable['output_type'] = 'display_data';\n",
       "        await google.colab.output.renderOutput(dataTable, element);\n",
       "        const docLink = document.createElement('div');\n",
       "        docLink.innerHTML = docLinkHtml;\n",
       "        element.appendChild(docLink);\n",
       "      }\n",
       "    </script>\n",
       "  </div>\n",
       "\n",
       "\n",
       "<div id=\"df-eac8d65b-9dd2-42b9-9d51-9ec5f3a4ddb3\">\n",
       "  <button class=\"colab-df-quickchart\" onclick=\"quickchart('df-eac8d65b-9dd2-42b9-9d51-9ec5f3a4ddb3')\"\n",
       "            title=\"Suggest charts.\"\n",
       "            style=\"display:none;\">\n",
       "\n",
       "<svg xmlns=\"http://www.w3.org/2000/svg\" height=\"24px\"viewBox=\"0 0 24 24\"\n",
       "     width=\"24px\">\n",
       "    <g>\n",
       "        <path d=\"M19 3H5c-1.1 0-2 .9-2 2v14c0 1.1.9 2 2 2h14c1.1 0 2-.9 2-2V5c0-1.1-.9-2-2-2zM9 17H7v-7h2v7zm4 0h-2V7h2v10zm4 0h-2v-4h2v4z\"/>\n",
       "    </g>\n",
       "</svg>\n",
       "  </button>\n",
       "\n",
       "<style>\n",
       "  .colab-df-quickchart {\n",
       "      --bg-color: #E8F0FE;\n",
       "      --fill-color: #1967D2;\n",
       "      --hover-bg-color: #E2EBFA;\n",
       "      --hover-fill-color: #174EA6;\n",
       "      --disabled-fill-color: #AAA;\n",
       "      --disabled-bg-color: #DDD;\n",
       "  }\n",
       "\n",
       "  [theme=dark] .colab-df-quickchart {\n",
       "      --bg-color: #3B4455;\n",
       "      --fill-color: #D2E3FC;\n",
       "      --hover-bg-color: #434B5C;\n",
       "      --hover-fill-color: #FFFFFF;\n",
       "      --disabled-bg-color: #3B4455;\n",
       "      --disabled-fill-color: #666;\n",
       "  }\n",
       "\n",
       "  .colab-df-quickchart {\n",
       "    background-color: var(--bg-color);\n",
       "    border: none;\n",
       "    border-radius: 50%;\n",
       "    cursor: pointer;\n",
       "    display: none;\n",
       "    fill: var(--fill-color);\n",
       "    height: 32px;\n",
       "    padding: 0;\n",
       "    width: 32px;\n",
       "  }\n",
       "\n",
       "  .colab-df-quickchart:hover {\n",
       "    background-color: var(--hover-bg-color);\n",
       "    box-shadow: 0 1px 2px rgba(60, 64, 67, 0.3), 0 1px 3px 1px rgba(60, 64, 67, 0.15);\n",
       "    fill: var(--button-hover-fill-color);\n",
       "  }\n",
       "\n",
       "  .colab-df-quickchart-complete:disabled,\n",
       "  .colab-df-quickchart-complete:disabled:hover {\n",
       "    background-color: var(--disabled-bg-color);\n",
       "    fill: var(--disabled-fill-color);\n",
       "    box-shadow: none;\n",
       "  }\n",
       "\n",
       "  .colab-df-spinner {\n",
       "    border: 2px solid var(--fill-color);\n",
       "    border-color: transparent;\n",
       "    border-bottom-color: var(--fill-color);\n",
       "    animation:\n",
       "      spin 1s steps(1) infinite;\n",
       "  }\n",
       "\n",
       "  @keyframes spin {\n",
       "    0% {\n",
       "      border-color: transparent;\n",
       "      border-bottom-color: var(--fill-color);\n",
       "      border-left-color: var(--fill-color);\n",
       "    }\n",
       "    20% {\n",
       "      border-color: transparent;\n",
       "      border-left-color: var(--fill-color);\n",
       "      border-top-color: var(--fill-color);\n",
       "    }\n",
       "    30% {\n",
       "      border-color: transparent;\n",
       "      border-left-color: var(--fill-color);\n",
       "      border-top-color: var(--fill-color);\n",
       "      border-right-color: var(--fill-color);\n",
       "    }\n",
       "    40% {\n",
       "      border-color: transparent;\n",
       "      border-right-color: var(--fill-color);\n",
       "      border-top-color: var(--fill-color);\n",
       "    }\n",
       "    60% {\n",
       "      border-color: transparent;\n",
       "      border-right-color: var(--fill-color);\n",
       "    }\n",
       "    80% {\n",
       "      border-color: transparent;\n",
       "      border-right-color: var(--fill-color);\n",
       "      border-bottom-color: var(--fill-color);\n",
       "    }\n",
       "    90% {\n",
       "      border-color: transparent;\n",
       "      border-bottom-color: var(--fill-color);\n",
       "    }\n",
       "  }\n",
       "</style>\n",
       "\n",
       "  <script>\n",
       "    async function quickchart(key) {\n",
       "      const quickchartButtonEl =\n",
       "        document.querySelector('#' + key + ' button');\n",
       "      quickchartButtonEl.disabled = true;  // To prevent multiple clicks.\n",
       "      quickchartButtonEl.classList.add('colab-df-spinner');\n",
       "      try {\n",
       "        const charts = await google.colab.kernel.invokeFunction(\n",
       "            'suggestCharts', [key], {});\n",
       "      } catch (error) {\n",
       "        console.error('Error during call to suggestCharts:', error);\n",
       "      }\n",
       "      quickchartButtonEl.classList.remove('colab-df-spinner');\n",
       "      quickchartButtonEl.classList.add('colab-df-quickchart-complete');\n",
       "    }\n",
       "    (() => {\n",
       "      let quickchartButtonEl =\n",
       "        document.querySelector('#df-eac8d65b-9dd2-42b9-9d51-9ec5f3a4ddb3 button');\n",
       "      quickchartButtonEl.style.display =\n",
       "        google.colab.kernel.accessAllowed ? 'block' : 'none';\n",
       "    })();\n",
       "  </script>\n",
       "</div>\n",
       "    </div>\n",
       "  </div>\n"
      ],
      "text/plain": [
       "   var3  var15  imp_ent_var16_ult1  imp_op_var39_comer_ult1  \\\n",
       "0     2     23                 0.0                      0.0   \n",
       "1     2     34                 0.0                      0.0   \n",
       "2     2     23                 0.0                      0.0   \n",
       "3     2     37                 0.0                    195.0   \n",
       "4     2     39                 0.0                      0.0   \n",
       "\n",
       "   imp_op_var39_comer_ult3  imp_op_var40_comer_ult1  imp_op_var40_comer_ult3  \\\n",
       "0                      0.0                      0.0                      0.0   \n",
       "1                      0.0                      0.0                      0.0   \n",
       "2                      0.0                      0.0                      0.0   \n",
       "3                    195.0                      0.0                      0.0   \n",
       "4                      0.0                      0.0                      0.0   \n",
       "\n",
       "   imp_op_var40_efect_ult1  imp_op_var40_efect_ult3  imp_op_var40_ult1  ...  \\\n",
       "0                      0.0                      0.0                0.0  ...   \n",
       "1                      0.0                      0.0                0.0  ...   \n",
       "2                      0.0                      0.0                0.0  ...   \n",
       "3                      0.0                      0.0                0.0  ...   \n",
       "4                      0.0                      0.0                0.0  ...   \n",
       "\n",
       "   saldo_medio_var29_ult3  saldo_medio_var33_hace2  saldo_medio_var33_hace3  \\\n",
       "0                     0.0                      0.0                      0.0   \n",
       "1                     0.0                      0.0                      0.0   \n",
       "2                     0.0                      0.0                      0.0   \n",
       "3                     0.0                      0.0                      0.0   \n",
       "4                     0.0                      0.0                      0.0   \n",
       "\n",
       "   saldo_medio_var33_ult1  saldo_medio_var33_ult3  saldo_medio_var44_hace2  \\\n",
       "0                     0.0                     0.0                      0.0   \n",
       "1                     0.0                     0.0                      0.0   \n",
       "2                     0.0                     0.0                      0.0   \n",
       "3                     0.0                     0.0                      0.0   \n",
       "4                     0.0                     0.0                      0.0   \n",
       "\n",
       "   saldo_medio_var44_hace3  saldo_medio_var44_ult1  saldo_medio_var44_ult3  \\\n",
       "0                      0.0                     0.0                     0.0   \n",
       "1                      0.0                     0.0                     0.0   \n",
       "2                      0.0                     0.0                     0.0   \n",
       "3                      0.0                     0.0                     0.0   \n",
       "4                      0.0                     0.0                     0.0   \n",
       "\n",
       "           var38  \n",
       "0   39205.170000  \n",
       "1   49278.030000  \n",
       "2   67333.770000  \n",
       "3   64007.970000  \n",
       "4  117310.979016  \n",
       "\n",
       "[5 rows x 307 columns]"
      ]
     },
     "execution_count": 22,
     "metadata": {},
     "output_type": "execute_result"
    }
   ],
   "source": [
    "X_train_dropduplicate.head()"
   ]
  },
  {
   "cell_type": "markdown",
   "metadata": {
    "id": "dTXDlfeA9Tpn"
   },
   "source": [
    "## 3.2 Loại bỏ các đặc trưng Quasi-constant\n",
    "\n",
    "- Kế tiếp chúng ta sẽ loại các đặc trưng quasi-constant"
   ]
  },
  {
   "cell_type": "code",
   "execution_count": null,
   "metadata": {
    "id": "ECysVr5T9Tpn"
   },
   "outputs": [],
   "source": [
    "from feature_engine.selection import DropConstantFeatures"
   ]
  },
  {
   "cell_type": "code",
   "execution_count": null,
   "metadata": {
    "id": "_H83ej0x9Tpn"
   },
   "outputs": [],
   "source": [
    "## Requirement 11:\n",
    "## PUT YOUR CODE HERE:\n",
    "\n",
    "sel = DropConstantFeatures(tol=0.9)\n",
    "\n",
    "sel.fit(X_train_dropduplicate)\n",
    "\n",
    "X_train_dropconstant = sel.transform(X_train_dropduplicate)\n",
    "X_test_dropconstant = sel.transform(X_test_dropduplicate)"
   ]
  },
  {
   "cell_type": "markdown",
   "metadata": {
    "id": "MCqOgKX5m3z3"
   },
   "source": [
    "<details><summary> Hint </summary>\n",
    "\n",
    "[DropConstantFeatures()](https://feature-engine.readthedocs.io/en/latest/selection/DropConstantFeatures.html)\n",
    "\n",
    "</details>"
   ]
  },
  {
   "cell_type": "code",
   "execution_count": null,
   "metadata": {
    "colab": {
     "base_uri": "https://localhost:8080/"
    },
    "id": "ptn74bsz9Tpn",
    "outputId": "e232cd69-a4c2-4de0-c2bc-7861d7624acd"
   },
   "outputs": [
    {
     "data": {
      "text/plain": [
       "['var3',\n",
       " 'imp_ent_var16_ult1',\n",
       " 'imp_op_var40_comer_ult1',\n",
       " 'imp_op_var40_comer_ult3',\n",
       " 'imp_op_var40_efect_ult1',\n",
       " 'imp_op_var40_efect_ult3',\n",
       " 'imp_op_var40_ult1',\n",
       " 'imp_op_var41_efect_ult1',\n",
       " 'imp_op_var39_efect_ult1',\n",
       " 'imp_sal_var16_ult1',\n",
       " 'ind_var1_0',\n",
       " 'ind_var1',\n",
       " 'ind_var2_0',\n",
       " 'ind_var5_0',\n",
       " 'ind_var6_0',\n",
       " 'ind_var6',\n",
       " 'ind_var8_0',\n",
       " 'ind_var8',\n",
       " 'ind_var12_0',\n",
       " 'ind_var12',\n",
       " 'ind_var13_0',\n",
       " 'ind_var13_corto_0',\n",
       " 'ind_var13_corto',\n",
       " 'ind_var13_largo_0',\n",
       " 'ind_var13_largo',\n",
       " 'ind_var13_medio_0',\n",
       " 'ind_var13',\n",
       " 'ind_var14_0',\n",
       " 'ind_var14',\n",
       " 'ind_var17_0',\n",
       " 'ind_var17',\n",
       " 'ind_var18_0',\n",
       " 'ind_var19',\n",
       " 'ind_var20_0',\n",
       " 'ind_var20',\n",
       " 'ind_var24_0',\n",
       " 'ind_var24',\n",
       " 'ind_var25_cte',\n",
       " 'ind_var26_0',\n",
       " 'ind_var26_cte',\n",
       " 'ind_var25_0',\n",
       " 'ind_var30_0',\n",
       " 'ind_var31_0',\n",
       " 'ind_var31',\n",
       " 'ind_var32_cte',\n",
       " 'ind_var32_0',\n",
       " 'ind_var33_0',\n",
       " 'ind_var33',\n",
       " 'ind_var34_0',\n",
       " 'ind_var37_cte',\n",
       " 'ind_var37_0',\n",
       " 'ind_var40_0',\n",
       " 'ind_var40',\n",
       " 'ind_var44_0',\n",
       " 'ind_var44',\n",
       " 'num_var1_0',\n",
       " 'num_var1',\n",
       " 'num_var5_0',\n",
       " 'num_var6_0',\n",
       " 'num_var6',\n",
       " 'num_var8_0',\n",
       " 'num_var8',\n",
       " 'num_var12_0',\n",
       " 'num_var12',\n",
       " 'num_var13_0',\n",
       " 'num_var13_corto_0',\n",
       " 'num_var13_corto',\n",
       " 'num_var13_largo_0',\n",
       " 'num_var13_largo',\n",
       " 'num_var13_medio_0',\n",
       " 'num_var13',\n",
       " 'num_var14_0',\n",
       " 'num_var14',\n",
       " 'num_var17_0',\n",
       " 'num_var17',\n",
       " 'num_var18_0',\n",
       " 'num_var20_0',\n",
       " 'num_var20',\n",
       " 'num_var24_0',\n",
       " 'num_var24',\n",
       " 'num_var26_0',\n",
       " 'num_var25_0',\n",
       " 'num_op_var40_hace2',\n",
       " 'num_op_var40_hace3',\n",
       " 'num_op_var40_ult1',\n",
       " 'num_op_var40_ult3',\n",
       " 'num_op_var41_hace3',\n",
       " 'num_op_var39_hace3',\n",
       " 'num_var31_0',\n",
       " 'num_var31',\n",
       " 'num_var32_0',\n",
       " 'num_var33_0',\n",
       " 'num_var33',\n",
       " 'num_var34_0',\n",
       " 'num_var37_med_ult2',\n",
       " 'num_var37_0',\n",
       " 'num_var40_0',\n",
       " 'num_var40',\n",
       " 'num_var42_0',\n",
       " 'num_var44_0',\n",
       " 'num_var44',\n",
       " 'saldo_var1',\n",
       " 'saldo_var6',\n",
       " 'saldo_var8',\n",
       " 'saldo_var12',\n",
       " 'saldo_var13_corto',\n",
       " 'saldo_var13_largo',\n",
       " 'saldo_var13_medio',\n",
       " 'saldo_var13',\n",
       " 'saldo_var14',\n",
       " 'saldo_var17',\n",
       " 'saldo_var18',\n",
       " 'saldo_var20',\n",
       " 'saldo_var24',\n",
       " 'saldo_var26',\n",
       " 'saldo_var25',\n",
       " 'saldo_var31',\n",
       " 'saldo_var32',\n",
       " 'saldo_var33',\n",
       " 'saldo_var34',\n",
       " 'saldo_var37',\n",
       " 'saldo_var40',\n",
       " 'saldo_var44',\n",
       " 'delta_imp_amort_var18_1y3',\n",
       " 'delta_imp_amort_var34_1y3',\n",
       " 'delta_imp_aport_var13_1y3',\n",
       " 'delta_imp_aport_var17_1y3',\n",
       " 'delta_imp_aport_var33_1y3',\n",
       " 'delta_imp_compra_var44_1y3',\n",
       " 'delta_imp_reemb_var13_1y3',\n",
       " 'delta_imp_reemb_var17_1y3',\n",
       " 'delta_imp_reemb_var33_1y3',\n",
       " 'delta_imp_trasp_var17_in_1y3',\n",
       " 'delta_imp_trasp_var17_out_1y3',\n",
       " 'delta_imp_trasp_var33_in_1y3',\n",
       " 'delta_imp_trasp_var33_out_1y3',\n",
       " 'delta_imp_venta_var44_1y3',\n",
       " 'delta_num_aport_var13_1y3',\n",
       " 'delta_num_aport_var17_1y3',\n",
       " 'delta_num_aport_var33_1y3',\n",
       " 'delta_num_compra_var44_1y3',\n",
       " 'delta_num_venta_var44_1y3',\n",
       " 'imp_amort_var18_ult1',\n",
       " 'imp_amort_var34_ult1',\n",
       " 'imp_aport_var13_hace3',\n",
       " 'imp_aport_var13_ult1',\n",
       " 'imp_aport_var17_hace3',\n",
       " 'imp_aport_var17_ult1',\n",
       " 'imp_aport_var33_hace3',\n",
       " 'imp_aport_var33_ult1',\n",
       " 'imp_var7_emit_ult1',\n",
       " 'imp_var7_recib_ult1',\n",
       " 'imp_compra_var44_hace3',\n",
       " 'imp_compra_var44_ult1',\n",
       " 'imp_reemb_var13_ult1',\n",
       " 'imp_reemb_var17_hace3',\n",
       " 'imp_reemb_var17_ult1',\n",
       " 'imp_reemb_var33_ult1',\n",
       " 'imp_var43_emit_ult1',\n",
       " 'imp_trasp_var17_in_hace3',\n",
       " 'imp_trasp_var17_in_ult1',\n",
       " 'imp_trasp_var17_out_ult1',\n",
       " 'imp_trasp_var33_in_hace3',\n",
       " 'imp_trasp_var33_in_ult1',\n",
       " 'imp_trasp_var33_out_ult1',\n",
       " 'imp_venta_var44_hace3',\n",
       " 'imp_venta_var44_ult1',\n",
       " 'ind_var7_emit_ult1',\n",
       " 'ind_var7_recib_ult1',\n",
       " 'ind_var10_ult1',\n",
       " 'ind_var10cte_ult1',\n",
       " 'ind_var9_cte_ult1',\n",
       " 'ind_var9_ult1',\n",
       " 'ind_var43_emit_ult1',\n",
       " 'var21',\n",
       " 'num_aport_var13_hace3',\n",
       " 'num_aport_var13_ult1',\n",
       " 'num_aport_var17_hace3',\n",
       " 'num_aport_var17_ult1',\n",
       " 'num_aport_var33_hace3',\n",
       " 'num_aport_var33_ult1',\n",
       " 'num_var7_emit_ult1',\n",
       " 'num_var7_recib_ult1',\n",
       " 'num_compra_var44_hace3',\n",
       " 'num_compra_var44_ult1',\n",
       " 'num_ent_var16_ult1',\n",
       " 'num_meses_var8_ult3',\n",
       " 'num_meses_var12_ult3',\n",
       " 'num_meses_var13_corto_ult3',\n",
       " 'num_meses_var13_largo_ult3',\n",
       " 'num_meses_var13_medio_ult3',\n",
       " 'num_meses_var17_ult3',\n",
       " 'num_meses_var29_ult3',\n",
       " 'num_meses_var33_ult3',\n",
       " 'num_meses_var44_ult3',\n",
       " 'num_op_var40_comer_ult1',\n",
       " 'num_op_var40_comer_ult3',\n",
       " 'num_op_var40_efect_ult1',\n",
       " 'num_op_var40_efect_ult3',\n",
       " 'num_op_var41_efect_ult1',\n",
       " 'num_op_var39_efect_ult1',\n",
       " 'num_reemb_var13_ult1',\n",
       " 'num_reemb_var17_hace3',\n",
       " 'num_reemb_var17_ult1',\n",
       " 'num_reemb_var33_ult1',\n",
       " 'num_sal_var16_ult1',\n",
       " 'num_var43_emit_ult1',\n",
       " 'num_trasp_var11_ult1',\n",
       " 'num_trasp_var17_in_hace3',\n",
       " 'num_trasp_var17_in_ult1',\n",
       " 'num_trasp_var17_out_ult1',\n",
       " 'num_trasp_var33_in_hace3',\n",
       " 'num_trasp_var33_in_ult1',\n",
       " 'num_trasp_var33_out_ult1',\n",
       " 'num_venta_var44_hace3',\n",
       " 'num_venta_var44_ult1',\n",
       " 'saldo_medio_var8_hace2',\n",
       " 'saldo_medio_var8_hace3',\n",
       " 'saldo_medio_var8_ult1',\n",
       " 'saldo_medio_var8_ult3',\n",
       " 'saldo_medio_var12_hace2',\n",
       " 'saldo_medio_var12_hace3',\n",
       " 'saldo_medio_var12_ult1',\n",
       " 'saldo_medio_var12_ult3',\n",
       " 'saldo_medio_var13_corto_hace2',\n",
       " 'saldo_medio_var13_corto_hace3',\n",
       " 'saldo_medio_var13_corto_ult1',\n",
       " 'saldo_medio_var13_corto_ult3',\n",
       " 'saldo_medio_var13_largo_hace2',\n",
       " 'saldo_medio_var13_largo_hace3',\n",
       " 'saldo_medio_var13_largo_ult1',\n",
       " 'saldo_medio_var13_largo_ult3',\n",
       " 'saldo_medio_var13_medio_hace2',\n",
       " 'saldo_medio_var13_medio_ult3',\n",
       " 'saldo_medio_var17_hace2',\n",
       " 'saldo_medio_var17_hace3',\n",
       " 'saldo_medio_var17_ult1',\n",
       " 'saldo_medio_var17_ult3',\n",
       " 'saldo_medio_var29_hace2',\n",
       " 'saldo_medio_var29_hace3',\n",
       " 'saldo_medio_var29_ult1',\n",
       " 'saldo_medio_var29_ult3',\n",
       " 'saldo_medio_var33_hace2',\n",
       " 'saldo_medio_var33_hace3',\n",
       " 'saldo_medio_var33_ult1',\n",
       " 'saldo_medio_var33_ult3',\n",
       " 'saldo_medio_var44_hace2',\n",
       " 'saldo_medio_var44_hace3',\n",
       " 'saldo_medio_var44_ult1',\n",
       " 'saldo_medio_var44_ult3']"
      ]
     },
     "execution_count": 25,
     "metadata": {},
     "output_type": "execute_result"
    }
   ],
   "source": [
    "# danh sách các đặc trưng quasi-constant\n",
    "\n",
    "## Requirement 12:\n",
    "## PUT YOUR CODE HERE:\n",
    "\n",
    "sel.features_to_drop_"
   ]
  },
  {
   "cell_type": "markdown",
   "metadata": {
    "id": "EJqAlMhl1G6h"
   },
   "source": [
    "<details><summary> Hint </summary>\n",
    "\n",
    "Use ```features_to_drop_```\n",
    "\n",
    "</details>"
   ]
  },
  {
   "cell_type": "code",
   "execution_count": null,
   "metadata": {
    "colab": {
     "base_uri": "https://localhost:8080/",
     "height": 256
    },
    "id": "SWhKqsL49Tpo",
    "outputId": "f29c6d12-e0e9-4017-d100-21b38952729a"
   },
   "outputs": [
    {
     "data": {
      "text/html": [
       "\n",
       "  <div id=\"df-fea385c2-f417-4099-aacd-34ce74cb6f2f\" class=\"colab-df-container\">\n",
       "    <div>\n",
       "<style scoped>\n",
       "    .dataframe tbody tr th:only-of-type {\n",
       "        vertical-align: middle;\n",
       "    }\n",
       "\n",
       "    .dataframe tbody tr th {\n",
       "        vertical-align: top;\n",
       "    }\n",
       "\n",
       "    .dataframe thead th {\n",
       "        text-align: right;\n",
       "    }\n",
       "</style>\n",
       "<table border=\"1\" class=\"dataframe\">\n",
       "  <thead>\n",
       "    <tr style=\"text-align: right;\">\n",
       "      <th></th>\n",
       "      <th>var15</th>\n",
       "      <th>imp_op_var39_comer_ult1</th>\n",
       "      <th>imp_op_var39_comer_ult3</th>\n",
       "      <th>imp_op_var41_comer_ult1</th>\n",
       "      <th>imp_op_var41_comer_ult3</th>\n",
       "      <th>imp_op_var41_efect_ult3</th>\n",
       "      <th>imp_op_var41_ult1</th>\n",
       "      <th>imp_op_var39_efect_ult3</th>\n",
       "      <th>imp_op_var39_ult1</th>\n",
       "      <th>ind_var5</th>\n",
       "      <th>...</th>\n",
       "      <th>num_var43_recib_ult1</th>\n",
       "      <th>num_var45_hace2</th>\n",
       "      <th>num_var45_hace3</th>\n",
       "      <th>num_var45_ult1</th>\n",
       "      <th>num_var45_ult3</th>\n",
       "      <th>saldo_medio_var5_hace2</th>\n",
       "      <th>saldo_medio_var5_hace3</th>\n",
       "      <th>saldo_medio_var5_ult1</th>\n",
       "      <th>saldo_medio_var5_ult3</th>\n",
       "      <th>var38</th>\n",
       "    </tr>\n",
       "  </thead>\n",
       "  <tbody>\n",
       "    <tr>\n",
       "      <th>0</th>\n",
       "      <td>23</td>\n",
       "      <td>0.0</td>\n",
       "      <td>0.0</td>\n",
       "      <td>0.0</td>\n",
       "      <td>0.0</td>\n",
       "      <td>0.0</td>\n",
       "      <td>0.0</td>\n",
       "      <td>0.0</td>\n",
       "      <td>0.0</td>\n",
       "      <td>0</td>\n",
       "      <td>...</td>\n",
       "      <td>0</td>\n",
       "      <td>0</td>\n",
       "      <td>0</td>\n",
       "      <td>0</td>\n",
       "      <td>0</td>\n",
       "      <td>0.00</td>\n",
       "      <td>0.00</td>\n",
       "      <td>0.00</td>\n",
       "      <td>0.00</td>\n",
       "      <td>39205.170000</td>\n",
       "    </tr>\n",
       "    <tr>\n",
       "      <th>1</th>\n",
       "      <td>34</td>\n",
       "      <td>0.0</td>\n",
       "      <td>0.0</td>\n",
       "      <td>0.0</td>\n",
       "      <td>0.0</td>\n",
       "      <td>0.0</td>\n",
       "      <td>0.0</td>\n",
       "      <td>0.0</td>\n",
       "      <td>0.0</td>\n",
       "      <td>0</td>\n",
       "      <td>...</td>\n",
       "      <td>0</td>\n",
       "      <td>0</td>\n",
       "      <td>0</td>\n",
       "      <td>0</td>\n",
       "      <td>0</td>\n",
       "      <td>0.00</td>\n",
       "      <td>88.89</td>\n",
       "      <td>0.00</td>\n",
       "      <td>0.00</td>\n",
       "      <td>49278.030000</td>\n",
       "    </tr>\n",
       "    <tr>\n",
       "      <th>2</th>\n",
       "      <td>23</td>\n",
       "      <td>0.0</td>\n",
       "      <td>0.0</td>\n",
       "      <td>0.0</td>\n",
       "      <td>0.0</td>\n",
       "      <td>0.0</td>\n",
       "      <td>0.0</td>\n",
       "      <td>0.0</td>\n",
       "      <td>0.0</td>\n",
       "      <td>1</td>\n",
       "      <td>...</td>\n",
       "      <td>0</td>\n",
       "      <td>0</td>\n",
       "      <td>0</td>\n",
       "      <td>0</td>\n",
       "      <td>0</td>\n",
       "      <td>3.00</td>\n",
       "      <td>0.18</td>\n",
       "      <td>3.00</td>\n",
       "      <td>2.07</td>\n",
       "      <td>67333.770000</td>\n",
       "    </tr>\n",
       "    <tr>\n",
       "      <th>3</th>\n",
       "      <td>37</td>\n",
       "      <td>195.0</td>\n",
       "      <td>195.0</td>\n",
       "      <td>195.0</td>\n",
       "      <td>195.0</td>\n",
       "      <td>0.0</td>\n",
       "      <td>195.0</td>\n",
       "      <td>0.0</td>\n",
       "      <td>195.0</td>\n",
       "      <td>1</td>\n",
       "      <td>...</td>\n",
       "      <td>0</td>\n",
       "      <td>27</td>\n",
       "      <td>3</td>\n",
       "      <td>18</td>\n",
       "      <td>48</td>\n",
       "      <td>186.09</td>\n",
       "      <td>0.00</td>\n",
       "      <td>91.56</td>\n",
       "      <td>138.84</td>\n",
       "      <td>64007.970000</td>\n",
       "    </tr>\n",
       "    <tr>\n",
       "      <th>4</th>\n",
       "      <td>39</td>\n",
       "      <td>0.0</td>\n",
       "      <td>0.0</td>\n",
       "      <td>0.0</td>\n",
       "      <td>0.0</td>\n",
       "      <td>0.0</td>\n",
       "      <td>0.0</td>\n",
       "      <td>0.0</td>\n",
       "      <td>0.0</td>\n",
       "      <td>0</td>\n",
       "      <td>...</td>\n",
       "      <td>6</td>\n",
       "      <td>0</td>\n",
       "      <td>0</td>\n",
       "      <td>0</td>\n",
       "      <td>0</td>\n",
       "      <td>3.00</td>\n",
       "      <td>0.30</td>\n",
       "      <td>40501.08</td>\n",
       "      <td>13501.47</td>\n",
       "      <td>117310.979016</td>\n",
       "    </tr>\n",
       "  </tbody>\n",
       "</table>\n",
       "<p>5 rows × 57 columns</p>\n",
       "</div>\n",
       "    <div class=\"colab-df-buttons\">\n",
       "\n",
       "  <div class=\"colab-df-container\">\n",
       "    <button class=\"colab-df-convert\" onclick=\"convertToInteractive('df-fea385c2-f417-4099-aacd-34ce74cb6f2f')\"\n",
       "            title=\"Convert this dataframe to an interactive table.\"\n",
       "            style=\"display:none;\">\n",
       "\n",
       "  <svg xmlns=\"http://www.w3.org/2000/svg\" height=\"24px\" viewBox=\"0 -960 960 960\">\n",
       "    <path d=\"M120-120v-720h720v720H120Zm60-500h600v-160H180v160Zm220 220h160v-160H400v160Zm0 220h160v-160H400v160ZM180-400h160v-160H180v160Zm440 0h160v-160H620v160ZM180-180h160v-160H180v160Zm440 0h160v-160H620v160Z\"/>\n",
       "  </svg>\n",
       "    </button>\n",
       "\n",
       "  <style>\n",
       "    .colab-df-container {\n",
       "      display:flex;\n",
       "      gap: 12px;\n",
       "    }\n",
       "\n",
       "    .colab-df-convert {\n",
       "      background-color: #E8F0FE;\n",
       "      border: none;\n",
       "      border-radius: 50%;\n",
       "      cursor: pointer;\n",
       "      display: none;\n",
       "      fill: #1967D2;\n",
       "      height: 32px;\n",
       "      padding: 0 0 0 0;\n",
       "      width: 32px;\n",
       "    }\n",
       "\n",
       "    .colab-df-convert:hover {\n",
       "      background-color: #E2EBFA;\n",
       "      box-shadow: 0px 1px 2px rgba(60, 64, 67, 0.3), 0px 1px 3px 1px rgba(60, 64, 67, 0.15);\n",
       "      fill: #174EA6;\n",
       "    }\n",
       "\n",
       "    .colab-df-buttons div {\n",
       "      margin-bottom: 4px;\n",
       "    }\n",
       "\n",
       "    [theme=dark] .colab-df-convert {\n",
       "      background-color: #3B4455;\n",
       "      fill: #D2E3FC;\n",
       "    }\n",
       "\n",
       "    [theme=dark] .colab-df-convert:hover {\n",
       "      background-color: #434B5C;\n",
       "      box-shadow: 0px 1px 3px 1px rgba(0, 0, 0, 0.15);\n",
       "      filter: drop-shadow(0px 1px 2px rgba(0, 0, 0, 0.3));\n",
       "      fill: #FFFFFF;\n",
       "    }\n",
       "  </style>\n",
       "\n",
       "    <script>\n",
       "      const buttonEl =\n",
       "        document.querySelector('#df-fea385c2-f417-4099-aacd-34ce74cb6f2f button.colab-df-convert');\n",
       "      buttonEl.style.display =\n",
       "        google.colab.kernel.accessAllowed ? 'block' : 'none';\n",
       "\n",
       "      async function convertToInteractive(key) {\n",
       "        const element = document.querySelector('#df-fea385c2-f417-4099-aacd-34ce74cb6f2f');\n",
       "        const dataTable =\n",
       "          await google.colab.kernel.invokeFunction('convertToInteractive',\n",
       "                                                    [key], {});\n",
       "        if (!dataTable) return;\n",
       "\n",
       "        const docLinkHtml = 'Like what you see? Visit the ' +\n",
       "          '<a target=\"_blank\" href=https://colab.research.google.com/notebooks/data_table.ipynb>data table notebook</a>'\n",
       "          + ' to learn more about interactive tables.';\n",
       "        element.innerHTML = '';\n",
       "        dataTable['output_type'] = 'display_data';\n",
       "        await google.colab.output.renderOutput(dataTable, element);\n",
       "        const docLink = document.createElement('div');\n",
       "        docLink.innerHTML = docLinkHtml;\n",
       "        element.appendChild(docLink);\n",
       "      }\n",
       "    </script>\n",
       "  </div>\n",
       "\n",
       "\n",
       "<div id=\"df-ae06b71b-1267-44e8-84f8-739c05fd76bc\">\n",
       "  <button class=\"colab-df-quickchart\" onclick=\"quickchart('df-ae06b71b-1267-44e8-84f8-739c05fd76bc')\"\n",
       "            title=\"Suggest charts.\"\n",
       "            style=\"display:none;\">\n",
       "\n",
       "<svg xmlns=\"http://www.w3.org/2000/svg\" height=\"24px\"viewBox=\"0 0 24 24\"\n",
       "     width=\"24px\">\n",
       "    <g>\n",
       "        <path d=\"M19 3H5c-1.1 0-2 .9-2 2v14c0 1.1.9 2 2 2h14c1.1 0 2-.9 2-2V5c0-1.1-.9-2-2-2zM9 17H7v-7h2v7zm4 0h-2V7h2v10zm4 0h-2v-4h2v4z\"/>\n",
       "    </g>\n",
       "</svg>\n",
       "  </button>\n",
       "\n",
       "<style>\n",
       "  .colab-df-quickchart {\n",
       "      --bg-color: #E8F0FE;\n",
       "      --fill-color: #1967D2;\n",
       "      --hover-bg-color: #E2EBFA;\n",
       "      --hover-fill-color: #174EA6;\n",
       "      --disabled-fill-color: #AAA;\n",
       "      --disabled-bg-color: #DDD;\n",
       "  }\n",
       "\n",
       "  [theme=dark] .colab-df-quickchart {\n",
       "      --bg-color: #3B4455;\n",
       "      --fill-color: #D2E3FC;\n",
       "      --hover-bg-color: #434B5C;\n",
       "      --hover-fill-color: #FFFFFF;\n",
       "      --disabled-bg-color: #3B4455;\n",
       "      --disabled-fill-color: #666;\n",
       "  }\n",
       "\n",
       "  .colab-df-quickchart {\n",
       "    background-color: var(--bg-color);\n",
       "    border: none;\n",
       "    border-radius: 50%;\n",
       "    cursor: pointer;\n",
       "    display: none;\n",
       "    fill: var(--fill-color);\n",
       "    height: 32px;\n",
       "    padding: 0;\n",
       "    width: 32px;\n",
       "  }\n",
       "\n",
       "  .colab-df-quickchart:hover {\n",
       "    background-color: var(--hover-bg-color);\n",
       "    box-shadow: 0 1px 2px rgba(60, 64, 67, 0.3), 0 1px 3px 1px rgba(60, 64, 67, 0.15);\n",
       "    fill: var(--button-hover-fill-color);\n",
       "  }\n",
       "\n",
       "  .colab-df-quickchart-complete:disabled,\n",
       "  .colab-df-quickchart-complete:disabled:hover {\n",
       "    background-color: var(--disabled-bg-color);\n",
       "    fill: var(--disabled-fill-color);\n",
       "    box-shadow: none;\n",
       "  }\n",
       "\n",
       "  .colab-df-spinner {\n",
       "    border: 2px solid var(--fill-color);\n",
       "    border-color: transparent;\n",
       "    border-bottom-color: var(--fill-color);\n",
       "    animation:\n",
       "      spin 1s steps(1) infinite;\n",
       "  }\n",
       "\n",
       "  @keyframes spin {\n",
       "    0% {\n",
       "      border-color: transparent;\n",
       "      border-bottom-color: var(--fill-color);\n",
       "      border-left-color: var(--fill-color);\n",
       "    }\n",
       "    20% {\n",
       "      border-color: transparent;\n",
       "      border-left-color: var(--fill-color);\n",
       "      border-top-color: var(--fill-color);\n",
       "    }\n",
       "    30% {\n",
       "      border-color: transparent;\n",
       "      border-left-color: var(--fill-color);\n",
       "      border-top-color: var(--fill-color);\n",
       "      border-right-color: var(--fill-color);\n",
       "    }\n",
       "    40% {\n",
       "      border-color: transparent;\n",
       "      border-right-color: var(--fill-color);\n",
       "      border-top-color: var(--fill-color);\n",
       "    }\n",
       "    60% {\n",
       "      border-color: transparent;\n",
       "      border-right-color: var(--fill-color);\n",
       "    }\n",
       "    80% {\n",
       "      border-color: transparent;\n",
       "      border-right-color: var(--fill-color);\n",
       "      border-bottom-color: var(--fill-color);\n",
       "    }\n",
       "    90% {\n",
       "      border-color: transparent;\n",
       "      border-bottom-color: var(--fill-color);\n",
       "    }\n",
       "  }\n",
       "</style>\n",
       "\n",
       "  <script>\n",
       "    async function quickchart(key) {\n",
       "      const quickchartButtonEl =\n",
       "        document.querySelector('#' + key + ' button');\n",
       "      quickchartButtonEl.disabled = true;  // To prevent multiple clicks.\n",
       "      quickchartButtonEl.classList.add('colab-df-spinner');\n",
       "      try {\n",
       "        const charts = await google.colab.kernel.invokeFunction(\n",
       "            'suggestCharts', [key], {});\n",
       "      } catch (error) {\n",
       "        console.error('Error during call to suggestCharts:', error);\n",
       "      }\n",
       "      quickchartButtonEl.classList.remove('colab-df-spinner');\n",
       "      quickchartButtonEl.classList.add('colab-df-quickchart-complete');\n",
       "    }\n",
       "    (() => {\n",
       "      let quickchartButtonEl =\n",
       "        document.querySelector('#df-ae06b71b-1267-44e8-84f8-739c05fd76bc button');\n",
       "      quickchartButtonEl.style.display =\n",
       "        google.colab.kernel.accessAllowed ? 'block' : 'none';\n",
       "    })();\n",
       "  </script>\n",
       "</div>\n",
       "    </div>\n",
       "  </div>\n"
      ],
      "text/plain": [
       "   var15  imp_op_var39_comer_ult1  imp_op_var39_comer_ult3  \\\n",
       "0     23                      0.0                      0.0   \n",
       "1     34                      0.0                      0.0   \n",
       "2     23                      0.0                      0.0   \n",
       "3     37                    195.0                    195.0   \n",
       "4     39                      0.0                      0.0   \n",
       "\n",
       "   imp_op_var41_comer_ult1  imp_op_var41_comer_ult3  imp_op_var41_efect_ult3  \\\n",
       "0                      0.0                      0.0                      0.0   \n",
       "1                      0.0                      0.0                      0.0   \n",
       "2                      0.0                      0.0                      0.0   \n",
       "3                    195.0                    195.0                      0.0   \n",
       "4                      0.0                      0.0                      0.0   \n",
       "\n",
       "   imp_op_var41_ult1  imp_op_var39_efect_ult3  imp_op_var39_ult1  ind_var5  \\\n",
       "0                0.0                      0.0                0.0         0   \n",
       "1                0.0                      0.0                0.0         0   \n",
       "2                0.0                      0.0                0.0         1   \n",
       "3              195.0                      0.0              195.0         1   \n",
       "4                0.0                      0.0                0.0         0   \n",
       "\n",
       "   ...  num_var43_recib_ult1  num_var45_hace2  num_var45_hace3  \\\n",
       "0  ...                     0                0                0   \n",
       "1  ...                     0                0                0   \n",
       "2  ...                     0                0                0   \n",
       "3  ...                     0               27                3   \n",
       "4  ...                     6                0                0   \n",
       "\n",
       "   num_var45_ult1  num_var45_ult3  saldo_medio_var5_hace2  \\\n",
       "0               0               0                    0.00   \n",
       "1               0               0                    0.00   \n",
       "2               0               0                    3.00   \n",
       "3              18              48                  186.09   \n",
       "4               0               0                    3.00   \n",
       "\n",
       "   saldo_medio_var5_hace3  saldo_medio_var5_ult1  saldo_medio_var5_ult3  \\\n",
       "0                    0.00                   0.00                   0.00   \n",
       "1                   88.89                   0.00                   0.00   \n",
       "2                    0.18                   3.00                   2.07   \n",
       "3                    0.00                  91.56                 138.84   \n",
       "4                    0.30               40501.08               13501.47   \n",
       "\n",
       "           var38  \n",
       "0   39205.170000  \n",
       "1   49278.030000  \n",
       "2   67333.770000  \n",
       "3   64007.970000  \n",
       "4  117310.979016  \n",
       "\n",
       "[5 rows x 57 columns]"
      ]
     },
     "execution_count": 26,
     "metadata": {},
     "output_type": "execute_result"
    }
   ],
   "source": [
    "X_train_dropconstant.head()"
   ]
  },
  {
   "cell_type": "markdown",
   "metadata": {
    "id": "jBmofDiO9Tpo"
   },
   "source": [
    "## 3.3 Lựa chọn đặc trưng bằng phương pháp Extra Trees Classifier\n",
    "\n",
    "- Chúng ta sẽ sử dụng phương pháp Extra Trees Classifier để lựa chọn các đặc trưng và loại bỏ các đặc trưng còn lại. Về cơ bản thì phương pháp này khá giống với mô hình Random Forest nhưng khác nhau ở chi tiết xây dựng các mô hình cơ sở trong một tập hợp các mô hình. Chi tiết về phương pháp này học viên có thể tham khảo ở [đây](https://www.geeksforgeeks.org/ml-extra-tree-classifier-for-feature-selection/)"
   ]
  },
  {
   "cell_type": "code",
   "execution_count": null,
   "metadata": {
    "id": "cwUuuPjUgwp7"
   },
   "outputs": [],
   "source": [
    "from sklearn.ensemble import ExtraTreesClassifier\n",
    "from sklearn.feature_selection import SelectFromModel"
   ]
  },
  {
   "cell_type": "code",
   "execution_count": null,
   "metadata": {
    "colab": {
     "base_uri": "https://localhost:8080/",
     "height": 677
    },
    "id": "yJIubjMUgm8H",
    "outputId": "ca0f0cf3-02c7-408a-dabf-9456b83ce8bc"
   },
   "outputs": [
    {
     "data": {
      "image/png": "[encoded data removed]",
      "text/plain": [
       "<Figure size 1200x800 with 1 Axes>"
      ]
     },
     "metadata": {},
     "output_type": "display_data"
    }
   ],
   "source": [
    "## Requirement 13:\n",
    "## PUT YOUR CODE HERE:\n",
    "\n",
    "## Feature selection\n",
    "clf = ExtraTreesClassifier(random_state=1729)\n",
    "selector = clf.fit(X_train_dropconstant, train['TARGET'])\n",
    "\n",
    "# plot most important features\n",
    "feat_imp = pd.Series(clf.feature_importances_, index = X_train_dropconstant.columns.values).sort_values(ascending=False)\n",
    "feat_imp[:40].plot(kind='bar', title='Feature Importances according to ExtraTreesClassifier', figsize=(12, 8))\n",
    "plt.ylabel('Feature Importance Score')\n",
    "plt.subplots_adjust(bottom=0.3)\n",
    "# plt.savefig('1.png')\n",
    "plt.show()\n",
    "\n",
    "# clf.feature_importances_\n",
    "fs = SelectFromModel(clf, prefit=True)\n",
    "\n",
    "X_train_selected = fs.transform(X_train_dropconstant)\n",
    "X_test_selected = fs.transform(X_test_dropconstant)"
   ]
  },
  {
   "cell_type": "markdown",
   "metadata": {
    "id": "n8dpFsICnJML"
   },
   "source": [
    "<details><summary> Hint </summary>\n",
    "\n",
    "[ExtraTreesClassifier()](https://scikit-learn.org/stable/modules/generated/sklearn.ensemble.ExtraTreesClassifier.html)\n",
    "\n",
    "</details>"
   ]
  },
  {
   "cell_type": "markdown",
   "metadata": {
    "id": "WXw2LOMN9Tpp"
   },
   "source": [
    "# 4.Co dãn các đặc trưng\n",
    "\n",
    "- Như đã đề cập, miền giá trị của một vài đặc trưng là khá lớn, điều này thường không tốt cho mô hình của chúng ta. DO vậy, chúng ta sẽ co dãn các đặc trưng thành các giá trị nằm trong phân phối chuẩn"
   ]
  },
  {
   "cell_type": "code",
   "execution_count": null,
   "metadata": {
    "id": "b6ckUlrz9Tpp"
   },
   "outputs": [],
   "source": [
    "from sklearn.preprocessing import StandardScaler"
   ]
  },
  {
   "cell_type": "code",
   "execution_count": null,
   "metadata": {
    "id": "fOaIsU5X9Tpp"
   },
   "outputs": [],
   "source": [
    "## Requirement 14:\n",
    "## PUT YOUR CODE HERE:\n",
    "\n",
    "scaler = StandardScaler()\n",
    "\n",
    "scaler.fit(X_train_selected)\n",
    "\n",
    "X_train_scale = scaler.transform(X_train_selected)\n",
    "X_test_scale = scaler.transform(X_test_selected)"
   ]
  },
  {
   "cell_type": "markdown",
   "metadata": {
    "id": "xjy-15sPnknT"
   },
   "source": [
    "<details><summary> Hint </summary>\n",
    "\n",
    "[StandardScaler()](https://scikit-learn.org/stable/modules/generated/sklearn.preprocessing.StandardScaler.html)\n",
    "\n",
    "</details>"
   ]
  },
  {
   "cell_type": "markdown",
   "metadata": {
    "id": "m2qLPFXlCHmb"
   },
   "source": [
    "Sau khi xong bước này thì hầu như tập dữ liệu của chúng ta đã sẵn sàng cho việc training, nhưng vẫn còn khá nhiều cách nâng cao hơn để lựa chọn các đặc trưng phù hợp (như được mô tả trong hình dưới). Một trong số có thể kể đến như:\n",
    "\n",
    "- Phương pháp đệ quy\n",
    "\n",
    "- Sử dụng mô hình Decision Tree hay Random Forest\n",
    "\n",
    "- Ma trận tương quan\n",
    "\n",
    "- Các mô hình kiểm định giả thuyết như ANOVA\n",
    "\n",
    "Học viên có thể tham khảo các phương pháp khác trong bài này: [tham khảo](https://www.kaggle.com/prashant111/comprehensive-guide-on-feature-selection)"
   ]
  },
  {
   "cell_type": "markdown",
   "metadata": {
    "id": "mNjkdUpK9Tpq"
   },
   "source": [
    "![FeatureSelection](images/feature_selection.png)"
   ]
  },
  {
   "cell_type": "markdown",
   "metadata": {
    "id": "-xfYhlPl9Tpq"
   },
   "source": [
    "# 5.Huấn luyện mô hình\n",
    "\n",
    "Do đầu ra của bài toán của chúng ta bị mất cân bằng (imbalanced data), mà các mô hình máy học lại thường 'ưa thích' các dữ liệu cân bằng, nên chúng ta phải tìm cách tạo ra một tập dữ liệu cân bằng từ tập dữ liệu gốc để mô hình cho ra dự đoán 'hợp lý' và 'có ý nghĩa' hơn"
   ]
  },
  {
   "cell_type": "markdown",
   "metadata": {
    "id": "orzSjzD19Tpq"
   },
   "source": [
    "## 5.1 Lấy mẫu dữ liệu\n",
    "\n",
    "Ở phần này chúng ta sẽ so sánh ba phương pháp lấy mẫu sau đây, rồi từ đó chọn ra phương pháp tốt nhất có thể cho việc cải tiến mô hình:\n",
    "\n",
    "- Under-sampling\n",
    "\n",
    "- Over-sampling\n",
    "\n",
    "- Kết hợp 2 phương pháp under và over-sampling\n",
    "\n",
    "Việc lấy mẫu được thực hiện bằng các hàm trong thư viện [imblearn](https://imbalanced-learn.org/stable/install.html), nếu chưa cài đặt xin học viên hãy cài đặt trước khi thực hiện các bước tiếp theo"
   ]
  },
  {
   "cell_type": "markdown",
   "metadata": {
    "id": "4Iqzwh9m9Tpq"
   },
   "source": [
    "### 5.1.1 Phương pháp under-sampling\n",
    "\n",
    "Định nghĩa bộ tham số của các phương lấy mẫu, các phương pháp được sử dụng ở phần này bao gồm:\n",
    "\n",
    "- [Random under-sampling](https://imbalanced-learn.org/stable/references/generated/imblearn.under_sampling.RandomUnderSampler.html#imblearn.under_sampling.RandomUnderSampler)\n",
    "\n",
    "- [Edited Nearest Neighbour](https://imbalanced-learn.org/stable/references/generated/imblearn.under_sampling.EditedNearestNeighbours.html#imblearn.under_sampling.EditedNearestNeighbours)\n",
    "\n",
    "- [Tomek’s links](https://imbalanced-learn.org/stable/references/generated/imblearn.under_sampling.TomekLinks.html#imblearn.under_sampling.TomekLinks)\n",
    "\n",
    "- [AllKNN](https://imbalanced-learn.org/stable/references/generated/imblearn.under_sampling.AllKNN.html#imblearn.under_sampling.AllKNN)"
   ]
  },
  {
   "cell_type": "code",
   "execution_count": null,
   "metadata": {
    "id": "OLIouDTN9Tpq"
   },
   "outputs": [],
   "source": [
    "from imblearn.under_sampling import RandomUnderSampler, EditedNearestNeighbours, TomekLinks, AllKNN"
   ]
  },
  {
   "cell_type": "code",
   "execution_count": null,
   "metadata": {
    "id": "3ARe9noe9Tpq"
   },
   "outputs": [],
   "source": [
    "## Requirement 15:\n",
    "## PUT YOUR CODE HERE:\n",
    "\n",
    "undersampler_dict = {\n",
    "\n",
    "    'random': RandomUnderSampler(\n",
    "        sampling_strategy='auto',\n",
    "        random_state=0,\n",
    "        replacement=False),\n",
    "\n",
    "    'tomek': TomekLinks(\n",
    "        sampling_strategy='auto',\n",
    "        n_jobs=4),\n",
    "\n",
    "    'enn': EditedNearestNeighbours(\n",
    "        sampling_strategy='auto',\n",
    "        n_neighbors=3,\n",
    "        kind_sel='all',\n",
    "        n_jobs=4),\n",
    "\n",
    "    'allknn': AllKNN(\n",
    "        sampling_strategy='auto',\n",
    "        n_neighbors=3,\n",
    "        kind_sel='all',\n",
    "        n_jobs=4),\n",
    "\n",
    "}"
   ]
  },
  {
   "cell_type": "markdown",
   "metadata": {
    "id": "e2_ukCnI1lAE"
   },
   "source": [
    "<details><summary> Hint </summary>\n",
    "\n",
    "- 'random': RandomUnderSampler\n",
    "\n",
    "- 'enn': EditedNearestNeighbours\n",
    "\n",
    "- 'tomek': TomekLinks\n",
    "\n",
    "- 'allknn': AllKNN\n",
    "\n",
    "</details>"
   ]
  },
  {
   "cell_type": "markdown",
   "metadata": {
    "id": "PRxVV9Yb9Tpq"
   },
   "source": [
    "### 5.1.2 Phương pháp over-sampling\n",
    "\n",
    "Định nghĩa bộ tham số của các phương lấy mẫu, các phương pháp được sử dụng ở phần này bao gồm:\n",
    "\n",
    "- [SMOTE](https://imbalanced-learn.org/stable/references/generated/imblearn.over_sampling.SMOTE.html#imblearn.over_sampling.SMOTE)\n",
    "\n",
    "- [Borderline SMOTE](https://imbalanced-learn.org/stable/references/generated/imblearn.over_sampling.BorderlineSMOTE.html#imblearn.over_sampling.BorderlineSMOTE)\n",
    "\n",
    "- [Adaptive Synthetic (ADASYN)](https://imbalanced-learn.org/stable/references/generated/imblearn.over_sampling.ADASYN.html#imblearn.over_sampling.ADASYN)"
   ]
  },
  {
   "cell_type": "code",
   "execution_count": null,
   "metadata": {
    "id": "Lh7NDvos9Tpq"
   },
   "outputs": [],
   "source": [
    "from imblearn.over_sampling import SMOTE, BorderlineSMOTE, ADASYN\n",
    "from sklearn.svm import SVC"
   ]
  },
  {
   "cell_type": "code",
   "execution_count": null,
   "metadata": {
    "id": "5Bxjsjmn9Tpr"
   },
   "outputs": [],
   "source": [
    "## Requirement 16:\n",
    "## PUT YOUR CODE HERE:\n",
    "\n",
    "oversampler_dict = {\n",
    "\n",
    "    'smote': SMOTE(\n",
    "        sampling_strategy='auto',\n",
    "        random_state=0,\n",
    "        k_neighbors=5,\n",
    "        n_jobs=4),\n",
    "\n",
    "    'border1': BorderlineSMOTE(\n",
    "        sampling_strategy='auto',\n",
    "        random_state=0,\n",
    "        k_neighbors=5,\n",
    "        m_neighbors=10,\n",
    "        kind='borderline-1',\n",
    "        n_jobs=4),\n",
    "\n",
    "    'adasyn': ADASYN(\n",
    "        sampling_strategy='auto',\n",
    "        random_state=0,\n",
    "        n_neighbors=5,\n",
    "        n_jobs=4),\n",
    "\n",
    "}"
   ]
  },
  {
   "cell_type": "markdown",
   "metadata": {
    "id": "omm35cYn16uW"
   },
   "source": [
    "<details><summary> Hint </summary>\n",
    "\n",
    "- 'smote': SMOTE\n",
    "\n",
    "- 'border1': BorderlineSMOTE\n",
    "\n",
    "- 'adasyn': ADASYN\n",
    "\n",
    "</details>"
   ]
  },
  {
   "cell_type": "markdown",
   "metadata": {
    "id": "Rgc_lNhR9Tpr"
   },
   "source": [
    "### 5.1.3 Kết hợp 2 phương pháp under và over-sampling\n",
    "\n",
    "Định nghĩa bộ tham số của các phương lấy mẫu, các phương pháp được sử dụng ở phần này bao gồm:\n",
    "\n",
    "- [SMOTEENN](https://imbalanced-learn.org/stable/references/generated/imblearn.combine.SMOTEENN.html#)\n",
    "\n",
    "- [SMOTETomek](https://imbalanced-learn.org/stable/references/generated/imblearn.combine.SMOTETomek.html)"
   ]
  },
  {
   "cell_type": "code",
   "execution_count": null,
   "metadata": {
    "id": "Oc7Ztq_L9Tpr"
   },
   "outputs": [],
   "source": [
    "from imblearn.combine import SMOTEENN, SMOTETomek"
   ]
  },
  {
   "cell_type": "markdown",
   "metadata": {
    "id": "FOJ-I_YkrgB6"
   },
   "source": []
  },
  {
   "cell_type": "code",
   "execution_count": null,
   "metadata": {
    "id": "RGcOMMjF9Tps"
   },
   "outputs": [],
   "source": [
    "## Requirement 17:\n",
    "## PUT YOUR CODE HERE:\n",
    "\n",
    "under_oversampler_dict = {\n",
    "\n",
    "    'smenn': SMOTEENN(\n",
    "        sampling_strategy='auto',\n",
    "        random_state=0,\n",
    "        smote=SMOTE(sampling_strategy='auto', random_state=0, k_neighbors=5),\n",
    "        enn=EditedNearestNeighbours(\n",
    "            sampling_strategy='auto', n_neighbors=3, kind_sel='all'),\n",
    "        n_jobs=4),\n",
    "\n",
    "    'smtomek': SMOTETomek(\n",
    "        sampling_strategy='auto',\n",
    "        random_state=0,\n",
    "        smote=SMOTE(sampling_strategy='auto', random_state=0, k_neighbors=5),\n",
    "        tomek=TomekLinks(sampling_strategy='all'),\n",
    "        n_jobs=4),\n",
    "\n",
    "}"
   ]
  },
  {
   "cell_type": "markdown",
   "metadata": {
    "id": "CaxgvP0N2JJH"
   },
   "source": [
    "<details><summary> Hint </summary>\n",
    "\n",
    "- 'smenn': SMOTEENN\n",
    "\n",
    "- 'smtomek': SMOTETomek\n",
    "\n",
    "</details>"
   ]
  },
  {
   "cell_type": "markdown",
   "metadata": {
    "id": "qc52Fiyu9Tpu"
   },
   "source": [
    "## 5.2 Huấn luyện các mô hình cơ sở\n",
    "\n",
    "Ở phần này chúng ta sẽ so sánh kết quả của một vài mô hình cơ sở để tìm ra phương pháp lấy mẫu nào là tốt nhất dựa trên các phương pháp đã liệt kê trước đó, việc so sánh được dựa trên chỉ số **ROC-AUC**"
   ]
  },
  {
   "cell_type": "markdown",
   "metadata": {
    "id": "iF6w92e8Jdbk"
   },
   "source": [
    "- Định nghĩa hàm số trả về kết quả so sánh của các phương pháp lấy mẫu, chúng ta cũng sẽ trả về kết quả của tập dữ liệu gốc để làm chuẩn so sánh"
   ]
  },
  {
   "cell_type": "code",
   "execution_count": null,
   "metadata": {
    "id": "wBogb3v49Tpt"
   },
   "outputs": [],
   "source": [
    "from sklearn.metrics import roc_auc_score\n",
    "\n",
    "## Requirement 18:\n",
    "## PUT YOUR CODE HERE:\n",
    "\n",
    "def run_models(model, X_train, y_train, undersampler_dict, oversampler_dict, under_oversampler_dict):\n",
    "\n",
    "    results_dict = {}\n",
    "    clf = model\n",
    "\n",
    "    # full data\n",
    "\n",
    "    clf.fit(X_train, y_train)\n",
    "    y_pred = clf.predict_proba(X_train)\n",
    "    roc = roc_auc_score(y_train, y_pred[:, 1])\n",
    "\n",
    "    results_dict['full_data'] = roc\n",
    "\n",
    "    # under-sampling\n",
    "    for sampler in undersampler_dict.keys():\n",
    "\n",
    "        # resample\n",
    "        X_resampled, y_resampled = undersampler_dict[sampler].fit_resample(X_train, y_train)\n",
    "\n",
    "        # evaluate performance\n",
    "        clf.fit(X_resampled, y_resampled)\n",
    "        y_pred = clf.predict_proba(X_resampled)\n",
    "        roc = roc_auc_score(y_resampled, y_pred[:, 1])\n",
    "\n",
    "        #store results\n",
    "        results_dict[sampler] = roc\n",
    "\n",
    "    # over-sampling\n",
    "    for sampler in oversampler_dict.keys():\n",
    "\n",
    "        # resample\n",
    "        X_resampled, y_resampled = oversampler_dict[sampler].fit_resample(X_train, y_train)\n",
    "\n",
    "        # evaluate performance\n",
    "        clf.fit(X_resampled, y_resampled)\n",
    "        y_pred = clf.predict_proba(X_resampled)\n",
    "        roc = roc_auc_score(y_resampled, y_pred[:, 1])\n",
    "\n",
    "        #store results\n",
    "        results_dict[sampler] = roc\n",
    "\n",
    "    # under + over-sampling\n",
    "    for sampler in under_oversampler_dict.keys():\n",
    "\n",
    "        # resample\n",
    "        X_resampled, y_resampled = under_oversampler_dict[sampler].fit_resample(X_train, y_train)\n",
    "\n",
    "        # evaluate performance\n",
    "        clf.fit(X_resampled, y_resampled)\n",
    "        y_pred = clf.predict_proba(X_resampled)\n",
    "        roc = roc_auc_score(y_resampled, y_pred[:, 1])\n",
    "\n",
    "        #store results\n",
    "        results_dict[sampler] = roc\n",
    "\n",
    "    return results_dict"
   ]
  },
  {
   "cell_type": "markdown",
   "metadata": {
    "id": "360jR8uRoVmJ"
   },
   "source": [
    "<details><summary> Hint </summary>\n",
    "\n",
    "Using ```roc_auc_score()```\n",
    "\n",
    "</details>"
   ]
  },
  {
   "cell_type": "markdown",
   "metadata": {
    "id": "hZvpMt8OJjCD"
   },
   "source": [
    "Load các mô hình cơ bản"
   ]
  },
  {
   "cell_type": "code",
   "execution_count": null,
   "metadata": {
    "id": "e-e4VPdP9Tpu"
   },
   "outputs": [],
   "source": [
    "from sklearn.linear_model import LogisticRegression\n",
    "from sklearn.neighbors import KNeighborsClassifier\n",
    "from sklearn.tree import DecisionTreeClassifier\n",
    "from sklearn.neural_network import MLPClassifier\n",
    "from sklearn.ensemble import RandomForestClassifier"
   ]
  },
  {
   "cell_type": "markdown",
   "metadata": {
    "id": "SSezXqFlJlNu"
   },
   "source": [
    "### 5.2.1 Logistic Regression"
   ]
  },
  {
   "cell_type": "code",
   "execution_count": null,
   "metadata": {
    "colab": {
     "base_uri": "https://localhost:8080/",
     "height": 769
    },
    "id": "bv_4AMpl9Tpu",
    "outputId": "e607f31f-f93c-49ec-ff6a-c9c6fff8a298"
   },
   "outputs": [
    {
     "data": {
      "image/png": "[encoded data removed]",
      "text/plain": [
       "<Figure size 1000x800 with 1 Axes>"
      ]
     },
     "metadata": {},
     "output_type": "display_data"
    },
    {
     "name": "stdout",
     "output_type": "stream",
     "text": [
      "{'full_data': 0.7343989367894639, 'random': 0.734753644536555, 'tomek': 0.7385921437367975, 'enn': 0.7568197252917214, 'allknn': 0.761142344311517, 'smote': 0.7432968340048939, 'border1': 0.8190521332743472, 'adasyn': 0.7326403935627719, 'smenn': 0.7701970306498508, 'smtomek': 0.7543746133959628}\n"
     ]
    }
   ],
   "source": [
    "## Requirement 19:\n",
    "## PUT YOUR CODE HERE:\n",
    "\n",
    "model = LogisticRegression()\n",
    "results = run_models(model, X_train_scale, train['TARGET'], undersampler_dict, oversampler_dict, under_oversampler_dict)\n",
    "\n",
    "plt.figure(figsize=(10, 8))\n",
    "pd.Series(results).plot.bar()\n",
    "plt.ylabel('roc-auc')\n",
    "plt.ylim(0, 1)\n",
    "plt.axhline(results['full_data'], color='r')\n",
    "plt.show()\n",
    "\n",
    "print(results)"
   ]
  },
  {
   "cell_type": "markdown",
   "metadata": {
    "id": "TK5p2hkOoqoZ"
   },
   "source": [
    "<details><summary> Hint </summary>\n",
    "\n",
    "[LogisticRegression()](https://scikit-learn.org/stable/modules/generated/sklearn.linear_model.LogisticRegression.html)\n",
    "\n",
    "</details>"
   ]
  },
  {
   "cell_type": "markdown",
   "metadata": {
    "id": "UG-cX5w4J6sl"
   },
   "source": [
    "### 5.2.2 K-Nearest Neighbors vote"
   ]
  },
  {
   "cell_type": "code",
   "execution_count": null,
   "metadata": {
    "id": "-Ltpx6dp9Tpv",
    "outputId": "b5480ee1-165a-4812-cb21-73be25a429d2"
   },
   "outputs": [
    {
     "data": {
      "image/png": "[encoded data removed]",
      "text/plain": [
       "<Figure size 1000x800 with 1 Axes>"
      ]
     },
     "metadata": {},
     "output_type": "display_data"
    },
    {
     "name": "stdout",
     "output_type": "stream",
     "text": [
      "{'full_data': 0.9387398250659176, 'random': 0.9084937949156859, 'tomek': 0.9467489579392894, 'enn': 0.9618732444632542, 'allknn': 0.9498622126552779, 'smote': 0.9519115380765675, 'border1': 0.9497696210090386, 'adasyn': 0.9495954081198597, 'smenn': 0.9997467130636982, 'smtomek': 0.9560200030129373}\n"
     ]
    }
   ],
   "source": [
    "## Requirement 20:\n",
    "## PUT YOUR CODE HERE:\n",
    "\n",
    "model = KNeighborsClassifier(n_neighbors=2)\n",
    "results = run_models(model, X_train_scale, train['TARGET'], undersampler_dict, oversampler_dict, under_oversampler_dict)\n",
    "\n",
    "plt.figure(figsize=(10, 8))\n",
    "pd.Series(results).plot.bar()\n",
    "plt.ylabel('roc-auc')\n",
    "plt.ylim(0, 1)\n",
    "plt.axhline(results['full_data'], color='r')\n",
    "plt.show()\n",
    "\n",
    "print(results)"
   ]
  },
  {
   "cell_type": "markdown",
   "metadata": {
    "id": "ORaS6K-Go29x"
   },
   "source": [
    "<details><summary> Hint </summary>\n",
    "\n",
    "[KNeighborsClassifier()](https://scikit-learn.org/stable/modules/generated/sklearn.neighbors.KNeighborsClassifier.html)\n",
    "\n",
    "</details>"
   ]
  },
  {
   "cell_type": "markdown",
   "metadata": {
    "id": "M5BojgQNKBTs"
   },
   "source": [
    "### 5.2.3 Decision Tree"
   ]
  },
  {
   "cell_type": "code",
   "execution_count": null,
   "metadata": {
    "id": "pffwDxZU9Tpv",
    "outputId": "89af79a6-bf02-4f77-fe99-81c7b6d35831"
   },
   "outputs": [
    {
     "data": {
      "image/png": "[encoded data removed]",
      "text/plain": [
       "<Figure size 1000x800 with 1 Axes>"
      ]
     },
     "metadata": {},
     "output_type": "display_data"
    },
    {
     "name": "stdout",
     "output_type": "stream",
     "text": [
      "{'full_data': 0.9988013983929777, 'random': 0.9992991870968198, 'tomek': 0.9987768044765191, 'enn': 0.9993333065584151, 'allknn': 0.9988938154667347, 'smote': 0.9991835857525474, 'border1': 0.9993537320987851, 'adasyn': 0.9991376254442044, 'smenn': 0.9999999827672423, 'smtomek': 0.9990894561134923}\n"
     ]
    }
   ],
   "source": [
    "## Requirement 21:\n",
    "## PUT YOUR CODE HERE:\n",
    "\n",
    "model = DecisionTreeClassifier(random_state=0)\n",
    "results = run_models(model, X_train_scale, train['TARGET'], undersampler_dict, oversampler_dict, under_oversampler_dict)\n",
    "\n",
    "plt.figure(figsize=(10, 8))\n",
    "pd.Series(results).plot.bar()\n",
    "plt.ylabel('roc-auc')\n",
    "plt.ylim(0, 1)\n",
    "plt.axhline(results['full_data'], color='r')\n",
    "plt.show()\n",
    "\n",
    "print(results)"
   ]
  },
  {
   "cell_type": "markdown",
   "metadata": {
    "id": "i8ur_X2FpDsi"
   },
   "source": [
    "<details><summary> Hint </summary>\n",
    "\n",
    "[DecisionTreeClassifier()](https://scikit-learn.org/stable/modules/generated/sklearn.tree.DecisionTreeClassifier.html)\n",
    "\n",
    "</details>"
   ]
  },
  {
   "cell_type": "markdown",
   "metadata": {
    "id": "8SM-4s1tdHI4"
   },
   "source": [
    "### 5.2.4 Random Forest"
   ]
  },
  {
   "cell_type": "code",
   "execution_count": null,
   "metadata": {
    "id": "b_gYAu_R9Tpw",
    "outputId": "27601f05-cd9b-46f9-d292-a238645e5fc5"
   },
   "outputs": [
    {
     "data": {
      "image/png": "[encoded data removed]",
      "text/plain": [
       "<Figure size 1000x800 with 1 Axes>"
      ]
     },
     "metadata": {},
     "output_type": "display_data"
    },
    {
     "name": "stdout",
     "output_type": "stream",
     "text": [
      "{'full_data': 0.7980808846381708, 'random': 0.8125960979055852, 'tomek': 0.803618304614955, 'enn': 0.8211451236159955, 'allknn': 0.8246028826374203, 'smote': 0.8304102869390508, 'border1': 0.8829486139770523, 'adasyn': 0.8236092207472343, 'smenn': 0.8449218683973605, 'smtomek': 0.844885674829501}\n"
     ]
    }
   ],
   "source": [
    "## Requirement 22:\n",
    "## PUT YOUR CODE HERE:\n",
    "\n",
    "model = RandomForestClassifier(n_estimators=200 , max_depth=3, random_state=0)\n",
    "results = run_models(model, X_train_scale, train['TARGET'], undersampler_dict, oversampler_dict, under_oversampler_dict)\n",
    "\n",
    "plt.figure(figsize=(10, 8))\n",
    "pd.Series(results).plot.bar()\n",
    "plt.ylabel('roc-auc')\n",
    "plt.ylim(0, 1)\n",
    "plt.axhline(results['full_data'], color='r')\n",
    "plt.show()\n",
    "\n",
    "print(results)"
   ]
  },
  {
   "cell_type": "markdown",
   "metadata": {
    "id": "LH859UywpO0T"
   },
   "source": [
    "<details><summary> Hint </summary>\n",
    "\n",
    "[RandomForestClassifier()](https://scikit-learn.org/stable/modules/generated/sklearn.ensemble.RandomForestClassifier.html)\n",
    "\n",
    "</details>"
   ]
  },
  {
   "cell_type": "markdown",
   "metadata": {
    "id": "NB90GmHB9Tpx"
   },
   "source": [
    "### 5.2.5 Neural Network"
   ]
  },
  {
   "cell_type": "code",
   "execution_count": null,
   "metadata": {
    "id": "pYVrfmHx9Tpx",
    "outputId": "307d8c9e-3462-4b9c-ef45-b751b2402cff"
   },
   "outputs": [
    {
     "data": {
      "image/png": "[encoded data removed]",
      "text/plain": [
       "<Figure size 1000x800 with 1 Axes>"
      ]
     },
     "metadata": {},
     "output_type": "display_data"
    },
    {
     "name": "stdout",
     "output_type": "stream",
     "text": [
      "{'full_data': 0.7798009044673215, 'random': 0.759731031964407, 'tomek': 0.7909437561002484, 'enn': 0.8137511662458718, 'allknn': 0.8220923361381505, 'smote': 0.805033030344545, 'border1': 0.8796934754841605, 'adasyn': 0.7935995806394955, 'smenn': 0.8262840716355282, 'smtomek': 0.8239292869752004}\n"
     ]
    }
   ],
   "source": [
    "## Requirement 23:\n",
    "## PUT YOUR CODE HERE:\n",
    "\n",
    "model = MLPClassifier(hidden_layer_sizes=(10, 5, ), activation='logistic', max_iter=300)\n",
    "results = run_models(model, X_train_scale, train['TARGET'], undersampler_dict, oversampler_dict, under_oversampler_dict)\n",
    "\n",
    "plt.figure(figsize=(10, 8))\n",
    "pd.Series(results).plot.bar()\n",
    "plt.ylabel('roc-auc')\n",
    "plt.ylim(0, 1)\n",
    "plt.axhline(results['full_data'], color='r')\n",
    "plt.show()\n",
    "\n",
    "print(results)"
   ]
  },
  {
   "cell_type": "markdown",
   "metadata": {
    "id": "XoOllpZipgGz"
   },
   "source": [
    "<details><summary> Hint </summary>\n",
    "\n",
    "[MLPClassifier()](https://scikit-learn.org/stable/modules/generated/sklearn.neural_network.MLPClassifier.html)\n",
    "\n",
    "</details>"
   ]
  },
  {
   "cell_type": "markdown",
   "metadata": {
    "id": "ihKalt5kMZVF"
   },
   "source": [
    "- Học viên ghi các kết quả có được vào bảng sau"
   ]
  },
  {
   "cell_type": "markdown",
   "metadata": {
    "id": "ZTQ0EElBMZp2"
   },
   "source": [
    "### Kết quả (1)\n",
    "\n",
    "| Model | Phương pháp lấy mẫu có ROC-AUC cao nhất |\n",
    "| --- | ----------- |\n",
    "| Logistic Regression |   |\n",
    "| KNN |   |\n",
    "| Decision Tree |  x |\n",
    "| Random Forest |   |\n",
    "| Neural Network |   |"
   ]
  },
  {
   "cell_type": "markdown",
   "metadata": {
    "id": "IzGtl3SPKT1_"
   },
   "source": [
    "**Kết quả:**\n",
    "\n",
    "- Dựa trên các kết quả thu được, có thể thấy rõ ràng phương pháp lấy mẫu có cho ra kết quả tốt hay không còn phụ thuộc vào việc mô hình chúng ta đang sử dụng là mô hình nào, không có một phương pháp lấy mẫu nào là tốt nhất cho tất cả các mô hình. Học viên nên tìm hiểu thêm về mối liên hệ giữa các phương pháp lấy mẫu và mô hình học máy để có thể cho ra kết quả dự đoán tốt hơn"
   ]
  },
  {
   "cell_type": "markdown",
   "metadata": {
    "id": "vxIJWytM9Tpv"
   },
   "source": [
    "## 5.3 Các phương pháp kết hợp mô hình\n",
    "\n",
    "Ở phần này chúng ta sẽ thực hiện các phương pháp kết hợp mô hình để cải thiện kết quả."
   ]
  },
  {
   "cell_type": "markdown",
   "metadata": {
    "id": "boYpsiXjLXkk"
   },
   "source": [
    "- Thực hiện việc lấy mẫu dữ liệu với phương pháp **Borderline SMOTE** (do cách lấy mẫu này cho ra kết quả khá tốt trên các mô hình đơn lẻ ở phần trước)"
   ]
  },
  {
   "cell_type": "code",
   "execution_count": null,
   "metadata": {
    "id": "_6xV72Tm9Tpv"
   },
   "outputs": [],
   "source": [
    "## Requirement 24:\n",
    "## PUT YOUR CODE HERE:\n",
    "\n",
    "sampler = BorderlineSMOTE(\n",
    "            sampling_strategy='auto',\n",
    "            random_state=0,\n",
    "            k_neighbors=5,\n",
    "            m_neighbors=10,\n",
    "            kind='borderline-1',\n",
    "            n_jobs=4)\n",
    "\n",
    "X_resampled, y_resampled = sampler.fit_resample(X_train_scale, train['TARGET'])"
   ]
  },
  {
   "cell_type": "markdown",
   "metadata": {
    "id": "VE3-vMU4p2Bb"
   },
   "source": [
    "<details><summary> Hint </summary>\n",
    "\n",
    "[BorderlineSMOTE()](https://imbalanced-learn.org/dev/references/generated/imblearn.over_sampling.BorderlineSMOTE.html)\n",
    "\n",
    "</details>"
   ]
  },
  {
   "cell_type": "markdown",
   "metadata": {
    "id": "XMkObjNIL3Ln"
   },
   "source": [
    "- Định nghĩa các mô hình ensemble"
   ]
  },
  {
   "cell_type": "code",
   "execution_count": null,
   "metadata": {
    "id": "ZawqmlfA9Tpv"
   },
   "outputs": [],
   "source": [
    "from xgboost import XGBClassifier\n",
    "from sklearn.ensemble import BaggingClassifier, AdaBoostClassifier, GradientBoostingClassifier, StackingClassifier"
   ]
  },
  {
   "cell_type": "markdown",
   "metadata": {
    "id": "QQWLOeXu9Tpw"
   },
   "source": [
    "### 5.3.2 Bagging\n",
    "\n",
    "Các mô hình được sử dụng ở phần này là:"
   ]
  },
  {
   "cell_type": "markdown",
   "metadata": {
    "id": "iL4HHrgs6Uh5"
   },
   "source": [
    "- Bagging với Decision Tree"
   ]
  },
  {
   "cell_type": "code",
   "execution_count": null,
   "metadata": {
    "id": "DyUIAewJ9Tpw",
    "outputId": "3b86dcfb-8591-4852-cc66-bb8c57edd21f"
   },
   "outputs": [
    {
     "data": {
      "text/plain": [
       "0.9978246830490792"
      ]
     },
     "execution_count": 44,
     "metadata": {},
     "output_type": "execute_result"
    }
   ],
   "source": [
    "## Requirement 25:\n",
    "## PUT YOUR CODE HERE:\n",
    "\n",
    "model = BaggingClassifier(base_estimator=DecisionTreeClassifier(random_state=0))\n",
    "\n",
    "model.fit(X_resampled, y_resampled)\n",
    "y_pred = model.predict_proba(X_resampled)\n",
    "roc_auc_score(y_resampled, y_pred[:, 1])"
   ]
  },
  {
   "cell_type": "markdown",
   "metadata": {
    "id": "E52xSLVQqBFk"
   },
   "source": [
    "<details><summary> Hint </summary>\n",
    "\n",
    "[BaggingClassifier()](https://scikit-learn.org/stable/modules/generated/sklearn.ensemble.BaggingClassifier.html)\n",
    "\n",
    "[DecisionTreeClassifier()](https://scikit-learn.org/stable/modules/generated/sklearn.tree.DecisionTreeClassifier.html)\n",
    "\n",
    "</details>"
   ]
  },
  {
   "cell_type": "markdown",
   "metadata": {
    "id": "qznsQcDt6Uh5"
   },
   "source": [
    "- Lưu kết quả dự đoán trên tập test của mô hình này vào file CSV để submit kết quả lên Kaggle"
   ]
  },
  {
   "cell_type": "code",
   "execution_count": null,
   "metadata": {
    "id": "oYtkoY8P6Uh5"
   },
   "outputs": [],
   "source": [
    "probs = model.predict_proba(X_test_scale)\n",
    "\n",
    "submission = pd.DataFrame({\"ID\":test_id, \"TARGET\": probs[:,1]})\n",
    "submission.to_csv(\"bagging_gaussian_submission.csv\", index=False)"
   ]
  },
  {
   "cell_type": "markdown",
   "metadata": {
    "id": "cbsB04pm6Uh6"
   },
   "source": [
    "- Bagging với Logistic Regression"
   ]
  },
  {
   "cell_type": "code",
   "execution_count": null,
   "metadata": {
    "id": "6wobzilmdYZt",
    "outputId": "0c6ef2bc-ca44-4f1e-db18-9936896c823d"
   },
   "outputs": [
    {
     "data": {
      "text/plain": [
       "0.8180057428496341"
      ]
     },
     "execution_count": 45,
     "metadata": {},
     "output_type": "execute_result"
    }
   ],
   "source": [
    "## Requirement 26:\n",
    "## PUT YOUR CODE HERE:\n",
    "\n",
    "model = BaggingClassifier(base_estimator=LogisticRegression())\n",
    "\n",
    "model.fit(X_resampled, y_resampled)\n",
    "y_pred = model.predict_proba(X_resampled)\n",
    "roc_auc_score(y_resampled, y_pred[:, 1])"
   ]
  },
  {
   "cell_type": "markdown",
   "metadata": {
    "id": "sNzUUiUrqZSY"
   },
   "source": [
    "<details><summary> Hint </summary>\n",
    "\n",
    "[BaggingClassifier()](https://scikit-learn.org/stable/modules/generated/sklearn.ensemble.BaggingClassifier.html)\n",
    "\n",
    "[LogisticRegression()](https://scikit-learn.org/stable/modules/generated/sklearn.linear_model.LogisticRegression.html)\n",
    "\n",
    "</details>"
   ]
  },
  {
   "cell_type": "markdown",
   "metadata": {
    "id": "puRt8sOM6Uh6"
   },
   "source": [
    "Lưu kết quả dự đoán trên tập test của mô hình này vào file CSV để submit kết quả lên Kaggle"
   ]
  },
  {
   "cell_type": "code",
   "execution_count": null,
   "metadata": {
    "id": "s7Y3PD5W6Uh6"
   },
   "outputs": [],
   "source": [
    "## Requirement 27:\n",
    "## PUT YOUR CODE HERE:\n",
    "\n",
    "probs = model.predict_proba(X_test_scale)\n",
    "\n",
    "submission = pd.DataFrame({\"ID\":test_id, \"TARGET\": probs[:,1]})\n",
    "submission.to_csv(\"bagging_logistic_submission.csv\", index=False)"
   ]
  },
  {
   "cell_type": "markdown",
   "metadata": {
    "id": "TwRDyPET9Tpw"
   },
   "source": [
    "### 5.3.2 Boosting\n",
    "\n",
    "Các mô hình được sử dụng ở phần này là:\n",
    "\n",
    "- AdaBoost\n",
    "\n",
    "- GradientBoost\n",
    "\n",
    "- XGBoost"
   ]
  },
  {
   "cell_type": "markdown",
   "metadata": {
    "id": "7k70Ge00fPhd"
   },
   "source": [
    "- AdaBoost"
   ]
  },
  {
   "cell_type": "code",
   "execution_count": null,
   "metadata": {
    "id": "SuZqXfib9Tpw",
    "outputId": "0e17a1de-aaa8-4440-ac54-3f9fe93cdae2"
   },
   "outputs": [
    {
     "data": {
      "text/plain": [
       "0.8968799621234087"
      ]
     },
     "execution_count": 46,
     "metadata": {},
     "output_type": "execute_result"
    }
   ],
   "source": [
    "## Requirement 28:\n",
    "## PUT YOUR CODE HERE:\n",
    "\n",
    "model = AdaBoostClassifier()\n",
    "\n",
    "model.fit(X_resampled, y_resampled)\n",
    "y_pred = model.predict_proba(X_resampled)\n",
    "roc_auc_score(y_resampled, y_pred[:, 1])"
   ]
  },
  {
   "cell_type": "markdown",
   "metadata": {
    "id": "ddGe3A1OqoyS"
   },
   "source": [
    "<details><summary> Hint </summary>\n",
    "\n",
    "[AdaBoostClassifier()](https://scikit-learn.org/stable/modules/generated/sklearn.ensemble.AdaBoostClassifier.html)\n",
    "\n",
    "</details>"
   ]
  },
  {
   "cell_type": "markdown",
   "metadata": {
    "id": "XtHrq3OCfGEL"
   },
   "source": [
    "- Lưu kết quả dự đoán trên tập test của mô hình này vào file CSV để submit kết quả lên Kaggle"
   ]
  },
  {
   "cell_type": "code",
   "execution_count": null,
   "metadata": {
    "id": "SE4Dq6f2fDlp"
   },
   "outputs": [],
   "source": [
    "## Requirement 29:\n",
    "## PUT YOUR CODE HERE:\n",
    "\n",
    "probs = model.predict_proba(X_test_scale)\n",
    "\n",
    "submission = pd.DataFrame({\"ID\":test_id, \"TARGET\": probs[:,1]})\n",
    "submission.to_csv(\"adaboost_submission.csv\", index=False)"
   ]
  },
  {
   "cell_type": "markdown",
   "metadata": {
    "id": "xgdd57d2fSrT"
   },
   "source": [
    "- GradientBoosting"
   ]
  },
  {
   "cell_type": "code",
   "execution_count": null,
   "metadata": {
    "id": "WN_jdKbU9Tpw",
    "outputId": "ebf5c0d8-1e33-461a-9f11-9d8fb3d1a242"
   },
   "outputs": [
    {
     "data": {
      "text/plain": [
       "0.9200502740537846"
      ]
     },
     "execution_count": 72,
     "metadata": {},
     "output_type": "execute_result"
    }
   ],
   "source": [
    "## Requirement 30:\n",
    "## PUT YOUR CODE HERE:\n",
    "\n",
    "model = GradientBoostingClassifier()\n",
    "\n",
    "model.fit(X_resampled, y_resampled)\n",
    "y_pred = model.predict_proba(X_resampled)\n",
    "roc_auc_score(y_resampled, y_pred[:, 1])"
   ]
  },
  {
   "cell_type": "markdown",
   "metadata": {
    "id": "LBT3HkNBq1la"
   },
   "source": [
    "<details><summary> Hint </summary>\n",
    "\n",
    "[GradientBoostingClassifier()](https://scikit-learn.org/stable/modules/generated/sklearn.ensemble.GradientBoostingClassifier.html)\n",
    "\n",
    "</details>"
   ]
  },
  {
   "cell_type": "markdown",
   "metadata": {
    "id": "fj0m2FSze-d1"
   },
   "source": [
    "- Lưu kết quả dự đoán trên tập test của mô hình này vào file CSV để submit kết quả lên Kaggle"
   ]
  },
  {
   "cell_type": "code",
   "execution_count": null,
   "metadata": {
    "id": "yZubFH4Ye_oY"
   },
   "outputs": [],
   "source": [
    "## Requirement 31:\n",
    "## PUT YOUR CODE HERE:\n",
    "\n",
    "probs = model.predict_proba(X_test_scale)\n",
    "\n",
    "submission = pd.DataFrame({\"ID\":test_id, \"TARGET\": probs[:,1]})\n",
    "submission.to_csv(\"gradientboost_submission.csv\", index=False)"
   ]
  },
  {
   "cell_type": "markdown",
   "metadata": {
    "id": "KHTHZ4BMfUDt"
   },
   "source": [
    "- XGBoost"
   ]
  },
  {
   "cell_type": "code",
   "execution_count": null,
   "metadata": {
    "id": "D5P20Gfa9Tpw",
    "outputId": "9880ff8c-2bf0-43b4-f551-a30c8fc534ea"
   },
   "outputs": [
    {
     "data": {
      "text/plain": [
       "0.9369055476761254"
      ]
     },
     "execution_count": 74,
     "metadata": {},
     "output_type": "execute_result"
    }
   ],
   "source": [
    "## Requirement 32:\n",
    "## PUT YOUR CODE HERE:\n",
    "\n",
    "model= XGBClassifier(missing=np.nan, max_depth=5, n_estimators=350,\n",
    "                     learning_rate=0.03, nthread=4, subsample=0.95,\n",
    "                     colsample_bytree=0.85, seed=0)\n",
    "model.fit(X_resampled, y_resampled, eval_metric=\"auc\", verbose = False)\n",
    "#            eval_set=[(X_test, y_test)])\n",
    "y_pred = model.predict_proba(X_resampled)\n",
    "roc_auc_score(y_resampled, y_pred[:, 1])"
   ]
  },
  {
   "cell_type": "markdown",
   "metadata": {
    "id": "dE8AcdFLrSCe"
   },
   "source": [
    "<details><summary> Hint </summary>\n",
    "\n",
    "[XGBClassifier()](https://xgboost.readthedocs.io/en/latest/python/python_api.html#xgboost.XGBClassifier)\n",
    "\n",
    "</details>"
   ]
  },
  {
   "cell_type": "markdown",
   "metadata": {
    "id": "pa6UH9CVe0Nv"
   },
   "source": [
    "- Lưu kết quả dự đoán trên tập test của mô hình này vào file CSV để submit kết quả lên Kaggle"
   ]
  },
  {
   "cell_type": "code",
   "execution_count": null,
   "metadata": {
    "id": "WKU6O4Fae04T"
   },
   "outputs": [],
   "source": [
    "## Requirement 33:\n",
    "## PUT YOUR CODE HERE:\n",
    "probs = model.predict_proba(X_test_scale)\n",
    "\n",
    "submission = pd.DataFrame({\"ID\":test_id, \"TARGET\": probs[:,1]})\n",
    "submission.to_csv(\"xgboost_submission.csv\", index=False)"
   ]
  },
  {
   "cell_type": "markdown",
   "metadata": {
    "id": "auyGyn3V9Tpx"
   },
   "source": [
    "### 5.3.3 Stacking\n",
    "\n",
    "Học viên có thể đọc thêm về phương pháp stacking ở [đây](https://machinelearningmastery.com/stacking-ensemble-machine-learning-with-python/)"
   ]
  },
  {
   "cell_type": "code",
   "execution_count": null,
   "metadata": {
    "id": "uvdDssdq9Tpx",
    "outputId": "6fafbe66-87cf-482f-ff2a-db7271ff4810"
   },
   "outputs": [
    {
     "data": {
      "text/plain": [
       "0.9986802655028862"
      ]
     },
     "execution_count": 78,
     "metadata": {},
     "output_type": "execute_result"
    }
   ],
   "source": [
    "## Requirement 34:\n",
    "## PUT YOUR CODE HERE:\n",
    "from sklearn.naive_bayes import GaussianNB\n",
    "estimators = [\n",
    "    ('rf', RandomForestClassifier()),\n",
    "    ('gb', GaussianNB()),\n",
    "    ('kn', KNeighborsClassifier(n_neighbors=2))\n",
    "]\n",
    "\n",
    "model = StackingClassifier(estimators=estimators, final_estimator=LogisticRegression())\n",
    "\n",
    "model.fit(X_resampled, y_resampled)\n",
    "y_pred = model.predict_proba(X_resampled)\n",
    "roc_auc_score(y_resampled, y_pred[:, 1])"
   ]
  },
  {
   "cell_type": "markdown",
   "metadata": {
    "id": "T2Qt2E4arg_X"
   },
   "source": [
    "<details><summary> Hint </summary>\n",
    "\n",
    "[StackingClassifier()](https://scikit-learn.org/stable/modules/generated/sklearn.ensemble.StackingClassifier.html)\n",
    "\n",
    "</details>"
   ]
  },
  {
   "cell_type": "markdown",
   "metadata": {
    "id": "-IlgW8eIOood"
   },
   "source": [
    "Lưu kết quả dự đoán trên tập test của mô hình này vào file CSV để submit kết quả lên Kaggle"
   ]
  },
  {
   "cell_type": "code",
   "execution_count": null,
   "metadata": {
    "id": "udwcJgNJ9Tpy"
   },
   "outputs": [],
   "source": [
    "## Requirement 35:\n",
    "## PUT YOUR CODE HERE:\n",
    "\n",
    "probs = model.predict_proba(X_test_scale)\n",
    "\n",
    "submission = pd.DataFrame({\"id\":test_id, \"TARGET\": probs[:,1]})\n",
    "submission.to_csv(\"stacking_submission.csv\", index=False)"
   ]
  },
  {
   "cell_type": "markdown",
   "metadata": {
    "id": "Ts1XSMzhgpoE"
   },
   "source": [
    "### 5.3.4 Average\n",
    "\n",
    "Chúng ta sẽ lấy trung bình trọng số của dự đoán của tập hợp các mô hình khác nhau."
   ]
  },
  {
   "cell_type": "markdown",
   "metadata": {
    "id": "FVXUGtX5hDeQ"
   },
   "source": [
    "- Mô hình 1: [RUSBoostClassifier()](https://imbalanced-learn.org/stable/references/generated/imblearn.ensemble.RUSBoostClassifier.html)"
   ]
  },
  {
   "cell_type": "code",
   "execution_count": null,
   "metadata": {
    "id": "aqF78EhUxRPp"
   },
   "outputs": [],
   "source": [
    "from imblearn.ensemble import RUSBoostClassifier"
   ]
  },
  {
   "cell_type": "code",
   "execution_count": null,
   "metadata": {
    "id": "QI_aOVNihB8Y",
    "outputId": "74e37c80-e780-4b55-b150-7249d12b261b"
   },
   "outputs": [
    {
     "data": {
      "text/plain": [
       "0.8077916285037959"
      ]
     },
     "execution_count": 82,
     "metadata": {},
     "output_type": "execute_result"
    }
   ],
   "source": [
    "## Requirement 36:\n",
    "## PUT YOUR CODE HERE:\n",
    "\n",
    "model_1 = RUSBoostClassifier(\n",
    "              base_estimator=None,\n",
    "              n_estimators=20,\n",
    "              learning_rate=1.0,\n",
    "              sampling_strategy='auto',\n",
    "              random_state=2909,\n",
    "          )\n",
    "\n",
    "model_1.fit(X_train_scale, train['TARGET'])\n",
    "y_pred = model_1.predict_proba(X_train_scale)\n",
    "roc_auc_score(train['TARGET'], y_pred[:, 1])"
   ]
  },
  {
   "cell_type": "code",
   "execution_count": null,
   "metadata": {
    "id": "haKnaCukhB-l"
   },
   "outputs": [],
   "source": [
    "probs_1 = model_1.predict_proba(X_test_scale)"
   ]
  },
  {
   "cell_type": "markdown",
   "metadata": {
    "id": "uusSz-Crhvb-"
   },
   "source": [
    "- Mô hình 2: [EasyEnsembleClassifier()](https://imbalanced-learn.org/stable/references/generated/imblearn.ensemble.EasyEnsembleClassifier.html)"
   ]
  },
  {
   "cell_type": "code",
   "execution_count": null,
   "metadata": {
    "id": "7CwFjX8txRPp"
   },
   "outputs": [],
   "source": [
    "from imblearn.ensemble import EasyEnsembleClassifier"
   ]
  },
  {
   "cell_type": "code",
   "execution_count": null,
   "metadata": {
    "id": "SwfaqjvbhCA8",
    "outputId": "fb297773-4b28-4a2a-dbda-0c8d123199e0"
   },
   "outputs": [
    {
     "data": {
      "text/plain": [
       "0.8166564456833678"
      ]
     },
     "execution_count": 88,
     "metadata": {},
     "output_type": "execute_result"
    }
   ],
   "source": [
    "## Requirement 37:\n",
    "## PUT YOUR CODE HERE:\n",
    "\n",
    "model_2 = EasyEnsembleClassifier(\n",
    "            n_estimators=20,\n",
    "            sampling_strategy='auto',\n",
    "            n_jobs=4,\n",
    "            random_state=2909,\n",
    "          )\n",
    "\n",
    "model_2.fit(X_train_scale, train['TARGET'])\n",
    "y_pred = model_2.predict_proba(X_train_scale)\n",
    "roc_auc_score(train['TARGET'], y_pred[:, 1])"
   ]
  },
  {
   "cell_type": "code",
   "execution_count": null,
   "metadata": {
    "id": "yXnVT-w4hCDZ"
   },
   "outputs": [],
   "source": [
    "probs_2 = model_2.predict_proba(X_test_scale)"
   ]
  },
  {
   "cell_type": "markdown",
   "metadata": {
    "id": "_BO7M80FiLxe"
   },
   "source": [
    "- Mô hình 3: [XGBClassifier()](https://xgboost.readthedocs.io/en/latest/python/python_api.html#xgboost.XGBClassifier)"
   ]
  },
  {
   "cell_type": "code",
   "execution_count": null,
   "metadata": {
    "id": "KEMvKhHkh__f",
    "outputId": "c67bde0c-1cb7-4c50-a8fe-9d1235d0a4d9"
   },
   "outputs": [
    {
     "data": {
      "text/plain": [
       "0.8577663061398534"
      ]
     },
     "execution_count": 92,
     "metadata": {},
     "output_type": "execute_result"
    }
   ],
   "source": [
    "## Requirement 38:\n",
    "## PUT YOUR CODE HERE:\n",
    "\n",
    "model_3 = XGBClassifier(missing=np.nan, max_depth=5, n_estimators=350,\n",
    "                     learning_rate=0.03, nthread=4, subsample=0.95,\n",
    "                     colsample_bytree=0.85, seed=0)\n",
    "\n",
    "model_3.fit(X_train_scale, train['TARGET'], eval_metric=\"auc\", verbose = False)\n",
    "y_pred = model_3.predict_proba(X_train_scale)\n",
    "roc_auc_score(train['TARGET'], y_pred[:, 1])"
   ]
  },
  {
   "cell_type": "code",
   "execution_count": null,
   "metadata": {
    "id": "G3VggL4KiexL"
   },
   "outputs": [],
   "source": [
    "probs_3 = model_3.predict_proba(X_test_scale)"
   ]
  },
  {
   "cell_type": "markdown",
   "metadata": {
    "id": "01PI6Sa1if49"
   },
   "source": [
    "- Lấy trung bình kết quả đầu ra"
   ]
  },
  {
   "cell_type": "code",
   "execution_count": null,
   "metadata": {
    "id": "KVas3iPbih96"
   },
   "outputs": [],
   "source": [
    "## Requirement 39:\n",
    "## PUT YOUR CODE HERE:\n",
    "\n",
    "probs = (0.1*probs_1 + 0.1*probs_2 + 0.8*probs_3)\n",
    "submission = pd.DataFrame({\"id\":test_id, \"TARGET\": probs[:,1]})\n",
    "submission.to_csv(\"average_submission.csv\", index=False)"
   ]
  },
  {
   "cell_type": "markdown",
   "metadata": {
    "id": "3glvnkq0Lavi"
   },
   "source": [
    "- Học viên ghi các kết quả có được trên tập huấn luyện vào bảng sau"
   ]
  },
  {
   "cell_type": "markdown",
   "metadata": {
    "id": "egLhfQLsLaxz"
   },
   "source": [
    "### Kết quả (2)\n",
    "\n",
    "| Model | ROC-AUC |\n",
    "| --- | ----------- |\n",
    "| Bagging với Decision Tree | 0.9978 |\n",
    "| Bagging với Logistic Regression |0.8180 |\n",
    "| AdaBoost | 0.8969  |\n",
    "| Gradient Boosting | 0.9200  |\n",
    "| XGBoost |  0.9369 |\n",
    "| Stacking | 0.9987  |\n",
    "| Average Ensemble |  0.8577 |"
   ]
  },
  {
   "cell_type": "markdown",
   "metadata": {
    "id": "j4MNomTF9Tpz"
   },
   "source": [
    "# 6.Save mô hình và submit lên Kaggle\n",
    "\n",
    "- Như học viên đã thấy, việc tìm kiếm bộ tham số tối ưu cho mạng Neural mất rất nhiều thời gian, cho nên chúng ta sẽ lưu mô hình đã được tối ưu lại và tái sử dụng nó để tạo ra kết quả submit lên Kaggle"
   ]
  },
  {
   "cell_type": "code",
   "execution_count": null,
   "metadata": {
    "id": "ldTjHp9P9Tpz"
   },
   "outputs": [],
   "source": [
    "from joblib import dump, load"
   ]
  },
  {
   "cell_type": "markdown",
   "metadata": {
    "id": "HSrH92pWRkdG"
   },
   "source": [
    "- Gọi lại mô hình XGBoost ở phần trước"
   ]
  },
  {
   "cell_type": "code",
   "execution_count": null,
   "metadata": {
    "id": "_rxEtkyv9Tpz",
    "outputId": "b13c2e5f-75e2-4c78-d4d6-cb92ff72ed2e"
   },
   "outputs": [
    {
     "data": {
      "text/html": [
       "<style>#sk-container-id-1 {color: black;}#sk-container-id-1 pre{padding: 0;}#sk-container-id-1 div.sk-toggleable {background-color: white;}#sk-container-id-1 label.sk-toggleable__label {cursor: pointer;display: block;width: 100%;margin-bottom: 0;padding: 0.3em;box-sizing: border-box;text-align: center;}#sk-container-id-1 label.sk-toggleable__label-arrow:before {content: \"▸\";float: left;margin-right: 0.25em;color: #696969;}#sk-container-id-1 label.sk-toggleable__label-arrow:hover:before {color: black;}#sk-container-id-1 div.sk-estimator:hover label.sk-toggleable__label-arrow:before {color: black;}#sk-container-id-1 div.sk-toggleable__content {max-height: 0;max-width: 0;overflow: hidden;text-align: left;background-color: #f0f8ff;}#sk-container-id-1 div.sk-toggleable__content pre {margin: 0.2em;color: black;border-radius: 0.25em;background-color: #f0f8ff;}#sk-container-id-1 input.sk-toggleable__control:checked~div.sk-toggleable__content {max-height: 200px;max-width: 100%;overflow: auto;}#sk-container-id-1 input.sk-toggleable__control:checked~label.sk-toggleable__label-arrow:before {content: \"▾\";}#sk-container-id-1 div.sk-estimator input.sk-toggleable__control:checked~label.sk-toggleable__label {background-color: #d4ebff;}#sk-container-id-1 div.sk-label input.sk-toggleable__control:checked~label.sk-toggleable__label {background-color: #d4ebff;}#sk-container-id-1 input.sk-hidden--visually {border: 0;clip: rect(1px 1px 1px 1px);clip: rect(1px, 1px, 1px, 1px);height: 1px;margin: -1px;overflow: hidden;padding: 0;position: absolute;width: 1px;}#sk-container-id-1 div.sk-estimator {font-family: monospace;background-color: #f0f8ff;border: 1px dotted black;border-radius: 0.25em;box-sizing: border-box;margin-bottom: 0.5em;}#sk-container-id-1 div.sk-estimator:hover {background-color: #d4ebff;}#sk-container-id-1 div.sk-parallel-item::after {content: \"\";width: 100%;border-bottom: 1px solid gray;flex-grow: 1;}#sk-container-id-1 div.sk-label:hover label.sk-toggleable__label {background-color: #d4ebff;}#sk-container-id-1 div.sk-serial::before {content: \"\";position: absolute;border-left: 1px solid gray;box-sizing: border-box;top: 0;bottom: 0;left: 50%;z-index: 0;}#sk-container-id-1 div.sk-serial {display: flex;flex-direction: column;align-items: center;background-color: white;padding-right: 0.2em;padding-left: 0.2em;position: relative;}#sk-container-id-1 div.sk-item {position: relative;z-index: 1;}#sk-container-id-1 div.sk-parallel {display: flex;align-items: stretch;justify-content: center;background-color: white;position: relative;}#sk-container-id-1 div.sk-item::before, #sk-container-id-1 div.sk-parallel-item::before {content: \"\";position: absolute;border-left: 1px solid gray;box-sizing: border-box;top: 0;bottom: 0;left: 50%;z-index: -1;}#sk-container-id-1 div.sk-parallel-item {display: flex;flex-direction: column;z-index: 1;position: relative;background-color: white;}#sk-container-id-1 div.sk-parallel-item:first-child::after {align-self: flex-end;width: 50%;}#sk-container-id-1 div.sk-parallel-item:last-child::after {align-self: flex-start;width: 50%;}#sk-container-id-1 div.sk-parallel-item:only-child::after {width: 0;}#sk-container-id-1 div.sk-dashed-wrapped {border: 1px dashed gray;margin: 0 0.4em 0.5em 0.4em;box-sizing: border-box;padding-bottom: 0.4em;background-color: white;}#sk-container-id-1 div.sk-label label {font-family: monospace;font-weight: bold;display: inline-block;line-height: 1.2em;}#sk-container-id-1 div.sk-label-container {text-align: center;}#sk-container-id-1 div.sk-container {/* jupyter's `normalize.less` sets `[hidden] { display: none; }` but bootstrap.min.css set `[hidden] { display: none !important; }` so we also need the `!important` here to be able to override the default hidden behavior on the sphinx rendered scikit-learn.org. See: https://github.com/scikit-learn/scikit-learn/issues/21755 */display: inline-block !important;position: relative;}#sk-container-id-1 div.sk-text-repr-fallback {display: none;}</style><div id=\"sk-container-id-1\" class=\"sk-top-container\"><div class=\"sk-text-repr-fallback\"><pre>XGBClassifier(base_score=None, booster=None, callbacks=None,\n",
       "              colsample_bylevel=None, colsample_bynode=None,\n",
       "              colsample_bytree=0.85, device=None, early_stopping_rounds=None,\n",
       "              enable_categorical=False, eval_metric=None, feature_types=None,\n",
       "              gamma=None, grow_policy=None, importance_type=None,\n",
       "              interaction_constraints=None, learning_rate=0.03, max_bin=None,\n",
       "              max_cat_threshold=None, max_cat_to_onehot=None,\n",
       "              max_delta_step=None, max_depth=5, max_leaves=None,\n",
       "              min_child_weight=None, missing=nan, monotone_constraints=None,\n",
       "              multi_strategy=None, n_estimators=350, n_jobs=None, nthread=4,\n",
       "              num_parallel_tree=None, ...)</pre><b>In a Jupyter environment, please rerun this cell to show the HTML representation or trust the notebook. <br />On GitHub, the HTML representation is unable to render, please try loading this page with nbviewer.org.</b></div><div class=\"sk-container\" hidden><div class=\"sk-item\"><div class=\"sk-estimator sk-toggleable\"><input class=\"sk-toggleable__control sk-hidden--visually\" id=\"sk-estimator-id-1\" type=\"checkbox\" checked><label for=\"sk-estimator-id-1\" class=\"sk-toggleable__label sk-toggleable__label-arrow\">XGBClassifier</label><div class=\"sk-toggleable__content\"><pre>XGBClassifier(base_score=None, booster=None, callbacks=None,\n",
       "              colsample_bylevel=None, colsample_bynode=None,\n",
       "              colsample_bytree=0.85, device=None, early_stopping_rounds=None,\n",
       "              enable_categorical=False, eval_metric=None, feature_types=None,\n",
       "              gamma=None, grow_policy=None, importance_type=None,\n",
       "              interaction_constraints=None, learning_rate=0.03, max_bin=None,\n",
       "              max_cat_threshold=None, max_cat_to_onehot=None,\n",
       "              max_delta_step=None, max_depth=5, max_leaves=None,\n",
       "              min_child_weight=None, missing=nan, monotone_constraints=None,\n",
       "              multi_strategy=None, n_estimators=350, n_jobs=None, nthread=4,\n",
       "              num_parallel_tree=None, ...)</pre></div></div></div></div></div>"
      ],
      "text/plain": [
       "XGBClassifier(base_score=None, booster=None, callbacks=None,\n",
       "              colsample_bylevel=None, colsample_bynode=None,\n",
       "              colsample_bytree=0.85, device=None, early_stopping_rounds=None,\n",
       "              enable_categorical=False, eval_metric=None, feature_types=None,\n",
       "              gamma=None, grow_policy=None, importance_type=None,\n",
       "              interaction_constraints=None, learning_rate=0.03, max_bin=None,\n",
       "              max_cat_threshold=None, max_cat_to_onehot=None,\n",
       "              max_delta_step=None, max_depth=5, max_leaves=None,\n",
       "              min_child_weight=None, missing=nan, monotone_constraints=None,\n",
       "              multi_strategy=None, n_estimators=350, n_jobs=None, nthread=4,\n",
       "              num_parallel_tree=None, ...)"
      ]
     },
     "execution_count": 96,
     "metadata": {},
     "output_type": "execute_result"
    }
   ],
   "source": [
    "model_3"
   ]
  },
  {
   "cell_type": "markdown",
   "metadata": {
    "id": "0MRrJ7P6RY7K"
   },
   "source": [
    "- Lưu mô hình"
   ]
  },
  {
   "cell_type": "code",
   "execution_count": null,
   "metadata": {
    "id": "2shDlrZo9Tp0",
    "outputId": "82dcabeb-a047-408c-b80d-f19393e4598a"
   },
   "outputs": [
    {
     "data": {
      "text/plain": [
       "['xgboost.joblib']"
      ]
     },
     "execution_count": 97,
     "metadata": {},
     "output_type": "execute_result"
    }
   ],
   "source": [
    "## Requirement 40:\n",
    "## PUT YOUR CODE HERE:\n",
    "\n",
    "dump(model_3, 'xgboost.joblib')"
   ]
  },
  {
   "cell_type": "markdown",
   "metadata": {
    "id": "40DFwek4snHK"
   },
   "source": [
    "<details><summary> Hint </summary>\n",
    "\n",
    "[dump()](https://scikit-learn.org/stable/modules/model_persistence.html)\n",
    "\n",
    "</details>"
   ]
  },
  {
   "cell_type": "markdown",
   "metadata": {
    "id": "hmRjDl2QRcAk"
   },
   "source": [
    "- Load mô hình"
   ]
  },
  {
   "cell_type": "code",
   "execution_count": null,
   "metadata": {
    "id": "iIZbMJvq9Tp1"
   },
   "outputs": [],
   "source": [
    "## Requirement 41:\n",
    "## PUT YOUR CODE HERE:\n",
    "\n",
    "model_load = load('xgboost.joblib')"
   ]
  },
  {
   "cell_type": "markdown",
   "metadata": {
    "id": "Aj2-10pUsrPP"
   },
   "source": [
    "<details><summary> Hint </summary>\n",
    "\n",
    "[load()](https://scikit-learn.org/stable/modules/model_persistence.html)\n",
    "\n",
    "</details>"
   ]
  },
  {
   "cell_type": "code",
   "execution_count": null,
   "metadata": {
    "id": "0I7cbKX99Tp3",
    "outputId": "0fbf2c59-7e69-423c-b13a-b30372067b1a"
   },
   "outputs": [
    {
     "data": {
      "text/plain": [
       "0.8577663061398534"
      ]
     },
     "execution_count": 102,
     "metadata": {},
     "output_type": "execute_result"
    }
   ],
   "source": [
    "## Requirement 42:\n",
    "## PUT YOUR CODE HERE:\n",
    "\n",
    "probs = model_load.predict_proba(X_train_scale)\n",
    "\n",
    "roc_auc_score(train['TARGET'], probs[:, 1])"
   ]
  },
  {
   "cell_type": "markdown",
   "metadata": {
    "id": "kR8jZOoM6UiA"
   },
   "source": [
    "- Kế tiếp chúng ta sẽ submit các kết quả thu được ở trên lên Kaggle, kết quả trên kaggle cho ra mức **~top 60%**. Học viên sẽ **chèn kết quả submit** của mình thay thế cho ảnh dưới đây"
   ]
  },
  {
   "cell_type": "markdown",
   "metadata": {
    "id": "VkjHK8z19Tp3"
   },
   "source": [
    "## Ảnh kết quả trên Kaggle\n",
    "\n",
    "![Submission](images/submit_kaggle.png)\n"
   ]
  },
  {
   "cell_type": "markdown",
   "metadata": {
    "id": "dmXFBpEPRqGS"
   },
   "source": [
    "Dựa vào kết quả submit chúng ta có thể thấy rằng:\n",
    "\n",
    "- Các mô hình cho ra kết quả rất tốt trên tập huấn luyện nhưng đôi khi lại cho ra kết quả không tốt trong thực tế, đó là hiện tượng **Quá Khớp (Overfitting)**\n",
    "\n",
    "- Việc xác định mô hình nào tốt hơn phụ thuộc vào rất nhiều yếu tố, trong đó có sự ảnh hưởng của việc xử lý dữ liệu trước khi đưa vào huấn luyện\n",
    "\n",
    "- Đối với bài toán này, các mô hình Boosting cho ra kết quả vượt trội hơn so với các phương pháp kết hợp mô hình khác. Học viên có thể chú trọng vào các kỹ thuật cải tiến mô hình Boosting nếu muốn cho ra kết quả tốt hơn nữa."
   ]
  },
  {
   "cell_type": "markdown",
   "metadata": {
    "id": "EUNGjwjb9Tp3"
   },
   "source": [
    "# 7.Phần Nâng cao - Cải tiến mô hình\n",
    "\n",
    "Phần này học viên sẽ tự thực hiện việc cải tiến kết quả dự đoán của mô hình để cho ra kết quả tốt hơn ở phần trước. Tức là điểm số trên Kaggle của học viên phải vượt qua **0.8246 (Public Score), > top 50%**. Một vài phương pháp được đề xuất để học viên lựa chọn là:\n",
    "\n",
    "- Thay đổi phương pháp lựa chọn đặc trưng để chọn ra bộ đặc trưng tốt hơn\n",
    "\n",
    "- Sử dụng phương pháp khác để xử lý vấn đề mất cân bằng dữ liệu\n",
    "\n",
    "- Sử dụng các mô hình học máy khác hoặc các kỹ thuật kết hợp mô hình nâng cao\n",
    "\n",
    "- Tập trung vào việc cải tiến các mô hình Boosting\n",
    "\n",
    "- Tinh chỉnh các tham số của mô hình\n",
    "\n",
    "- Sử dụng các kỹ thuật K-Fold hoặc chia nhỏ tập train để tránh hiện tượng Overfitting"
   ]
  },
  {
   "cell_type": "markdown",
   "metadata": {
    "id": "1iHzYEak9Tp3"
   },
   "source": [
    "## 7.1 Phần bài làm của học viên"
   ]
  },
  {
   "cell_type": "markdown",
   "metadata": {
    "id": "YBx7V-KLk-yF"
   },
   "source": [
    "### 1.Lựa chọn đặc trưng bằng phương pháp Random Forest"
   ]
  },
  {
   "cell_type": "code",
   "execution_count": null,
   "metadata": {
    "id": "go_AYVBk9Tp4"
   },
   "outputs": [],
   "source": [
    "sel_ = SelectFromModel(RandomForestClassifier(n_estimators=10, random_state=10))\n",
    "\n",
    "sel_.fit(X_train_dropconstant, train['TARGET'])\n",
    "\n",
    "X_train_selected = sel_.transform(X_train_dropconstant)\n",
    "X_test_selected = sel_.transform(X_test_dropconstant)"
   ]
  },
  {
   "cell_type": "markdown",
   "metadata": {
    "id": "3Pmxwhk5RVPW"
   },
   "source": [
    "Số lượng feature được chọn"
   ]
  },
  {
   "cell_type": "code",
   "execution_count": null,
   "metadata": {
    "colab": {
     "base_uri": "https://localhost:8080/"
    },
    "id": "HIef9A9uk-yG",
    "outputId": "1232d019-8a98-4f23-e6d8-825f60bc9393"
   },
   "outputs": [
    {
     "data": {
      "text/plain": [
       "7"
      ]
     },
     "execution_count": 38,
     "metadata": {},
     "output_type": "execute_result"
    }
   ],
   "source": [
    "len(X_train_dropconstant.columns[sel_.get_support()])"
   ]
  },
  {
   "cell_type": "code",
   "execution_count": null,
   "metadata": {
    "colab": {
     "base_uri": "https://localhost:8080/"
    },
    "id": "50vK42ONk-yH",
    "outputId": "aad47b23-260d-4101-c431-51330a462114"
   },
   "outputs": [
    {
     "data": {
      "text/plain": [
       "Index(['var15', 'saldo_var30', 'num_var45_ult3', 'saldo_medio_var5_hace2',\n",
       "       'saldo_medio_var5_hace3', 'saldo_medio_var5_ult3', 'var38'],\n",
       "      dtype='object')"
      ]
     },
     "execution_count": 39,
     "metadata": {},
     "output_type": "execute_result"
    }
   ],
   "source": [
    "X_train_dropconstant.columns[sel_.get_support()]"
   ]
  },
  {
   "cell_type": "markdown",
   "metadata": {
    "id": "srr__WHd9Tp4"
   },
   "source": [
    "### 2.Co giãn đặc trưng"
   ]
  },
  {
   "cell_type": "code",
   "execution_count": null,
   "metadata": {
    "id": "xvpLXG9I9Tp4"
   },
   "outputs": [],
   "source": [
    "scaler = StandardScaler()\n",
    "\n",
    "scaler.fit(X_train_selected)\n",
    "\n",
    "X_train_scale = scaler.transform(X_train_selected)\n",
    "X_test_scale = scaler.transform(X_test_selected)"
   ]
  },
  {
   "cell_type": "markdown",
   "metadata": {
    "id": "8FT9FnA2k-yJ"
   },
   "source": [
    "###  3.Lấy mẫu dữ liệu"
   ]
  },
  {
   "cell_type": "markdown",
   "metadata": {
    "id": "T-GydNLbRuzh"
   },
   "source": [
    "#### Phương pháp under-sampling"
   ]
  },
  {
   "cell_type": "code",
   "execution_count": null,
   "metadata": {
    "id": "_vZns88uk-yK"
   },
   "outputs": [],
   "source": [
    "from imblearn.under_sampling import CondensedNearestNeighbour"
   ]
  },
  {
   "cell_type": "code",
   "execution_count": null,
   "metadata": {
    "id": "37Bjyabsk-yK"
   },
   "outputs": [],
   "source": [
    "undersampler_dict = {\n",
    "\n",
    "    'random': RandomUnderSampler(\n",
    "        sampling_strategy='auto',\n",
    "        random_state=0,\n",
    "        replacement=False),\n",
    "\n",
    "    'tomek': TomekLinks(\n",
    "        sampling_strategy='auto',\n",
    "        n_jobs=4),\n",
    "\n",
    "    'enn': EditedNearestNeighbours(\n",
    "        sampling_strategy='auto',\n",
    "        n_neighbors=3,\n",
    "        kind_sel='all',\n",
    "        n_jobs=4),\n",
    "\n",
    "    'allknn': AllKNN(\n",
    "        sampling_strategy='auto',\n",
    "        n_neighbors=3,\n",
    "        kind_sel='all',\n",
    "        n_jobs=4),\n",
    "}"
   ]
  },
  {
   "cell_type": "markdown",
   "metadata": {
    "id": "lyKtnDfgR2i5"
   },
   "source": [
    "#### Phương pháp over-sampling"
   ]
  },
  {
   "cell_type": "code",
   "execution_count": null,
   "metadata": {
    "id": "Fvw3HnQEk-yL"
   },
   "outputs": [],
   "source": [
    "oversampler_dict = {\n",
    "\n",
    "    'smote': SMOTE(\n",
    "        sampling_strategy='auto',\n",
    "        random_state=0,\n",
    "        k_neighbors=5,\n",
    "        n_jobs=4),\n",
    "\n",
    "    'border1': BorderlineSMOTE(\n",
    "        sampling_strategy='auto',\n",
    "        random_state=0,\n",
    "        k_neighbors=5,\n",
    "        m_neighbors=10,\n",
    "        kind='borderline-1',\n",
    "        n_jobs=4),\n",
    "\n",
    "    'border2': BorderlineSMOTE(\n",
    "        sampling_strategy='auto',\n",
    "        random_state=0,\n",
    "        k_neighbors=5,\n",
    "        m_neighbors=10,\n",
    "        kind='borderline-2',\n",
    "        n_jobs=4),\n",
    "\n",
    "    'adasyn': ADASYN(\n",
    "        sampling_strategy='auto',\n",
    "        random_state=0,\n",
    "        n_neighbors=5,\n",
    "        n_jobs=4),\n",
    "\n",
    "}"
   ]
  },
  {
   "cell_type": "markdown",
   "metadata": {
    "id": "w5gKXx49R72X"
   },
   "source": [
    "#### Kết hợp 2 phương pháp under và over-sampling"
   ]
  },
  {
   "cell_type": "code",
   "execution_count": null,
   "metadata": {
    "id": "UccpWu1Sk-yL"
   },
   "outputs": [],
   "source": [
    "under_oversampler_dict = {\n",
    "\n",
    "    'smenn': SMOTEENN(\n",
    "        sampling_strategy='auto',\n",
    "        random_state=0,\n",
    "        smote=SMOTE(sampling_strategy='auto', random_state=0, k_neighbors=5),\n",
    "        enn=EditedNearestNeighbours(\n",
    "            sampling_strategy='auto', n_neighbors=3, kind_sel='all'),\n",
    "        n_jobs=4),\n",
    "\n",
    "    'smtomek': SMOTETomek(\n",
    "        sampling_strategy='auto',\n",
    "        random_state=0,\n",
    "        smote=SMOTE(sampling_strategy='auto', random_state=0, k_neighbors=5),\n",
    "        tomek=TomekLinks(sampling_strategy='all'),\n",
    "        n_jobs=4),\n",
    "\n",
    "}"
   ]
  },
  {
   "cell_type": "markdown",
   "metadata": {
    "id": "clLZ5oGek-yM"
   },
   "source": [
    "### 4.Huấn luyện các mô hình cơ sở"
   ]
  },
  {
   "cell_type": "markdown",
   "metadata": {
    "id": "KzfIrETeSILY"
   },
   "source": [
    "So sánh kết quả của một vài mô hình cơ sở kết hợp kiểm định chéo K-fold để tìm ra phương pháp lấy mẫu nào là tốt nhất"
   ]
  },
  {
   "cell_type": "code",
   "execution_count": null,
   "metadata": {
    "id": "L0Jot04wk-yM"
   },
   "outputs": [],
   "source": [
    "from sklearn.metrics import roc_auc_score\n",
    "from sklearn.model_selection import cross_val_score\n",
    "\n",
    "def run_models(model, X_train, y_train, undersampler_dict, oversampler_dict, under_oversampler_dict):\n",
    "\n",
    "    results_dict = {}\n",
    "\n",
    "    # full data\n",
    "\n",
    "    roc = cross_val_score(model, X_train, y_train, cv=5, scoring = 'roc_auc')\n",
    "    results_dict['full_data'] = roc.mean()\n",
    "\n",
    "    # under-sampling\n",
    "    for sampler in undersampler_dict.keys():\n",
    "\n",
    "        # resample\n",
    "        X_resampled, y_resampled = undersampler_dict[sampler].fit_resample(X_train, y_train)\n",
    "\n",
    "        # evaluate performance\n",
    "        roc = cross_val_score(model, X_resampled, y_resampled, cv=5, scoring = 'roc_auc')\n",
    "        #store results\n",
    "        results_dict[sampler] = roc.mean()\n",
    "\n",
    "    # over-sampling\n",
    "    for sampler in oversampler_dict.keys():\n",
    "\n",
    "        # resample\n",
    "        X_resampled, y_resampled = oversampler_dict[sampler].fit_resample(X_train, y_train)\n",
    "\n",
    "        # evaluate performance\n",
    "        roc = cross_val_score(model, X_resampled, y_resampled, cv=5, scoring = 'roc_auc')\n",
    "        #store results\n",
    "        results_dict[sampler] = roc.mean()\n",
    "\n",
    "    # under + over-sampling\n",
    "    for sampler in under_oversampler_dict.keys():\n",
    "\n",
    "        # resample\n",
    "        X_resampled, y_resampled = under_oversampler_dict[sampler].fit_resample(X_train, y_train)\n",
    "\n",
    "        # evaluate performance\n",
    "        roc = cross_val_score(model, X_resampled, y_resampled, cv=5, scoring = 'roc_auc')\n",
    "\n",
    "        #store results\n",
    "        results_dict[sampler] = roc.mean()\n",
    "\n",
    "    return results_dict"
   ]
  },
  {
   "cell_type": "markdown",
   "metadata": {
    "id": "PCoR_TeFk-yN"
   },
   "source": [
    "#### Logistic Regression"
   ]
  },
  {
   "cell_type": "code",
   "execution_count": null,
   "metadata": {
    "colab": {
     "base_uri": "https://localhost:8080/",
     "height": 769
    },
    "id": "Hy8hqTs0k-yO",
    "outputId": "8463b16d-371f-4827-b603-9e318c862285"
   },
   "outputs": [
    {
     "data": {
      "image/png": "[encoded data removed]",
      "text/plain": [
       "<Figure size 1000x800 with 1 Axes>"
      ]
     },
     "metadata": {},
     "output_type": "display_data"
    },
    {
     "name": "stdout",
     "output_type": "stream",
     "text": [
      "{'full_data': 0.755704085147605, 'random': 0.7577347375680474, 'tomek': 0.7605327815709721, 'enn': 0.7827792271361739, 'allknn': 0.7889634294302791, 'smote': 0.7595722448586469, 'border1': 0.8456307809936217, 'border2': 0.7975982931392165, 'adasyn': 0.7489009868261448, 'smenn': 0.7868032233419392, 'smtomek': 0.7713435543273908}\n"
     ]
    }
   ],
   "source": [
    "model = LogisticRegression()\n",
    "results = run_models(model, X_train_scale, train['TARGET'], undersampler_dict, oversampler_dict, under_oversampler_dict)\n",
    "\n",
    "plt.figure(figsize=(10, 8))\n",
    "pd.Series(results).plot.bar()\n",
    "plt.ylabel('roc-auc')\n",
    "plt.ylim(0, 1)\n",
    "plt.axhline(results['full_data'], color='r')\n",
    "plt.show()\n",
    "\n",
    "print(results)"
   ]
  },
  {
   "cell_type": "markdown",
   "metadata": {
    "id": "I_ewPgs_UTVB"
   },
   "source": [
    "#### K-Nearest Neighbors"
   ]
  },
  {
   "cell_type": "code",
   "execution_count": null,
   "metadata": {
    "colab": {
     "base_uri": "https://localhost:8080/",
     "height": 769
    },
    "id": "vVqBrq5BUFyJ",
    "outputId": "6bd4abec-0c4d-40a7-d652-fa45f372198b"
   },
   "outputs": [
    {
     "data": {
      "image/png": "[encoded data removed]",
      "text/plain": [
       "<Figure size 1000x800 with 1 Axes>"
      ]
     },
     "metadata": {},
     "output_type": "display_data"
    },
    {
     "name": "stdout",
     "output_type": "stream",
     "text": [
      "{'full_data': 0.5568446963300268, 'random': 0.681220371521282, 'tomek': 0.5884040512836859, 'enn': 0.6853536258029316, 'allknn': 0.6991961137709458, 'smote': 0.8687651109684367, 'border1': 0.9008241941979758, 'border2': 0.8702230227500192, 'adasyn': 0.8214425841374459, 'smenn': 0.9627459718803308, 'smtomek': 0.8954718616904161}\n"
     ]
    }
   ],
   "source": [
    "model = KNeighborsClassifier(n_neighbors=2)\n",
    "results = run_models(model, X_train_scale, train['TARGET'], undersampler_dict, oversampler_dict, under_oversampler_dict)\n",
    "\n",
    "plt.figure(figsize=(10, 8))\n",
    "pd.Series(results).plot.bar()\n",
    "plt.ylabel('roc-auc')\n",
    "plt.ylim(0, 1)\n",
    "plt.axhline(results['full_data'], color='r')\n",
    "plt.show()\n",
    "\n",
    "print(results)"
   ]
  },
  {
   "cell_type": "markdown",
   "metadata": {
    "id": "16luHzDYTzis"
   },
   "source": [
    "#### Decision Tree"
   ]
  },
  {
   "cell_type": "code",
   "execution_count": null,
   "metadata": {
    "colab": {
     "base_uri": "https://localhost:8080/",
     "height": 769
    },
    "id": "zEpTKPd-k-yP",
    "outputId": "a92c036e-abb4-49d4-e70f-7a322b65393b"
   },
   "outputs": [
    {
     "data": {
      "image/png": "[encoded data removed]",
      "text/plain": [
       "<Figure size 1000x800 with 1 Axes>"
      ]
     },
     "metadata": {},
     "output_type": "display_data"
    },
    {
     "name": "stdout",
     "output_type": "stream",
     "text": [
      "{'full_data': 0.5713776454084711, 'random': 0.6713246393775594, 'tomek': 0.5898308749171249, 'enn': 0.6295673462660251, 'allknn': 0.6445788180325736, 'smote': 0.8861612249453875, 'border1': 0.9202079871614763, 'border2': 0.8889122654728363, 'adasyn': 0.8434039910699326, 'smenn': 0.9235290576305324, 'smtomek': 0.9139761163207505}\n"
     ]
    }
   ],
   "source": [
    "model = DecisionTreeClassifier(random_state=0)\n",
    "results = run_models(model, X_train_scale, train['TARGET'], undersampler_dict, oversampler_dict, under_oversampler_dict)\n",
    "\n",
    "plt.figure(figsize=(10, 8))\n",
    "pd.Series(results).plot.bar()\n",
    "plt.ylabel('roc-auc')\n",
    "plt.ylim(0, 1)\n",
    "plt.axhline(results['full_data'], color='r')\n",
    "plt.show()\n",
    "\n",
    "print(results)"
   ]
  },
  {
   "cell_type": "markdown",
   "metadata": {
    "id": "OYG5VSnST9Lm"
   },
   "source": [
    "#### Random Forest"
   ]
  },
  {
   "cell_type": "code",
   "execution_count": null,
   "metadata": {
    "colab": {
     "base_uri": "https://localhost:8080/",
     "height": 769
    },
    "id": "JqAA_4VTk-yP",
    "outputId": "a3cae0e8-7fbc-46d6-b072-f6acc27785c5"
   },
   "outputs": [
    {
     "data": {
      "image/png": "[encoded data removed]",
      "text/plain": [
       "<Figure size 1000x800 with 1 Axes>"
      ]
     },
     "metadata": {},
     "output_type": "display_data"
    },
    {
     "name": "stdout",
     "output_type": "stream",
     "text": [
      "{'full_data': 0.7457097461333025, 'random': 0.7987992096813438, 'tomek': 0.766064835123737, 'enn': 0.8216068245793094, 'allknn': 0.8270042902367809, 'smote': 0.9595317304563571, 'border1': 0.9748514697674617, 'border2': 0.9665280182828824, 'adasyn': 0.9366229482401195, 'smenn': 0.986163902639236, 'smtomek': 0.9755194219423501}\n"
     ]
    }
   ],
   "source": [
    "model = RandomForestClassifier()\n",
    "results = run_models(model, X_train_scale, train['TARGET'], undersampler_dict, oversampler_dict, under_oversampler_dict)\n",
    "\n",
    "plt.figure(figsize=(10, 8))\n",
    "pd.Series(results).plot.bar()\n",
    "plt.ylabel('roc-auc')\n",
    "plt.ylim(0, 1)\n",
    "plt.axhline(results['full_data'], color='r')\n",
    "plt.show()\n",
    "\n",
    "print(results)"
   ]
  },
  {
   "cell_type": "markdown",
   "metadata": {
    "id": "irouKnbtVxW6"
   },
   "source": [
    "#### Neural Network"
   ]
  },
  {
   "cell_type": "code",
   "execution_count": null,
   "metadata": {
    "colab": {
     "base_uri": "https://localhost:8080/",
     "height": 769
    },
    "id": "jKUmPr2bVsW7",
    "outputId": "2b9e323b-7fda-401e-e646-f095c4cce828"
   },
   "outputs": [
    {
     "data": {
      "image/png": "[encoded data removed]",
      "text/plain": [
       "<Figure size 1000x800 with 1 Axes>"
      ]
     },
     "metadata": {},
     "output_type": "display_data"
    },
    {
     "name": "stdout",
     "output_type": "stream",
     "text": [
      "{'full_data': 0.787866015733741, 'random': 0.7749203199393159, 'tomek': 0.7944407015010606, 'enn': 0.8193917750632019, 'allknn': 0.8259733180998786, 'smote': 0.8156281986702592, 'border1': 0.8827441127435547, 'border2': 0.8525610875320908, 'adasyn': 0.8024708438920849, 'smenn': 0.8405136773158628, 'smtomek': 0.8339967918575504}\n"
     ]
    }
   ],
   "source": [
    "model = MLPClassifier(hidden_layer_sizes=(10, 5, ), activation='logistic', max_iter=300)\n",
    "results = run_models(model, X_train_scale, train['TARGET'], undersampler_dict, oversampler_dict, under_oversampler_dict)\n",
    "\n",
    "plt.figure(figsize=(10, 8))\n",
    "pd.Series(results).plot.bar()\n",
    "plt.ylabel('roc-auc')\n",
    "plt.ylim(0, 1)\n",
    "plt.axhline(results['full_data'], color='r')\n",
    "plt.show()\n",
    "\n",
    "print(results)"
   ]
  },
  {
   "cell_type": "markdown",
   "metadata": {
    "id": "X0vCE7jBVdML"
   },
   "source": [
    "### 5.Các phương pháp kết hợp mô hình, có điều chỉnh tham số"
   ]
  },
  {
   "cell_type": "markdown",
   "metadata": {
    "id": "AAypsI49Vjh7"
   },
   "source": [
    "Thực hiện việc lấy mẫu dữ liệu với phương pháp Borderline SMOTE"
   ]
  },
  {
   "cell_type": "code",
   "execution_count": null,
   "metadata": {
    "id": "tWs-J3SUk-yQ"
   },
   "outputs": [],
   "source": [
    "sampler = BorderlineSMOTE(\n",
    "            sampling_strategy='auto',\n",
    "            random_state=0,\n",
    "            k_neighbors=5,\n",
    "            m_neighbors=10,\n",
    "            kind='borderline-1',\n",
    "            n_jobs=4)\n",
    "\n",
    "X_resampled, y_resampled = sampler.fit_resample(X_train_scale, train['TARGET'])"
   ]
  },
  {
   "cell_type": "code",
   "execution_count": null,
   "metadata": {
    "id": "wJfGe0rMk-yR"
   },
   "outputs": [],
   "source": [
    "from xgboost import XGBClassifier\n",
    "from sklearn.ensemble import AdaBoostClassifier, GradientBoostingClassifier"
   ]
  },
  {
   "cell_type": "markdown",
   "metadata": {
    "id": "PmsfWHl0gSfT"
   },
   "source": [
    "#### AdaBoost"
   ]
  },
  {
   "cell_type": "code",
   "execution_count": null,
   "metadata": {
    "colab": {
     "base_uri": "https://localhost:8080/"
    },
    "id": "JAmaWFglk-yS",
    "outputId": "01c96896-910e-4271-fe6c-c4aec1cb67dd"
   },
   "outputs": [
    {
     "data": {
      "text/plain": [
       "0.9036980100307587"
      ]
     },
     "execution_count": 145,
     "metadata": {},
     "output_type": "execute_result"
    }
   ],
   "source": [
    "model = AdaBoostClassifier(n_estimators=300, learning_rate=0.1)\n",
    "\n",
    "model.fit(X_resampled, y_resampled)\n",
    "y_pred = model.predict_proba(X_resampled)\n",
    "roc_auc_score(y_resampled, y_pred[:, 1])"
   ]
  },
  {
   "cell_type": "code",
   "execution_count": null,
   "metadata": {
    "id": "55rNtbujZD5r"
   },
   "outputs": [],
   "source": [
    "probs = model.predict_proba(X_test_scale)\n",
    "\n",
    "submission = pd.DataFrame({\"ID\":test_id, \"TARGET\": probs[:,1]})\n",
    "submission.to_csv(\"adaboost_submission_2.csv\", index=False)"
   ]
  },
  {
   "cell_type": "markdown",
   "metadata": {
    "id": "XQlmSnL3hH16"
   },
   "source": [
    "#### GradientBoost"
   ]
  },
  {
   "cell_type": "code",
   "execution_count": null,
   "metadata": {
    "colab": {
     "base_uri": "https://localhost:8080/"
    },
    "id": "w6tOT_HWk-yS",
    "outputId": "c0c6cda3-2850-4f38-f454-c205985cedae"
   },
   "outputs": [
    {
     "data": {
      "text/plain": [
       "0.9364708768384261"
      ]
     },
     "execution_count": 127,
     "metadata": {},
     "output_type": "execute_result"
    }
   ],
   "source": [
    "model = GradientBoostingClassifier(learning_rate=0.01, n_estimators=300, max_depth=6)\n",
    "\n",
    "model.fit(X_resampled, y_resampled)\n",
    "y_pred = model.predict_proba(X_resampled)\n",
    "roc_auc_score(y_resampled, y_pred[:, 1])"
   ]
  },
  {
   "cell_type": "code",
   "execution_count": null,
   "metadata": {
    "id": "yFeXpptUZqRj"
   },
   "outputs": [],
   "source": [
    "probs = model.predict_proba(X_test_scale)\n",
    "\n",
    "submission = pd.DataFrame({\"ID\":test_id, \"TARGET\": probs[:,1]})\n",
    "submission.to_csv(\"gradientboost_submission_2.csv\", index=False)"
   ]
  },
  {
   "cell_type": "markdown",
   "metadata": {
    "id": "yeyjklSNhLIF"
   },
   "source": [
    "#### XGBoost"
   ]
  },
  {
   "cell_type": "code",
   "execution_count": null,
   "metadata": {
    "colab": {
     "base_uri": "https://localhost:8080/"
    },
    "id": "StftegI1k-yU",
    "outputId": "79fd6adb-5de8-4643-e40c-0ad6e2c41dee"
   },
   "outputs": [
    {
     "data": {
      "text/plain": [
       "0.9396397235684346"
      ]
     },
     "execution_count": 135,
     "metadata": {},
     "output_type": "execute_result"
    }
   ],
   "source": [
    "model= XGBClassifier(missing=np.nan, max_depth=6, n_estimators=500,\n",
    "                     learning_rate=0.01, nthread=4, subsample=0.95,\n",
    "                     colsample_bytree=0.85, seed=0)\n",
    "model.fit(X_resampled, y_resampled, eval_metric=\"auc\", verbose = False)\n",
    "\n",
    "y_pred = model.predict_proba(X_resampled)\n",
    "roc_auc_score(y_resampled, y_pred[:, 1])"
   ]
  },
  {
   "cell_type": "code",
   "execution_count": null,
   "metadata": {
    "id": "Jwv_59l9k-yU"
   },
   "outputs": [],
   "source": [
    "probs = model.predict_proba(X_test_scale)\n",
    "\n",
    "submission = pd.DataFrame({\"ID\":test_id, \"TARGET\": probs[:,1]})\n",
    "submission.to_csv(\"xgboost_submission_2.csv\", index=False)"
   ]
  },
  {
   "cell_type": "markdown",
   "metadata": {
    "id": "wbPQnCefireV"
   },
   "source": [
    " #### Average:\n",
    " Lấy trung bình trọng số của dự đoán của tập hợp các mô hình khác nhau"
   ]
  },
  {
   "cell_type": "markdown",
   "metadata": {
    "id": "bOjacqkmi3wM"
   },
   "source": [
    "#### Mô hình 1: RUSBoost"
   ]
  },
  {
   "cell_type": "code",
   "execution_count": null,
   "metadata": {
    "colab": {
     "base_uri": "https://localhost:8080/"
    },
    "id": "Hdq8cn7t_oaf",
    "outputId": "a23028c3-8fb4-4be9-b6db-14f701238ff5"
   },
   "outputs": [
    {
     "data": {
      "text/plain": [
       "0.8289918514560708"
      ]
     },
     "execution_count": 137,
     "metadata": {},
     "output_type": "execute_result"
    }
   ],
   "source": [
    "from imblearn.ensemble import RUSBoostClassifier\n",
    "model_1 = RUSBoostClassifier(\n",
    "              n_estimators=50,\n",
    "              learning_rate=1.0,\n",
    "              sampling_strategy='auto',\n",
    "              random_state=2909,\n",
    "          )\n",
    "\n",
    "model_1.fit(X_train_scale, train['TARGET'])\n",
    "y_pred = model_1.predict_proba(X_train_scale)\n",
    "roc_auc_score(train['TARGET'], y_pred[:, 1])"
   ]
  },
  {
   "cell_type": "code",
   "execution_count": null,
   "metadata": {
    "id": "q0hSfqzk_oiq"
   },
   "outputs": [],
   "source": [
    "probs_1 = model_1.predict_proba(X_test_scale)"
   ]
  },
  {
   "cell_type": "markdown",
   "metadata": {
    "id": "YjIfEQAfi_tB"
   },
   "source": [
    "#### Mô hình 2: EasyEnsemble"
   ]
  },
  {
   "cell_type": "code",
   "execution_count": null,
   "metadata": {
    "colab": {
     "base_uri": "https://localhost:8080/"
    },
    "id": "CAdr3pjY_onm",
    "outputId": "34e50c95-49c5-433a-bb2c-05c509b1307d"
   },
   "outputs": [
    {
     "data": {
      "text/plain": [
       "0.8325677810467764"
      ]
     },
     "execution_count": 139,
     "metadata": {},
     "output_type": "execute_result"
    }
   ],
   "source": [
    "from imblearn.ensemble import EasyEnsembleClassifier\n",
    "model_2 = EasyEnsembleClassifier(\n",
    "            n_estimators=20,\n",
    "            sampling_strategy='auto',\n",
    "            n_jobs=4,\n",
    "            random_state=2909,\n",
    "          )\n",
    "\n",
    "model_2.fit(X_train_scale, train['TARGET'])\n",
    "y_pred = model_2.predict_proba(X_train_scale)\n",
    "roc_auc_score(train['TARGET'], y_pred[:, 1])"
   ]
  },
  {
   "cell_type": "code",
   "execution_count": null,
   "metadata": {
    "id": "QBm3j5rA_osQ"
   },
   "outputs": [],
   "source": [
    "probs_2 = model_2.predict_proba(X_test_scale)"
   ]
  },
  {
   "cell_type": "markdown",
   "metadata": {
    "id": "J8OfkfGajCEW"
   },
   "source": [
    "#### Mô hình 3: XGBClassifier()"
   ]
  },
  {
   "cell_type": "code",
   "execution_count": null,
   "metadata": {
    "colab": {
     "base_uri": "https://localhost:8080/"
    },
    "id": "TkYyy1Tz_oxW",
    "outputId": "ccb9c9da-32d2-4e67-8ce6-2caef693a4c8"
   },
   "outputs": [
    {
     "data": {
      "text/plain": [
       "0.8643782898628729"
      ]
     },
     "execution_count": 142,
     "metadata": {},
     "output_type": "execute_result"
    }
   ],
   "source": [
    "model_3 = XGBClassifier(missing=np.nan, max_depth=6, n_estimators=400,\n",
    "                     learning_rate=0.01, nthread=4, subsample=0.95,\n",
    "                     colsample_bytree=0.85, seed=0)\n",
    "\n",
    "model_3.fit(X_train_scale, train['TARGET'], eval_metric=\"auc\", verbose = False)\n",
    "y_pred = model_3.predict_proba(X_train_scale)\n",
    "roc_auc_score(train['TARGET'], y_pred[:, 1])"
   ]
  },
  {
   "cell_type": "code",
   "execution_count": null,
   "metadata": {
    "id": "gjCwhL5M_1O4"
   },
   "outputs": [],
   "source": [
    "probs_3 = model_3.predict_proba(X_test_scale)"
   ]
  },
  {
   "cell_type": "code",
   "execution_count": null,
   "metadata": {
    "id": "OTUfZuX__1T4"
   },
   "outputs": [],
   "source": [
    "\n",
    "probs = (0.1*probs_1 + 0.1*probs_2 + 0.8*probs_3)\n",
    "submission = pd.DataFrame({\"id\":test_id, \"TARGET\": probs[:,1]})\n",
    "submission.to_csv(\"average_submission_2.csv\", index=False)"
   ]
  },
  {
   "cell_type": "markdown",
   "metadata": {
    "id": "M39nbA5WnhhU"
   },
   "source": [
    "Kết quả submit trên kaggle là 0.83152 (public Score)"
   ]
  },
  {
   "cell_type": "markdown",
   "metadata": {
    "id": "C8NFoaQP9Tp4"
   },
   "source": [
    "## 7.2 Kết quả submit trên Kaggle\n",
    "\n",
    "Học viên chèn ảnh kết quả đã được submit trên Kaggle vào phần này"
   ]
  },
  {
   "cell_type": "markdown",
   "metadata": {
    "id": "oFlNZHPD9Tp4"
   },
   "source": [
    "![Submission](images/submit_kaggle_2.png)\n"
   ]
  },
  {
   "cell_type": "code",
   "execution_count": null,
   "metadata": {},
   "outputs": [],
   "source": []
  }
 ],
 "metadata": {
  "colab": {
   "provenance": []
  },
  "kernelspec": {
   "display_name": "Python 3 (ipykernel)",
   "language": "python",
   "name": "python3"
  },
  "language_info": {
   "codemirror_mode": {
    "name": "ipython",
    "version": 3
   },
   "file_extension": ".py",
   "mimetype": "text/x-python",
   "name": "python",
   "nbconvert_exporter": "python",
   "pygments_lexer": "ipython3",
   "version": "3.12.2"
  }
 },
 "nbformat": 4,
 "nbformat_minor": 4
}
